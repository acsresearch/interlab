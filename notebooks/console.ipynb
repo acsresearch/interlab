{
 "cells": [
  {
   "cell_type": "markdown",
   "id": "ceda2f8f-7c42-490b-a6d6-2e4b9cdd021f",
   "metadata": {},
   "source": [
    "# Web console of models and actors\n",
    "\n",
    "This is a minimalistic demo that does not store the results in a context, but all of the methods can store"
   ]
  },
  {
   "cell_type": "code",
   "execution_count": null,
   "id": "8a96b78d-76b6-4dce-a161-e6bfb318b0c1",
   "metadata": {},
   "outputs": [],
   "source": [
    "%load_ext autoreload\n",
    "%autoreload 2\n",
    "\n",
    "from dataclasses import dataclass, field\n",
    "import enum\n",
    "from interlab.lang_models import WebConsoleModel\n",
    "from interlab.actor import WebConsoleActor"
   ]
  },
  {
   "cell_type": "markdown",
   "id": "4114c1ff-bf1c-456b-a156-1df4018ad8a8",
   "metadata": {},
   "source": [
    "## Emulating a lang model with WebConsoleModel\n",
    "When you execute the `query` method, it waits until you enter a response into the web console just above.\n",
    "\n",
    "Note you can use Ctrl+Enter to submit the message."
   ]
  },
  {
   "cell_type": "code",
   "execution_count": null,
   "id": "0a58e505-6f82-41f7-9221-98c23d1bd0c3",
   "metadata": {},
   "outputs": [],
   "source": [
    "model = WebConsoleModel(\"Web console\")\n",
    "model.display(height=400)"
   ]
  },
  {
   "cell_type": "code",
   "execution_count": null,
   "id": "096624f8-eb42-4d2c-9bd0-85888bf6965d",
   "metadata": {},
   "outputs": [],
   "source": [
    "# This will let you enter your reply in the console, blocking the notebook util you do\n",
    "# You can press Ctrl+Enter to send the message\n",
    "\n",
    "result = model.query(\"How are you?\")\n",
    "print(f\"Returned: {result!r}\")"
   ]
  },
  {
   "cell_type": "markdown",
   "id": "3b9aae7c-46bd-4d40-98bd-21fd4bb3f181",
   "metadata": {},
   "source": [
    "## Emulating an actor with WebConsoleActor\n",
    "\n",
    "Same as above, when you execute the `act` method, it waits until you enter a response into the web console just above.\n",
    "\n",
    "You can use Ctrl+Enter to submit the message."
   ]
  },
  {
   "cell_type": "code",
   "execution_count": null,
   "id": "dbe69a29-624c-40ff-9e9e-766c08537b77",
   "metadata": {},
   "outputs": [],
   "source": [
    "actor = WebConsoleActor(\"Console actor\")\n",
    "actor.display(height=700)"
   ]
  },
  {
   "cell_type": "code",
   "execution_count": null,
   "id": "29cc96d4-357d-4271-8f37-9fa4f3e0ae30",
   "metadata": {},
   "outputs": [],
   "source": [
    "# By default, action type is just `str`\n",
    "\n",
    "a = actor.query(\"How do you plead?\")\n",
    "print(f\"Returned: {a!r}\")"
   ]
  },
  {
   "cell_type": "markdown",
   "id": "6d714cfd-e50f-4738-9c1f-5417ca8316a8",
   "metadata": {},
   "source": [
    "## Asking actors for typed messages \n",
    "\n",
    "Mostly similar to the above, but in the new UI when there is a JSON schema detected, a \n",
    "dynamic, auto-geberated form helps you fill in the response correctly and effortlessly!"
   ]
  },
  {
   "cell_type": "code",
   "execution_count": null,
   "id": "7ef645a2-ae97-4f50-aff4-1c4109531894",
   "metadata": {},
   "outputs": [],
   "source": [
    "# Note: Some features like repettion on validation failure are WIP\n",
    "\n",
    "class DogTitle(enum.Enum):\n",
    "    GB = \"Good boy\"\n",
    "    GG = \"Good girl\"\n",
    "    TBD = \"The Best Dog!\"\n",
    "    \n",
    "@dataclass\n",
    "class Dog:\n",
    "    name: str\n",
    "    friends: list[str] = field(default_factory=list)\n",
    "    age: int | None = None\n",
    "    title: DogTitle = DogTitle.TBD\n",
    "\n",
    "a = actor.query('Enter Dog\\'s data. (you can try {\"name\": \"Lassie\", \"age\": 6})', expected_type=Dog)\n",
    "print(f\"Returned: {a!r}\")"
   ]
  },
  {
   "cell_type": "code",
   "execution_count": null,
   "id": "dbe6f3aa-727b-4c11-ae14-d4ce8ce39539",
   "metadata": {},
   "outputs": [],
   "source": []
  }
 ],
 "metadata": {
  "kernelspec": {
   "display_name": "Python 3 (ipykernel)",
   "language": "python",
   "name": "python3"
  },
  "language_info": {
   "codemirror_mode": {
    "name": "ipython",
    "version": 3
   },
   "file_extension": ".py",
   "mimetype": "text/x-python",
   "name": "python",
   "nbconvert_exporter": "python",
   "pygments_lexer": "ipython3",
   "version": "3.10.12"
  }
 },
 "nbformat": 4,
 "nbformat_minor": 5
}
