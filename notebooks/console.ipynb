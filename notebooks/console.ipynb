{
 "cells": [
  {
   "cell_type": "code",
   "execution_count": 1,
   "id": "8a96b78d-76b6-4dce-a161-e6bfb318b0c1",
   "metadata": {},
   "outputs": [],
   "source": [
    "%load_ext autoreload\n",
    "%autoreload 2\n",
    "\n",
    "from dataclasses import dataclass\n",
    "import enum\n",
    "from interlab.llm.engines import ConsoleEngine\n",
    "from interlab.actors.console_actor import ConsoleActor"
   ]
  },
  {
   "cell_type": "code",
   "execution_count": 2,
   "id": "0a58e505-6f82-41f7-9221-98c23d1bd0c3",
   "metadata": {},
   "outputs": [
    {
     "name": "stderr",
     "output_type": "stream",
     "text": [
      "[2023-07-18 21:10:49,182] INFO(interlab): Created console UI at http://localhost:37955/console\n"
     ]
    },
    {
     "data": {
      "text/html": [
       "\n",
       "        <iframe\n",
       "            width=\"800\"\n",
       "            height=\"400\"\n",
       "            src=\"http://localhost:37955/console\"\n",
       "            frameborder=\"0\"\n",
       "            allowfullscreen\n",
       "            \n",
       "        ></iframe>\n",
       "        "
      ],
      "text/plain": [
       "<IPython.lib.display.IFrame at 0x7fbd6823fa00>"
      ]
     },
     "metadata": {},
     "output_type": "display_data"
    }
   ],
   "source": [
    "engine = ConsoleEngine(\"Console of ConsoleEngine\")\n",
    "engine.display(width=800, height=400)"
   ]
  },
  {
   "cell_type": "code",
   "execution_count": 3,
   "id": "096624f8-eb42-4d2c-9bd0-85888bf6965d",
   "metadata": {},
   "outputs": [
    {
     "name": "stdout",
     "output_type": "stream",
     "text": [
      "Returned: 'I am well!'\n"
     ]
    }
   ],
   "source": [
    "# This will let you enter your reply in the console, blocking the notebook util you do\n",
    "# You can press Ctrl+Enter to send the message\n",
    "\n",
    "result = engine.query(\"How are you?\")\n",
    "print(f\"Returned: {result!r}\")"
   ]
  },
  {
   "cell_type": "code",
   "execution_count": 4,
   "id": "dbe69a29-624c-40ff-9e9e-766c08537b77",
   "metadata": {},
   "outputs": [
    {
     "name": "stderr",
     "output_type": "stream",
     "text": [
      "[2023-07-18 21:11:00,244] INFO(interlab): Created console UI at http://localhost:34915/console\n"
     ]
    },
    {
     "data": {
      "text/html": [
       "\n",
       "        <iframe\n",
       "            width=\"800\"\n",
       "            height=\"400\"\n",
       "            src=\"http://localhost:34915/console\"\n",
       "            frameborder=\"0\"\n",
       "            allowfullscreen\n",
       "            \n",
       "        ></iframe>\n",
       "        "
      ],
      "text/plain": [
       "<IPython.lib.display.IFrame at 0x7fbd651a98a0>"
      ]
     },
     "metadata": {},
     "output_type": "display_data"
    }
   ],
   "source": [
    "actor = ConsoleActor(\"Console of ConsoleActor\")\n",
    "actor.display(width=800, height=400)"
   ]
  },
  {
   "cell_type": "code",
   "execution_count": 5,
   "id": "29cc96d4-357d-4271-8f37-9fa4f3e0ae30",
   "metadata": {},
   "outputs": [
    {
     "name": "stdout",
     "output_type": "stream",
     "text": [
      "Returned: Event(data='Awesome!', origin='Console of ConsoleActor')\n"
     ]
    }
   ],
   "source": [
    "# By default, action is just `str`\n",
    "\n",
    "a = actor.act(\"How do you plead?\")\n",
    "print(f\"Returned: {a!r}\")"
   ]
  },
  {
   "cell_type": "code",
   "execution_count": 6,
   "id": "7ef645a2-ae97-4f50-aff4-1c4109531894",
   "metadata": {},
   "outputs": [
    {
     "name": "stdout",
     "output_type": "stream",
     "text": [
      "Returned: Event(data=Dog(name='Lassie', age=6, title=<DogTitle.TBD: 'The Best Dog!'>), origin='Console of ConsoleActor')\n"
     ]
    }
   ],
   "source": [
    "# Also supports expected_type and tries to parse it, but any better formatting, repetition etc are WIP\n",
    "\n",
    "class DogTitle(enum.Enum):\n",
    "    GB = \"Good boy\"\n",
    "    GG = \"Good girl\"\n",
    "    TBD = \"The Best Dog!\"\n",
    "    \n",
    "@dataclass\n",
    "class Dog:\n",
    "    name: str\n",
    "    age: int | None = None\n",
    "    title: DogTitle = DogTitle.TBD\n",
    "\n",
    "a = actor.act('Enter Dog\\'s data. Hint: try {\"name\": \"Lassie\", \"age\": 6} ', expected_type=Dog)\n",
    "print(f\"Returned: {a!r}\")"
   ]
  },
  {
   "cell_type": "code",
   "execution_count": null,
   "id": "dbe6f3aa-727b-4c11-ae14-d4ce8ce39539",
   "metadata": {},
   "outputs": [],
   "source": []
  }
 ],
 "metadata": {
  "kernelspec": {
   "display_name": "Python 3 (ipykernel)",
   "language": "python",
   "name": "python3"
  },
  "language_info": {
   "codemirror_mode": {
    "name": "ipython",
    "version": 3
   },
   "file_extension": ".py",
   "mimetype": "text/x-python",
   "name": "python",
   "nbconvert_exporter": "python",
   "pygments_lexer": "ipython3",
   "version": "3.10.6"
  }
 },
 "nbformat": 4,
 "nbformat_minor": 5
}
