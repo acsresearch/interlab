{
 "cells": [
  {
   "cell_type": "code",
   "execution_count": 8,
   "id": "742b8b3a-92a1-442b-8dc6-9ebd69dfeb34",
   "metadata": {},
   "outputs": [
    {
     "name": "stdout",
     "output_type": "stream",
     "text": [
      "The autoreload extension is already loaded. To reload it, use:\n",
      "  %reload_ext autoreload\n"
     ]
    },
    {
     "data": {
      "text/plain": [
       "False"
      ]
     },
     "execution_count": 8,
     "metadata": {},
     "output_type": "execute_result"
    }
   ],
   "source": [
    "%load_ext autoreload\n",
    "%autoreload 2\n",
    "\n",
    "import dotenv\n",
    "from interlab.context import Context\n",
    "from interlab.lang_models import OpenAiChatModel, Replay, query_model\n",
    "\n",
    "dotenv.load_dotenv()"
   ]
  },
  {
   "cell_type": "code",
   "execution_count": null,
   "id": "46ec5d16-dcc6-4629-a582-5fd84d27387a",
   "metadata": {},
   "outputs": [],
   "source": []
  },
  {
   "cell_type": "code",
   "execution_count": 10,
   "id": "4fa0add9-52d5-4de4-81ac-7ca9a860a730",
   "metadata": {},
   "outputs": [],
   "source": [
    "# Without caching\n",
    "\n",
    "model = OpenAiChatModel()\n",
    "\n",
    "with Context(\"root\") as my_context:\n",
    "     query_model(model, \"How are you?\")\n",
    "     query_model(model, \"How are you?\")\n",
    "\n"
   ]
  },
  {
   "cell_type": "code",
   "execution_count": 12,
   "id": "6849b6a4-d0d7-4d2e-a916-41571896fd50",
   "metadata": {},
   "outputs": [],
   "source": [
    "# With caching\n",
    "\n",
    "replay = Replay(my_context)\n",
    "\n",
    "with Context(\"root\") as my_context:\n",
    "     # This goes from cache\n",
    "     query_model(model, \"How are you?\", replay=replay)\n",
    "     # This goes from cache\n",
    "     query_model(model, \"How are you?\", replay=replay)\n",
    "     # This is fresh call as it is not in cache\n",
    "     query_model(model, \"How are you?\", replay=replay)\n",
    "    "
   ]
  }
 ],
 "metadata": {
  "kernelspec": {
   "display_name": "Python 3 (ipykernel)",
   "language": "python",
   "name": "python3"
  },
  "language_info": {
   "codemirror_mode": {
    "name": "ipython",
    "version": 3
   },
   "file_extension": ".py",
   "mimetype": "text/x-python",
   "name": "python",
   "nbconvert_exporter": "python",
   "pygments_lexer": "ipython3",
   "version": "3.10.6"
  }
 },
 "nbformat": 4,
 "nbformat_minor": 5
}
