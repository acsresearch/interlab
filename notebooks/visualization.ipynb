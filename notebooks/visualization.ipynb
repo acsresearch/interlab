{
 "cells": [
  {
   "cell_type": "code",
   "execution_count": null,
   "id": "437201af-cefa-4f36-9e9e-a34235adfbf3",
   "metadata": {},
   "outputs": [],
   "source": [
    "%load_ext autoreload\n",
    "%autoreload 2\n",
    "\n",
    "import matplotlib.pyplot as plt\n",
    "from querychains import Context, FileStorage\n",
    "from querychains.ext.pyplot import capture_figure"
   ]
  },
  {
   "cell_type": "code",
   "execution_count": null,
   "id": "579e26e0-3be4-40fc-b653-c8d0e66d042e",
   "metadata": {},
   "outputs": [],
   "source": []
  },
  {
   "cell_type": "code",
   "execution_count": null,
   "id": "754876d9-ee82-452b-9704-0da59f9657a4",
   "metadata": {},
   "outputs": [],
   "source": [
    "storage = FileStorage(\"data-viz\")"
   ]
  },
  {
   "cell_type": "code",
   "execution_count": null,
   "id": "64932cae-7e44-45ef-b57d-045909af84c9",
   "metadata": {},
   "outputs": [],
   "source": []
  },
  {
   "cell_type": "code",
   "execution_count": null,
   "id": "9133a4a9-0771-40fc-875a-f5b2cda3730c",
   "metadata": {},
   "outputs": [],
   "source": [
    "with Context(\"root\", storage=storage) as root:\n",
    "    with Context(\"first\", meta={\"color\": \"lightgreen\"}):\n",
    "        pass\n",
    "    with Context(\"second\", meta={\"color\": \"lightblue\"}):\n",
    "        pass        \n",
    "\n",
    "    fig, ax = plt.subplots()\n",
    "    \n",
    "    fruits = ['apple', 'blueberry', 'cherry', 'orange']\n",
    "    counts = [40, 100, 30, 55]\n",
    "    bar_labels = ['red', 'blue', '_red', 'orange']\n",
    "    bar_colors = ['tab:red', 'tab:blue', 'tab:red', 'tab:orange']\n",
    "    \n",
    "    ax.bar(fruits, counts, label=bar_labels, color=bar_colors)\n",
    "    \n",
    "    with Context(\"image demo\", inputs={\"my_chart\": capture_figure(), \"other_param\": 42}) as root2:\n",
    "        pass"
   ]
  },
  {
   "cell_type": "code",
   "execution_count": null,
   "id": "dbeebddc-c632-497f-9063-0ade327e41b8",
   "metadata": {},
   "outputs": [],
   "source": []
  },
  {
   "cell_type": "code",
   "execution_count": null,
   "id": "1ff8983a-3cd8-4570-a655-a74ba4f9cd4a",
   "metadata": {},
   "outputs": [],
   "source": [
    "storage.display()"
   ]
  }
 ],
 "metadata": {
  "kernelspec": {
   "display_name": "Python 3 (ipykernel)",
   "language": "python",
   "name": "python3"
  },
  "language_info": {
   "codemirror_mode": {
    "name": "ipython",
    "version": 3
   },
   "file_extension": ".py",
   "mimetype": "text/x-python",
   "name": "python",
   "nbconvert_exporter": "python",
   "pygments_lexer": "ipython3",
   "version": "3.10.6"
  }
 },
 "nbformat": 4,
 "nbformat_minor": 5
}
