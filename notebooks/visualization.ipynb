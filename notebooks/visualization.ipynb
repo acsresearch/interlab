{
 "cells": [
  {
   "cell_type": "code",
   "execution_count": null,
   "id": "437201af-cefa-4f36-9e9e-a34235adfbf3",
   "metadata": {},
   "outputs": [],
   "source": [
    "%load_ext autoreload\n",
    "%autoreload 2\n",
    "\n",
    "import matplotlib.pyplot as plt\n",
    "from interlab import Context\n",
    "from interlab.context import FileStorage\n",
    "from interlab.utils.html import Html\n",
    "from interlab.ext.pyplot import capture_figure"
   ]
  },
  {
   "cell_type": "code",
   "execution_count": null,
   "id": "579e26e0-3be4-40fc-b653-c8d0e66d042e",
   "metadata": {},
   "outputs": [],
   "source": []
  },
  {
   "cell_type": "code",
   "execution_count": null,
   "id": "754876d9-ee82-452b-9704-0da59f9657a4",
   "metadata": {},
   "outputs": [],
   "source": [
    "storage = FileStorage(\"data-viz\")"
   ]
  },
  {
   "cell_type": "code",
   "execution_count": null,
   "id": "64932cae-7e44-45ef-b57d-045909af84c9",
   "metadata": {},
   "outputs": [],
   "source": [
    "with Context(\"colors\", storage=storage):\n",
    "    with Context(\"first\", meta={\"color\": \"green\"}):\n",
    "        pass\n",
    "    with Context(\"second\", meta={\"color_bg\": \"lightblue\"}):\n",
    "        pass            \n",
    "    with Context(\"third\", meta={\"color_bg\": \"#994404\", \"color_text\": \"white\"}) as c:\n",
    "        c.set_result(\"text\")"
   ]
  },
  {
   "cell_type": "code",
   "execution_count": null,
   "id": "9133a4a9-0771-40fc-875a-f5b2cda3730c",
   "metadata": {},
   "outputs": [],
   "source": [
    "# Image demo\n",
    "\n",
    "with Context(\"image-demo\", storage=storage) as root:\n",
    "\n",
    "    fig, ax = plt.subplots()\n",
    "    \n",
    "    fruits = ['apple', 'blueberry', 'cherry', 'orange']\n",
    "    counts = [40, 100, 30, 55]\n",
    "    bar_labels = ['red', 'blue', '_red', 'orange']\n",
    "    bar_colors = ['tab:red', 'tab:blue', 'tab:red', 'tab:orange']\n",
    "    \n",
    "    ax.bar(fruits, counts, label=bar_labels, color=bar_colors)\n",
    "    \n",
    "    with Context(\"image demo\", inputs={\"my_chart\": capture_figure(), \"other_param\": 42}) as root2:\n",
    "        pass"
   ]
  },
  {
   "cell_type": "code",
   "execution_count": null,
   "id": "dbeebddc-c632-497f-9063-0ade327e41b8",
   "metadata": {},
   "outputs": [],
   "source": []
  },
  {
   "cell_type": "code",
   "execution_count": null,
   "id": "ffa65db0-bf69-4813-91fd-f0e85637b678",
   "metadata": {},
   "outputs": [],
   "source": [
    "with Context(\"html-demo\", storage=storage) as root:\n",
    "    root.set_result(Html(\"\"\"       \n",
    "       <table style='border: 1px solid black'>\n",
    "          <tr><td>Player 1</td><td>7</td</tr>\n",
    "          <tr><td>Player 2</td><td>12</td></tr>\n",
    "       </table>\"\"\".replace(\"<td\", \"<td style='border: 1px solid black'\")))"
   ]
  },
  {
   "cell_type": "code",
   "execution_count": null,
   "id": "5a190210-7346-44a1-9a06-096a25c82761",
   "metadata": {},
   "outputs": [],
   "source": [
    "with Context(\"svg-demo\", storage=storage) as root:\n",
    "    root.set_result(Html(\"\"\"       \n",
    "       <svg style=\"width: 100px; height: 100px\" viewBox=\"0 0 100 100\" xmlns=\"http://www.w3.org/2000/svg\">\n",
    "       <line x1=\"0\" y1=\"33\" x2=\"100\" y2=\"33\" stroke=\"black\" />\n",
    "       <line x1=\"0\" y1=\"66\" x2=\"100\" y2=\"66\" stroke=\"black\" />       \n",
    "       <line x1=\"33\" y1=\"0\" x2=\"33\" y2=\"100\" stroke=\"black\" />       \n",
    "       <line x1=\"66\" y1=\"0\" x2=\"66\" y2=\"100\" stroke=\"black\" />\n",
    "\n",
    "       <line x1=\"5\" y1=\"5\" x2=\"27\" y2=\"27\" stroke=\"blue\" stroke-width=\"3\"/>\n",
    "       <line x1=\"27\" y1=\"5\" x2=\"5\" y2=\"27\" stroke=\"blue\" stroke-width=\"3\"/>\n",
    "\n",
    "       <circle cx=\"49\" cy=\"49\" r=\"10\" stroke=\"red\" stroke-width=\"3\" fill=\"none\"/>\n",
    "</svg>\"\"\"))"
   ]
  },
  {
   "cell_type": "code",
   "execution_count": null,
   "id": "1ff8983a-3cd8-4570-a655-a74ba4f9cd4a",
   "metadata": {},
   "outputs": [],
   "source": [
    "storage.display()"
   ]
  }
 ],
 "metadata": {
  "kernelspec": {
   "display_name": "Python 3 (ipykernel)",
   "language": "python",
   "name": "python3"
  },
  "language_info": {
   "codemirror_mode": {
    "name": "ipython",
    "version": 3
   },
   "file_extension": ".py",
   "mimetype": "text/x-python",
   "name": "python",
   "nbconvert_exporter": "python",
   "pygments_lexer": "ipython3",
   "version": "3.10.6"
  }
 },
 "nbformat": 4,
 "nbformat_minor": 5
}
