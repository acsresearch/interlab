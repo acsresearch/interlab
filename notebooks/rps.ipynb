{
 "cells": [
  {
   "cell_type": "code",
   "execution_count": null,
   "id": "ff3ce976-62cb-4f0b-a003-dd22df1edaa3",
   "metadata": {},
   "outputs": [],
   "source": [
    "%load_ext autoreload\n",
    "%autoreload 2\n",
    "\n",
    "from querychains import Actor, OpenAiChatEngine, repeat_on_failure, ParsingFailure, Context, FileStorage, start_server\n",
    "import json"
   ]
  },
  {
   "cell_type": "code",
   "execution_count": null,
   "id": "2957b89e-7009-4ffb-83e3-9a4d007aa725",
   "metadata": {},
   "outputs": [],
   "source": [
    "\n",
    "RPS = [\"Rock\", \"Paper\", \"Scissors\"]\n",
    "\n",
    "def choose_winner(a1, a2):\n",
    "    if a1 == a2:\n",
    "        return None\n",
    "    if a1 == \"pass\":\n",
    "        return 1\n",
    "    if a2 == \"pass\":\n",
    "        return 0\n",
    "    return int((RPS.index(a1) + 1) % 3 == RPS.index(a2)) \n",
    "\n",
    "assert choose_winner(\"Rock\", \"Paper\") == 1\n",
    "assert choose_winner(\"Rock\", \"Scissors\") == 0\n",
    "assert choose_winner(\"Paper\", \"Rock\") == 0\n",
    "assert choose_winner(\"Scissors\", \"Rock\") == 1"
   ]
  },
  {
   "cell_type": "code",
   "execution_count": null,
   "id": "2e8ba858-9eac-43f1-a29d-61c1289b5f8b",
   "metadata": {},
   "outputs": [],
   "source": [
    "storage = FileStorage(\"data2\")"
   ]
  },
  {
   "cell_type": "code",
   "execution_count": null,
   "id": "740f9fae-e8a3-460d-98f4-a48ca3384df6",
   "metadata": {},
   "outputs": [],
   "source": [
    "\n",
    "class RockLovingActor(Actor):\n",
    "\n",
    "    def get_action(self, _prompt):\n",
    "        return \"Rock\"\n",
    "\n",
    "\n",
    "class LmRpsActor(Actor):\n",
    "\n",
    "    def __init__(self, name, engine, ctx_meta=None,):\n",
    "        super().__init__(name, ctx_meta)\n",
    "        self.engine = engine\n",
    "\n",
    "    def get_action(self, _prompt):\n",
    "        history = \"\\n\".join(f\"Round {i + 1}: the opponent played {op}.\" for i, op in enumerate(self.observations()))\n",
    "        parts = [\"I'm playing game: Rock Paper Scissors.\"]\n",
    "        if history:\n",
    "            parts.append(f\"The history of the game is the following: {history}\\n\\n\")\n",
    "        parts.append(\"What should I do in the next turn? Write only exactly one of following words: Rock, Paper, or Scissor as an answer\")\n",
    "        prompt = \"\\n\".join(parts)\n",
    "\n",
    "        def query():\n",
    "            result = self.engine.query(prompt)\n",
    "            result = result.strip()\n",
    "            if result and result[-1] == \".\":\n",
    "                result = result[:-1]\n",
    "            if result not in RPS:\n",
    "                raise ParsingFailure(\"Invalid action\")\n",
    "            return result\n",
    "            \n",
    "        return repeat_on_failure(query, throw_if_fail=False, fail_value=\"pass\")\n",
    "\n",
    "engine = OpenAiChatEngine(temperature=1)\n",
    "player1 = LmRpsActor(\"player1\", engine, ctx_meta={\"color\": \"#fcccbb\"})\n",
    "player2 = RockLovingActor(\"player2\", ctx_meta={\"color\": \"lightblue\"})\n",
    "\n",
    "with Context(\"game\", storage=storage) as c:\n",
    "    wins = [0, 0]\n",
    "    for i in range(3):\n",
    "        with Context(f\"round {i}\"):\n",
    "            action1 = player1.act(\"play\")\n",
    "            action2 = player2.act(\"play\")\n",
    "            print(f\"Round: {i} --> {action1} {action2}\")\n",
    "            winner = choose_winner(action1, action2)\n",
    "            if winner is not None:\n",
    "                wins[winner] += 1\n",
    "            player1.observe(action2)\n",
    "            player2.observe(action1)\n",
    "c.uid            "
   ]
  },
  {
   "cell_type": "code",
   "execution_count": null,
   "id": "97824b83-d25f-41b3-9840-a935693647b1",
   "metadata": {},
   "outputs": [],
   "source": [
    "storage.start_server()"
   ]
  },
  {
   "cell_type": "code",
   "execution_count": null,
   "id": "c0317452-14bc-4bd2-b3fc-e1d4ee4d895b",
   "metadata": {},
   "outputs": [],
   "source": [
    "with Context(\"time\", storage=storage) as c:\n",
    "    import time\n",
    "    time.sleep(1)"
   ]
  }
 ],
 "metadata": {
  "kernelspec": {
   "display_name": "Python 3 (ipykernel)",
   "language": "python",
   "name": "python3"
  },
  "language_info": {
   "codemirror_mode": {
    "name": "ipython",
    "version": 3
   },
   "file_extension": ".py",
   "mimetype": "text/x-python",
   "name": "python",
   "nbconvert_exporter": "python",
   "pygments_lexer": "ipython3",
   "version": "3.10.6"
  }
 },
 "nbformat": 4,
 "nbformat_minor": 5
}
