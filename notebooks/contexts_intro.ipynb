{
 "cells": [
  {
   "cell_type": "markdown",
   "id": "c0fed295-5189-4ac9-af7b-8837e5a01a9a",
   "metadata": {},
   "source": [
    "# Introduction to InterLab contexts\n",
    "\n",
    "InterLab Contexts are a framework for logging, tracing, result storage, and visualization of nested computations and actor interactions.\n",
    "They have been designed with large textual and structured (e.g. JSON) inputs and outputs in mind, as well as generic and custom visualizations.\n",
    "\n",
    "A `Context` is an event of certain name, type (`kind`, with small differences in semantics for several biolt-in ones), start and end time, inputs,\n",
    "result or error (exception), tags, and any child contexts - forming a rooted tree. Tags allow for context filtering and search. Inputs and result\n",
    "support structured data and visualizations (see below).\n",
    "\n",
    "## In InterLab\n",
    "\n",
    "Contexts are in principle an independent part InterLab - you can use them in other projects (e.g. for the context browser), or use interlab\n",
    "without contexts (some contexts are still created but not stored by default, and should pose a trivial perf penalty comparable to logging).\n",
    "\n",
    "Currently, contexts are stored as JSON files (one JSON file for every designated stored root context), but in the future we plan to also support DB storage.\n",
    "\n",
    "## Visualization and UI\n",
    "\n",
    "The framework also contains a web-based browser for the context traces - both directly in a jupyter notebook and in a separate web-browser window.\n",
    "\n",
    "Contexts and their visualization interact well with dataclasses (and JSON-like data in general) but also support custom visualizations: bitmap images, HTML, SVG (more can be added).\n",
    "\n",
    "The current browser also shows still running contexts (manual reloads required for refresh)."
   ]
  },
  {
   "cell_type": "code",
   "execution_count": 1,
   "id": "517e9432-85fc-482d-b95c-8cdd571ffbea",
   "metadata": {
    "tags": []
   },
   "outputs": [],
   "source": [
    "%load_ext autoreload\n",
    "%autoreload 2\n",
    "\n",
    "from dataclasses import dataclass\n",
    "import json\n",
    "import interlab\n",
    "from interlab import Context, context, utils\n",
    "\n",
    "def show(obj):\n",
    "    print(json.dumps(obj, indent=2))"
   ]
  },
  {
   "cell_type": "markdown",
   "id": "35f9e3cd-6944-459d-9084-3f80771768a5",
   "metadata": {},
   "source": [
    "## Basic context examples and internals"
   ]
  },
  {
   "cell_type": "code",
   "execution_count": 11,
   "id": "d690bf53-f5d4-4335-8f21-b95dd9e42ba7",
   "metadata": {
    "tags": []
   },
   "outputs": [
    {
     "name": "stdout",
     "output_type": "stream",
     "text": [
      "{\n",
      "  \"_type\": \"Context\",\n",
      "  \"name\": \"MyContext\",\n",
      "  \"uid\": \"2023-07-18T19:45:20-MyContext-W5uaOp\",\n",
      "  \"inputs\": {\n",
      "    \"a\": 10,\n",
      "    \"b\": 20\n",
      "  },\n",
      "  \"result\": \"Lorem ipsum ...\",\n",
      "  \"start_time\": \"2023-07-18T19:45:20.141899\",\n",
      "  \"end_time\": \"2023-07-18T19:45:20.141921\"\n",
      "}\n"
     ]
    }
   ],
   "source": [
    "# Context with input and output\n",
    "with Context(\"MyContext\", inputs={\"a\": 10, \"b\": 20}) as c:\n",
    "    c.set_result(\"Lorem ipsum ...\")\n",
    "    pass\n",
    "\n",
    "# How it looks\n",
    "show(c.to_dict())"
   ]
  },
  {
   "cell_type": "code",
   "execution_count": 4,
   "id": "8de3a2de-c7a3-4f7a-961a-452775c73517",
   "metadata": {
    "tags": []
   },
   "outputs": [
    {
     "name": "stdout",
     "output_type": "stream",
     "text": [
      "{\n",
      "  \"_type\": \"Context\",\n",
      "  \"name\": \"MyContext\",\n",
      "  \"uid\": \"2023-07-18T19:39:48-MyContext-EnrgnC\",\n",
      "  \"children\": [\n",
      "    {\n",
      "      \"_type\": \"Context\",\n",
      "      \"name\": \"ChildContext1\",\n",
      "      \"uid\": \"2023-07-18T19:39:48-ChildContext1-T3WWT3\",\n",
      "      \"start_time\": \"2023-07-18T19:39:48.945661\",\n",
      "      \"end_time\": \"2023-07-18T19:39:48.945670\"\n",
      "    },\n",
      "    {\n",
      "      \"_type\": \"Context\",\n",
      "      \"name\": \"ChildContext2\",\n",
      "      \"uid\": \"2023-07-18T19:39:48-ChildContext2-SdOeCD\",\n",
      "      \"start_time\": \"2023-07-18T19:39:48.945683\",\n",
      "      \"end_time\": \"2023-07-18T19:39:48.945689\"\n",
      "    }\n",
      "  ],\n",
      "  \"start_time\": \"2023-07-18T19:39:48.945635\",\n",
      "  \"end_time\": \"2023-07-18T19:39:48.945692\"\n",
      "}\n"
     ]
    }
   ],
   "source": [
    "# Context nesting\n",
    "with Context(\"MyContext\") as c:\n",
    "    with Context(\"ChildContext1\"):\n",
    "        pass\n",
    "    with Context(\"ChildContext2\"):\n",
    "        pass\n",
    "\n",
    "show(c.to_dict())"
   ]
  },
  {
   "cell_type": "code",
   "execution_count": null,
   "id": "54b17e6d-689c-4560-bd58-6ab158cc1a07",
   "metadata": {
    "tags": []
   },
   "outputs": [],
   "source": [
    "# Inputs and outputs\n",
    "with Context(\"MyContext\", ) as c:\n",
    "    c.set_result(30)\n",
    "\n",
    "show(c.to_dict())"
   ]
  },
  {
   "cell_type": "code",
   "execution_count": null,
   "id": "447519e9-7d51-4cc9-8f48-2ea3aca1d4c7",
   "metadata": {
    "tags": []
   },
   "outputs": [],
   "source": [
    "# Context decorator\n",
    "@with_context\n",
    "def my_function(a, b):\n",
    "    return a + b\n",
    "\n",
    "with Context(\"root\") as c:\n",
    "    my_function(10, 20)\n",
    "    \n",
    "show(c.to_dict())"
   ]
  },
  {
   "cell_type": "code",
   "execution_count": null,
   "id": "358c8704-fda9-40c4-96b9-944b1fad871a",
   "metadata": {
    "tags": []
   },
   "outputs": [],
   "source": [
    "# Error handling\n",
    "\n",
    "@with_context\n",
    "def my_function(a, b):\n",
    "    raise Exception(\"Oops\")\n",
    "\n",
    "try:\n",
    "    with Context(\"root\") as c:\n",
    "        my_function(10, 20)\n",
    "except:\n",
    "    pass\n",
    "\n",
    "show(c.to_dict())"
   ]
  },
  {
   "cell_type": "code",
   "execution_count": null,
   "id": "03a99644-e6a9-4fd3-9b6a-613835a2f4ba",
   "metadata": {},
   "outputs": [],
   "source": []
  },
  {
   "cell_type": "code",
   "execution_count": null,
   "id": "c4b9ab8d-40c8-4762-9988-88ece04763e4",
   "metadata": {
    "tags": []
   },
   "outputs": [],
   "source": [
    "# Dataclasses\n",
    "\n",
    "@dataclass\n",
    "class Person:\n",
    "    name: str\n",
    "    age: int\n",
    "    \n",
    "@with_context\n",
    "def say_hi(person):\n",
    "    return f\"Hi {person.name}!\"\n",
    "\n",
    "with Context(\"root\") as c:\n",
    "    person = Person(\"Alice\", 21)\n",
    "    say_hi(person)\n",
    "\n",
    "show(c.to_dict())"
   ]
  },
  {
   "cell_type": "code",
   "execution_count": null,
   "id": "b95c8996-05e2-402c-a508-d9f8d195449f",
   "metadata": {},
   "outputs": [],
   "source": []
  },
  {
   "cell_type": "code",
   "execution_count": null,
   "id": "cfc9dbde-0f33-48f7-ab30-53b6099dd7ed",
   "metadata": {
    "tags": []
   },
   "outputs": [],
   "source": [
    "@dataclass\n",
    "class Person:\n",
    "    name: str\n",
    "    age: int\n",
    "\n",
    "@with_context\n",
    "def say_hi(person):\n",
    "    return f\"Hi {person.name}!\"\n",
    "\n",
    "with Context(\"root\") as c:\n",
    "    person = Person(\"Alice\", 21)\n",
    "    say_hi(person)\n",
    "\n",
    "show(c.to_dict())"
   ]
  },
  {
   "cell_type": "code",
   "execution_count": null,
   "id": "f4d75c6a-a40c-43e0-87b5-edbc7e6bc961",
   "metadata": {},
   "outputs": [],
   "source": [
    "# LLM queries\n",
    "\n",
    "engine = OpenAiChatEngine()\n",
    "\n",
    "with Context(\"root\") as c:\n",
    "        response = engine.query(\"Hi are you?\")\n",
    "        engine.query(\"Is the following text genereted by LLM?\\n\\n\" + response)\n",
    "    \n",
    "show(c.to_dict())"
   ]
  },
  {
   "cell_type": "code",
   "execution_count": null,
   "id": "1ed4c300-3d66-4f3c-8b26-b3c16312b82e",
   "metadata": {
    "tags": []
   },
   "outputs": [],
   "source": [
    "# async LLM queries\n",
    "import asyncio \n",
    "\n",
    "engine1 = OpenAiChatEngine()\n",
    "engine2 = AnthropicEngine()\n",
    "\n",
    "@with_context\n",
    "async def make_queries(engine: QueryEngine):\n",
    "    response = await engine.aquery(\"Hi are you?\")\n",
    "    return await engine.aquery(\"Is this nice response?\\n\\n\" + response)  \n",
    "\n",
    "with Context(\"root\") as c:\n",
    "    q1 = make_queries(engine1)\n",
    "    q2 = make_queries(engine2)\n",
    "\n",
    "    await q1\n",
    "    await q2\n",
    "\n",
    "show(c.to_dict())"
   ]
  },
  {
   "cell_type": "code",
   "execution_count": null,
   "id": "38153a06-5870-4b01-921a-b8b20af61311",
   "metadata": {},
   "outputs": [],
   "source": []
  },
  {
   "cell_type": "code",
   "execution_count": null,
   "id": "2543b8bf-516a-4315-b627-db7926ab14e0",
   "metadata": {},
   "outputs": [],
   "source": [
    "# Tags\n",
    "\n",
    "with Context(\"root\", tags=[\"tag1\", \"tag2\"]) as c:\n",
    "    c.add_tag(\"exp1\")  # Add to a context dynammicaly\n",
    "    c.add_tag(Tag(\"success!\", color=\"lightgreen\"))  # Add colored tag\n",
    "\n",
    "show(c.to_dict())"
   ]
  },
  {
   "cell_type": "code",
   "execution_count": null,
   "id": "0d5701f1-8ddb-4a34-9231-724d00b4c681",
   "metadata": {},
   "outputs": [],
   "source": []
  },
  {
   "cell_type": "code",
   "execution_count": null,
   "id": "b84af607-4fde-4d59-8cff-0cfa7cdbe6b4",
   "metadata": {},
   "outputs": [],
   "source": [
    "with Context(\"root\", storage=storage) as root:\n",
    "    with Context(\"first\", meta={\"color\": \"lightgreen\"}):\n",
    "        pass\n",
    "    with Context(\"second\", meta={\"color\": \"lightblue\"}):\n",
    "        pass        \n",
    "\n",
    "    fig, ax = plt.subplots()\n",
    "    \n",
    "    fruits = ['apple', 'blueberry', 'cherry', 'orange']\n",
    "    counts = [40, 100, 30, 55]\n",
    "    bar_labels = ['red', 'blue', '_red', 'orange']\n",
    "    bar_colors = ['tab:red', 'tab:blue', 'tab:red', 'tab:orange']\n",
    "    \n",
    "    ax.bar(fruits, counts, label=bar_labels, color=bar_colors)\n",
    "    \n",
    "    with Context(\"image demo\", inputs={\"my_chart\": capture_figure(), \"other_param\": 42}) as root2:\n",
    "        pass"
   ]
  },
  {
   "cell_type": "code",
   "execution_count": null,
   "id": "c54bd54b-3535-42c5-9fd2-b81b88a8624e",
   "metadata": {},
   "outputs": [],
   "source": []
  },
  {
   "cell_type": "code",
   "execution_count": null,
   "id": "23b41f20-fe91-4894-8d5c-9f47f1140782",
   "metadata": {},
   "outputs": [],
   "source": [
    "# get current context\n",
    "\n",
    "with Context(\"root\") as c:\n",
    "    with Context(\"child\"):\n",
    "        current_context().add_tag(\"tag1\")\n",
    "\n",
    "show(c.to_dict())"
   ]
  },
  {
   "cell_type": "code",
   "execution_count": null,
   "id": "c6896eef-f643-40c7-98f5-6e31e442ceb2",
   "metadata": {},
   "outputs": [],
   "source": []
  },
  {
   "cell_type": "code",
   "execution_count": null,
   "id": "cd87bf47-b910-4f54-aea4-6077567dc5f9",
   "metadata": {},
   "outputs": [],
   "source": [
    "# Events (instant kontext with immediate result)\n",
    "\n",
    "with Context(\"root\") as c:\n",
    "    c.add_event(\"Message to Alice\", kind=\"message\", data=\"Hi, Alice!\")\n",
    "\n",
    "show(c.to_dict())"
   ]
  },
  {
   "cell_type": "code",
   "execution_count": null,
   "id": "37918f28-fc3e-4bd9-802b-77f1ad43704e",
   "metadata": {},
   "outputs": [],
   "source": []
  },
  {
   "cell_type": "code",
   "execution_count": null,
   "id": "56f90ae0-ea84-463f-b671-2c31ecce63bd",
   "metadata": {},
   "outputs": [],
   "source": []
  },
  {
   "cell_type": "code",
   "execution_count": null,
   "id": "19917a55-870f-4aaa-991d-d85f66a29845",
   "metadata": {},
   "outputs": [],
   "source": []
  },
  {
   "cell_type": "code",
   "execution_count": null,
   "id": "537beb02-209a-426c-8bba-90689b8b7051",
   "metadata": {},
   "outputs": [],
   "source": []
  },
  {
   "cell_type": "code",
   "execution_count": null,
   "id": "ba0d2484-3e67-4657-b605-25ff77410c05",
   "metadata": {},
   "outputs": [],
   "source": [
    "# Register context into storage\n",
    "\n",
    "with Context(\"root1\", storage=storage):\n",
    "    pass\n"
   ]
  },
  {
   "cell_type": "code",
   "execution_count": null,
   "id": "a018fb25-9800-4fdf-b735-963965bdc0f3",
   "metadata": {},
   "outputs": [],
   "source": [
    "# Manual writing context into storage\n",
    "\n",
    "with Context(\"root2\", tags=[\"hello\"]) as c:\n",
    "    pass\n",
    "\n",
    "storage.write_context(c)"
   ]
  },
  {
   "cell_type": "code",
   "execution_count": null,
   "id": "4c582166-799b-4e4e-a669-6af9d7d0863a",
   "metadata": {},
   "outputs": [],
   "source": [
    "# Composing directory structure with contexts\n",
    "\n",
    "with Context(\"root3\", storage=storage, directory=True) as root:\n",
    "    with Context(\"first child\", directory=True):\n",
    "        with Context(\"a\"):\n",
    "            pass\n",
    "        with Context(\"b\", tags=[\"hello\"]):\n",
    "            pass\n",
    "    with Context(\"second child\", directory=True):\n",
    "        with Context(\"a\"):\n",
    "            pass\n",
    "        with Context(\"b\"):\n",
    "            pass\n",
    "\n",
    "import pathlib\n",
    "list(pathlib.Path(f\"data/{root.uid}.ctx\").rglob(\"*\"))"
   ]
  },
  {
   "cell_type": "code",
   "execution_count": null,
   "id": "4771ec00-5b2b-4cd7-8c8f-5573a0bec618",
   "metadata": {},
   "outputs": [],
   "source": []
  },
  {
   "cell_type": "code",
   "execution_count": null,
   "id": "7c651240-9d34-4c6a-a475-fce613b9ce3b",
   "metadata": {},
   "outputs": [],
   "source": []
  },
  {
   "cell_type": "code",
   "execution_count": null,
   "id": "55028a5f-2ce6-4340-8424-36a9e2db7664",
   "metadata": {},
   "outputs": [],
   "source": [
    "# Running data browser over storage\n",
    "\n",
    "storage.start_server()"
   ]
  },
  {
   "cell_type": "code",
   "execution_count": null,
   "id": "6651c62c-fd45-494d-bebd-e90a85c3a13c",
   "metadata": {},
   "outputs": [],
   "source": []
  },
  {
   "cell_type": "code",
   "execution_count": null,
   "id": "f5ac9b2c-0e46-4335-b8f9-94c564da328f",
   "metadata": {},
   "outputs": [],
   "source": [
    "# Long running cell, you can observe it in browser in running state\n",
    "\n",
    "with Context(\"Long running\", storage=storage):\n",
    "    with Context(\"Child1\"):\n",
    "        import time\n",
    "        time.sleep(10)"
   ]
  },
  {
   "cell_type": "code",
   "execution_count": null,
   "id": "89ba1615-9601-43a1-b529-7ec1878cfe60",
   "metadata": {},
   "outputs": [],
   "source": []
  },
  {
   "cell_type": "code",
   "execution_count": null,
   "id": "85092727-63fa-46be-b810-c594a5f80469",
   "metadata": {},
   "outputs": [],
   "source": [
    "# Read all stored (root) contexts\n",
    "\n",
    "for context in storage.read_all_contexts():\n",
    "    print(context.uid, context.name)"
   ]
  },
  {
   "cell_type": "code",
   "execution_count": null,
   "id": "ce0e9176-e6fe-414c-b0a6-4231906164c9",
   "metadata": {},
   "outputs": [],
   "source": []
  },
  {
   "cell_type": "code",
   "execution_count": null,
   "id": "fcf86e95-dbbb-4d7b-b4a8-3ea4a5ed4948",
   "metadata": {},
   "outputs": [],
   "source": [
    "# Recursively search for specific contexts\n",
    "\n",
    "for context in storage.find_contexts(lambda ctx: ctx.has_tag_name(\"hello\")):\n",
    "    print(context.uid, context.name)"
   ]
  },
  {
   "cell_type": "code",
   "execution_count": null,
   "id": "8e181e2c-1e8f-4bdd-864c-5f6e42fbeae3",
   "metadata": {},
   "outputs": [],
   "source": []
  },
  {
   "cell_type": "code",
   "execution_count": null,
   "id": "7caf5ab5-ee58-415e-8ef9-e539fdc1ab4a",
   "metadata": {},
   "outputs": [],
   "source": [
    "# Read a context by uid\n",
    "\n",
    "context = storage.read_context(root.uid)\n",
    "print(context.uid, context.name)\n",
    "\n",
    "\n",
    "# Search in a given context\n",
    "\n",
    "context.find_contexts(lambda x: x.name == \"a\")"
   ]
  },
  {
   "cell_type": "code",
   "execution_count": null,
   "id": "c69ea80b-c6ea-46ff-aa29-2c72c866c7a1",
   "metadata": {
    "jupyter": {
     "source_hidden": true
    }
   },
   "outputs": [],
   "source": []
  }
 ],
 "metadata": {
  "kernelspec": {
   "display_name": "Python 3 (ipykernel)",
   "language": "python",
   "name": "python3"
  },
  "language_info": {
   "codemirror_mode": {
    "name": "ipython",
    "version": 3
   },
   "file_extension": ".py",
   "mimetype": "text/x-python",
   "name": "python",
   "nbconvert_exporter": "python",
   "pygments_lexer": "ipython3",
   "version": "3.10.6"
  }
 },
 "nbformat": 4,
 "nbformat_minor": 5
}
