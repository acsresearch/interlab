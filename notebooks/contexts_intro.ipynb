{
 "cells": [
  {
   "cell_type": "markdown",
   "id": "c0fed295-5189-4ac9-af7b-8837e5a01a9a",
   "metadata": {},
   "source": [
    "# Introduction to InterLab contexts internals\n",
    "\n",
    "**NOTE: This notebooks deals with both standard context use and some low-level aspects of context and their storage.**\n",
    "\n",
    "InterLab Contexts are a framework for logging, tracing, result storage, and visualization of nested computations and actor interactions.\n",
    "They have been designed with large textual and structured (e.g. JSON) inputs and outputs in mind, as well as generic and custom visualizations.\n",
    "\n",
    "A `Context` is an event of certain name, type (`kind`, with small differences in semantics for several built-in ones), start and end time, inputs,\n",
    "result or error (exception), tags, and any child contexts - forming a rooted tree. Tags allow for context filtering and search. Inputs and result\n",
    "support structured data and visualizations (see below).\n",
    "\n",
    "## In InterLab\n",
    "\n",
    "Contexts are in principle an independent part of InterLab - you can use them in other projects (e.g. for the context browser), or use interlab\n",
    "without contexts (some contexts are still created but not stored by default, and should pose a trivial performance penalty comparable to logging).\n",
    "\n",
    "Currently, contexts are stored as JSON files (one JSON file for every designated stored root context), but in the future we plan to also support DB storage.\n",
    "\n",
    "## Visualization and UI\n",
    "\n",
    "The framework also contains a web-based browser for the context traces - both directly in a jupyter notebook and in a separate web-browser window.\n",
    "\n",
    "Contexts and their visualization interact well with dataclasses (and JSON-like data in general) but also support custom visualizations: bitmap images, HTML, SVG (more can be added).\n",
    "\n",
    "The current browser also shows still running contexts (manual reloads required for refresh)."
   ]
  },
  {
   "cell_type": "code",
   "execution_count": 1,
   "id": "517e9432-85fc-482d-b95c-8cdd571ffbea",
   "metadata": {
    "tags": []
   },
   "outputs": [],
   "source": [
    "%load_ext autoreload\n",
    "%autoreload 2\n",
    "\n",
    "from dataclasses import dataclass\n",
    "import json\n",
    "import matplotlib.pyplot as plt\n",
    "import interlab\n",
    "from interlab.context import Context, context, with_context, current_context, Tag\n",
    "from interlab.lang_models import OpenAiChatModel, AnthropicModel\n",
    "from interlab.ext.pyplot import capture_figure\n",
    "\n",
    "def show(obj):\n",
    "    print(json.dumps(obj, indent=2))"
   ]
  },
  {
   "cell_type": "markdown",
   "id": "35f9e3cd-6944-459d-9084-3f80771768a5",
   "metadata": {},
   "source": [
    "## Basic context examples"
   ]
  },
  {
   "cell_type": "markdown",
   "id": "40a4abc3-696b-4bc2-8489-3ce2efc60489",
   "metadata": {},
   "source": [
    "### Internals"
   ]
  },
  {
   "cell_type": "code",
   "execution_count": 2,
   "id": "d690bf53-f5d4-4335-8f21-b95dd9e42ba7",
   "metadata": {
    "tags": []
   },
   "outputs": [
    {
     "name": "stdout",
     "output_type": "stream",
     "text": [
      "{\n",
      "  \"_type\": \"Context\",\n",
      "  \"name\": \"MyContext\",\n",
      "  \"uid\": \"2023-07-27T23:14:29-MyContext-6v5UMg\",\n",
      "  \"result\": \"Lorem ipsum ...\",\n",
      "  \"inputs\": {\n",
      "    \"a\": 10,\n",
      "    \"b\": 20\n",
      "  },\n",
      "  \"start_time\": \"2023-07-27T23:14:29.358250\",\n",
      "  \"end_time\": \"2023-07-27T23:14:29.358301\"\n",
      "}\n"
     ]
    }
   ],
   "source": [
    "# Context with input and output\n",
    "with Context(\"MyContext\", inputs={\"a\": 10, \"b\": 20}) as c:\n",
    "    c.set_result(\"Lorem ipsum ...\")\n",
    "    pass\n",
    "\n",
    "# How it looks\n",
    "show(c.to_dict())"
   ]
  },
  {
   "cell_type": "code",
   "execution_count": 3,
   "id": "8de3a2de-c7a3-4f7a-961a-452775c73517",
   "metadata": {
    "tags": []
   },
   "outputs": [
    {
     "name": "stdout",
     "output_type": "stream",
     "text": [
      "{\n",
      "  \"_type\": \"Context\",\n",
      "  \"name\": \"MyContext\",\n",
      "  \"uid\": \"2023-07-27T23:14:31-MyContext-xYMp8Q\",\n",
      "  \"result\": \"\",\n",
      "  \"children\": [\n",
      "    {\n",
      "      \"_type\": \"Context\",\n",
      "      \"name\": \"ChildContext1\",\n",
      "      \"uid\": \"2023-07-27T23:14:31-ChildContext1-NrDKni\",\n",
      "      \"result\": \"result\",\n",
      "      \"start_time\": \"2023-07-27T23:14:31.829569\",\n",
      "      \"end_time\": \"2023-07-27T23:14:31.829588\"\n",
      "    },\n",
      "    {\n",
      "      \"_type\": \"Context\",\n",
      "      \"name\": \"ChildContext2\",\n",
      "      \"uid\": \"2023-07-27T23:14:31-ChildContext2-Q2mfv3\",\n",
      "      \"result\": \"result2\",\n",
      "      \"start_time\": \"2023-07-27T23:14:31.829612\",\n",
      "      \"end_time\": \"2023-07-27T23:14:31.829623\"\n",
      "    }\n",
      "  ],\n",
      "  \"start_time\": \"2023-07-27T23:14:31.829526\",\n",
      "  \"end_time\": \"2023-07-27T23:14:31.829629\"\n",
      "}\n"
     ]
    }
   ],
   "source": [
    "# Context nesting\n",
    "with Context(\"MyContext\") as c:\n",
    "    with Context(\"ChildContext1\") as c1:\n",
    "        c1.set_result(\"result\")\n",
    "    with Context(\"ChildContext2\") as c2:\n",
    "        c2.set_result(\"result2\")\n",
    "    c.set_result(\"\")\n",
    "show(c.to_dict())"
   ]
  },
  {
   "cell_type": "code",
   "execution_count": 4,
   "id": "54b17e6d-689c-4560-bd58-6ab158cc1a07",
   "metadata": {
    "tags": []
   },
   "outputs": [
    {
     "name": "stdout",
     "output_type": "stream",
     "text": [
      "{\n",
      "  \"_type\": \"Context\",\n",
      "  \"name\": \"MyContext\",\n",
      "  \"uid\": \"2023-07-27T23:14:32-MyContext-nAQ6P6\",\n",
      "  \"result\": 30,\n",
      "  \"start_time\": \"2023-07-27T23:14:32.464874\",\n",
      "  \"end_time\": \"2023-07-27T23:14:32.464906\"\n",
      "}\n"
     ]
    }
   ],
   "source": [
    "# Inputs and outputs\n",
    "with Context(\"MyContext\", ) as c:\n",
    "    c.set_result(30)\n",
    "\n",
    "show(c.to_dict())"
   ]
  },
  {
   "cell_type": "markdown",
   "id": "3964518b-f3cd-40b5-baa8-58815dad1c1f",
   "metadata": {},
   "source": [
    "### Functions"
   ]
  },
  {
   "cell_type": "code",
   "execution_count": 5,
   "id": "447519e9-7d51-4cc9-8f48-2ea3aca1d4c7",
   "metadata": {
    "tags": []
   },
   "outputs": [
    {
     "name": "stdout",
     "output_type": "stream",
     "text": [
      "{\n",
      "  \"_type\": \"Context\",\n",
      "  \"name\": \"root\",\n",
      "  \"uid\": \"2023-07-27T23:14:33-root-aQ2gWa\",\n",
      "  \"children\": [\n",
      "    {\n",
      "      \"_type\": \"Context\",\n",
      "      \"name\": \"my_function\",\n",
      "      \"uid\": \"2023-07-27T23:14:33-my_function-3fNufE\",\n",
      "      \"kind\": \"call\",\n",
      "      \"result\": 30,\n",
      "      \"inputs\": {\n",
      "        \"a\": 10,\n",
      "        \"b\": 20\n",
      "      },\n",
      "      \"start_time\": \"2023-07-27T23:14:33.614267\",\n",
      "      \"end_time\": \"2023-07-27T23:14:33.614288\"\n",
      "    }\n",
      "  ],\n",
      "  \"start_time\": \"2023-07-27T23:14:33.614198\",\n",
      "  \"end_time\": \"2023-07-27T23:14:33.614295\"\n",
      "}\n"
     ]
    }
   ],
   "source": [
    "# Context decorator\n",
    "\n",
    "@with_context\n",
    "def my_function(a, b):\n",
    "    return a + b\n",
    "\n",
    "with Context(\"root\") as c:\n",
    "    my_function(10, 20)\n",
    "    \n",
    "show(c.to_dict())"
   ]
  },
  {
   "cell_type": "markdown",
   "id": "261ae6ea-d084-4d08-8f6b-00b2e138caa2",
   "metadata": {},
   "source": [
    "### Exceptions"
   ]
  },
  {
   "cell_type": "code",
   "execution_count": 6,
   "id": "358c8704-fda9-40c4-96b9-944b1fad871a",
   "metadata": {
    "tags": []
   },
   "outputs": [
    {
     "name": "stdout",
     "output_type": "stream",
     "text": [
      "{\n",
      "  \"_type\": \"Context\",\n",
      "  \"name\": \"root\",\n",
      "  \"uid\": \"2023-07-27T23:14:34-root-DkMVGJ\",\n",
      "  \"state\": \"error\",\n",
      "  \"error\": {\n",
      "    \"_type\": \"error\",\n",
      "    \"name\": \"Oops\"\n",
      "  },\n",
      "  \"children\": [\n",
      "    {\n",
      "      \"_type\": \"Context\",\n",
      "      \"name\": \"my_function\",\n",
      "      \"uid\": \"2023-07-27T23:14:34-my_function-p3hq4k\",\n",
      "      \"state\": \"error\",\n",
      "      \"kind\": \"call\",\n",
      "      \"error\": {\n",
      "        \"_type\": \"error\",\n",
      "        \"name\": \"Oops\"\n",
      "      },\n",
      "      \"inputs\": {\n",
      "        \"a\": 10,\n",
      "        \"b\": 20\n",
      "      },\n",
      "      \"start_time\": \"2023-07-27T23:14:34.876285\",\n",
      "      \"end_time\": \"2023-07-27T23:14:34.876311\"\n",
      "    }\n",
      "  ],\n",
      "  \"start_time\": \"2023-07-27T23:14:34.876205\",\n",
      "  \"end_time\": \"2023-07-27T23:14:34.876321\"\n",
      "}\n"
     ]
    }
   ],
   "source": [
    "# Error handling\n",
    "\n",
    "@with_context\n",
    "def my_function(a, b):\n",
    "    raise Exception(\"Oops\")\n",
    "\n",
    "try:\n",
    "    with Context(\"root\") as c:\n",
    "        my_function(10, 20)\n",
    "except:\n",
    "    pass\n",
    "\n",
    "show(c.to_dict())"
   ]
  },
  {
   "cell_type": "code",
   "execution_count": 9,
   "id": "89849b74-9cf0-487a-bbaf-f670e7c2e82a",
   "metadata": {},
   "outputs": [
    {
     "ename": "Exception",
     "evalue": "Oops",
     "output_type": "error",
     "traceback": [
      "\u001b[0;31m---------------------------------------------------------------------------\u001b[0m",
      "\u001b[0;31mException\u001b[0m                                 Traceback (most recent call last)",
      "Cell \u001b[0;32mIn[9], line 5\u001b[0m\n\u001b[1;32m      1\u001b[0m \u001b[38;5;66;03m# note: errors must still be handled!\u001b[39;00m\n\u001b[1;32m      2\u001b[0m \n\u001b[1;32m      3\u001b[0m \u001b[38;5;66;03m# This is expected to throw an error - note the context would still be stored if you set up storage here\u001b[39;00m\n\u001b[1;32m      4\u001b[0m \u001b[38;5;28;01mwith\u001b[39;00m Context(\u001b[38;5;124m\"\u001b[39m\u001b[38;5;124mroot\u001b[39m\u001b[38;5;124m\"\u001b[39m) \u001b[38;5;28;01mas\u001b[39;00m c:\n\u001b[0;32m----> 5\u001b[0m     \u001b[43mmy_function\u001b[49m\u001b[43m(\u001b[49m\u001b[38;5;241;43m1\u001b[39;49m\u001b[43m,\u001b[49m\u001b[43m \u001b[49m\u001b[38;5;241;43m2\u001b[39;49m\u001b[43m)\u001b[49m\n",
      "File \u001b[0;32m~/proj/interlab/interlab/context/context.py:269\u001b[0m, in \u001b[0;36mwith_context.<locals>.helper.<locals>.wrapper\u001b[0;34m(*a, **kw)\u001b[0m\n\u001b[1;32m    265\u001b[0m binding \u001b[38;5;241m=\u001b[39m signature\u001b[38;5;241m.\u001b[39mbind(\u001b[38;5;241m*\u001b[39ma, \u001b[38;5;241m*\u001b[39m\u001b[38;5;241m*\u001b[39mkw)\n\u001b[1;32m    266\u001b[0m \u001b[38;5;28;01mwith\u001b[39;00m Context(\n\u001b[1;32m    267\u001b[0m     name\u001b[38;5;241m=\u001b[39mname, kind\u001b[38;5;241m=\u001b[39mkind \u001b[38;5;129;01mor\u001b[39;00m \u001b[38;5;124m\"\u001b[39m\u001b[38;5;124mcall\u001b[39m\u001b[38;5;124m\"\u001b[39m, inputs\u001b[38;5;241m=\u001b[39mbinding\u001b[38;5;241m.\u001b[39marguments, tags\u001b[38;5;241m=\u001b[39mtags\n\u001b[1;32m    268\u001b[0m ) \u001b[38;5;28;01mas\u001b[39;00m ctx:\n\u001b[0;32m--> 269\u001b[0m     result \u001b[38;5;241m=\u001b[39m \u001b[43mfunc\u001b[49m\u001b[43m(\u001b[49m\u001b[38;5;241;43m*\u001b[39;49m\u001b[43ma\u001b[49m\u001b[43m,\u001b[49m\u001b[43m \u001b[49m\u001b[38;5;241;43m*\u001b[39;49m\u001b[38;5;241;43m*\u001b[39;49m\u001b[43mkw\u001b[49m\u001b[43m)\u001b[49m\n\u001b[1;32m    270\u001b[0m     ctx\u001b[38;5;241m.\u001b[39mset_result(result)\n\u001b[1;32m    271\u001b[0m     \u001b[38;5;28;01mreturn\u001b[39;00m result\n",
      "Cell \u001b[0;32mIn[6], line 5\u001b[0m, in \u001b[0;36mmy_function\u001b[0;34m(a, b)\u001b[0m\n\u001b[1;32m      3\u001b[0m \u001b[38;5;129m@with_context\u001b[39m\n\u001b[1;32m      4\u001b[0m \u001b[38;5;28;01mdef\u001b[39;00m \u001b[38;5;21mmy_function\u001b[39m(a, b):\n\u001b[0;32m----> 5\u001b[0m     \u001b[38;5;28;01mraise\u001b[39;00m \u001b[38;5;167;01mException\u001b[39;00m(\u001b[38;5;124m\"\u001b[39m\u001b[38;5;124mOops\u001b[39m\u001b[38;5;124m\"\u001b[39m)\n",
      "\u001b[0;31mException\u001b[0m: Oops"
     ]
    }
   ],
   "source": [
    "# note: errors must still be handled!\n",
    "\n",
    "# This is expected to throw an error - note the context would still be stored if you set up storage here\n",
    "with Context(\"root\") as c:\n",
    "    my_function(1, 2)"
   ]
  },
  {
   "cell_type": "code",
   "execution_count": 10,
   "id": "9d28ae58-3cb8-4479-8d21-4f80467be33a",
   "metadata": {},
   "outputs": [
    {
     "data": {
      "text/plain": [
       "{'_type': 'Context',\n",
       " 'name': 'root',\n",
       " 'uid': '2023-07-27T23:15:41-root-s4qMDc',\n",
       " 'state': 'error',\n",
       " 'error': {'_type': 'error', 'name': 'Oops'},\n",
       " 'children': [{'_type': 'Context',\n",
       "   'name': 'my_function',\n",
       "   'uid': '2023-07-27T23:15:41-my_function-Mwvocj',\n",
       "   'state': 'error',\n",
       "   'kind': 'call',\n",
       "   'error': {'_type': 'error', 'name': 'Oops'},\n",
       "   'inputs': {'a': 1, 'b': 2},\n",
       "   'start_time': '2023-07-27T23:15:41.469918',\n",
       "   'end_time': '2023-07-27T23:15:41.469940'}],\n",
       " 'start_time': '2023-07-27T23:15:41.469835',\n",
       " 'end_time': '2023-07-27T23:15:41.469948'}"
      ]
     },
     "execution_count": 10,
     "metadata": {},
     "output_type": "execute_result"
    }
   ],
   "source": [
    "c.to_dict()"
   ]
  },
  {
   "cell_type": "code",
   "execution_count": 11,
   "id": "03a99644-e6a9-4fd3-9b6a-613835a2f4ba",
   "metadata": {},
   "outputs": [
    {
     "name": "stdout",
     "output_type": "stream",
     "text": [
      "{\n",
      "  \"_type\": \"Context\",\n",
      "  \"name\": \"root\",\n",
      "  \"uid\": \"2023-07-27T23:15:47-root-KVzVSK\",\n",
      "  \"state\": \"error\",\n",
      "  \"error\": {\n",
      "    \"_type\": \"error\",\n",
      "    \"name\": \"Oops\"\n",
      "  },\n",
      "  \"children\": [\n",
      "    {\n",
      "      \"_type\": \"Context\",\n",
      "      \"name\": \"my_function\",\n",
      "      \"uid\": \"2023-07-27T23:15:47-my_function-LDCdXk\",\n",
      "      \"state\": \"error\",\n",
      "      \"kind\": \"call\",\n",
      "      \"error\": {\n",
      "        \"_type\": \"error\",\n",
      "        \"name\": \"Oops\"\n",
      "      },\n",
      "      \"inputs\": {\n",
      "        \"a\": 10,\n",
      "        \"b\": 20\n",
      "      },\n",
      "      \"start_time\": \"2023-07-27T23:15:47.088864\",\n",
      "      \"end_time\": \"2023-07-27T23:15:47.088892\"\n",
      "    }\n",
      "  ],\n",
      "  \"start_time\": \"2023-07-27T23:15:47.088787\",\n",
      "  \"end_time\": \"2023-07-27T23:15:47.088902\"\n",
      "}\n"
     ]
    }
   ],
   "source": [
    "# Error handling: currently the exception type is not stored\n",
    "\n",
    "@with_context\n",
    "def my_function(a, b):\n",
    "    raise NotImplementedError(\"Oops\")\n",
    "\n",
    "try:\n",
    "    with Context(\"root\") as c:\n",
    "        my_function(10, 20)\n",
    "except:\n",
    "    pass\n",
    "\n",
    "show(c.to_dict())"
   ]
  },
  {
   "cell_type": "markdown",
   "id": "b2d48d87-40d4-4177-9127-7b66c6611dea",
   "metadata": {},
   "source": [
    "### Dataclasses"
   ]
  },
  {
   "cell_type": "code",
   "execution_count": 12,
   "id": "c4b9ab8d-40c8-4762-9988-88ece04763e4",
   "metadata": {
    "tags": []
   },
   "outputs": [
    {
     "name": "stdout",
     "output_type": "stream",
     "text": [
      "{\n",
      "  \"_type\": \"Context\",\n",
      "  \"name\": \"root\",\n",
      "  \"uid\": \"2023-07-27T23:15:49-root-CVTOn6\",\n",
      "  \"children\": [\n",
      "    {\n",
      "      \"_type\": \"Context\",\n",
      "      \"name\": \"say_hi\",\n",
      "      \"uid\": \"2023-07-27T23:15:49-say_hi-s4AjZ8\",\n",
      "      \"kind\": \"call\",\n",
      "      \"result\": \"Hi Alice!\",\n",
      "      \"inputs\": {\n",
      "        \"person\": {\n",
      "          \"name\": \"Alice\",\n",
      "          \"age\": 21,\n",
      "          \"_type\": \"Person\"\n",
      "        }\n",
      "      },\n",
      "      \"start_time\": \"2023-07-27T23:15:49.851200\",\n",
      "      \"end_time\": \"2023-07-27T23:15:49.851228\"\n",
      "    }\n",
      "  ],\n",
      "  \"start_time\": \"2023-07-27T23:15:49.851065\",\n",
      "  \"end_time\": \"2023-07-27T23:15:49.851236\"\n",
      "}\n"
     ]
    }
   ],
   "source": [
    "# Dataclasses are serialized for logging inside contexts\n",
    "\n",
    "@dataclass\n",
    "class Person:\n",
    "    name: str\n",
    "    age: int\n",
    "    \n",
    "@with_context\n",
    "def say_hi(person):\n",
    "    return f\"Hi {person.name}!\"\n",
    "\n",
    "with Context(\"root\") as c:\n",
    "    person = Person(\"Alice\", 21)\n",
    "    say_hi(person)\n",
    "\n",
    "show(c.to_dict())"
   ]
  },
  {
   "cell_type": "code",
   "execution_count": 13,
   "id": "28f67ce4-9005-4551-9c64-4085eaa976fc",
   "metadata": {},
   "outputs": [
    {
     "name": "stdout",
     "output_type": "stream",
     "text": [
      "{\n",
      "  \"_type\": \"Context\",\n",
      "  \"name\": \"root\",\n",
      "  \"uid\": \"2023-07-27T23:15:52-root-i0rfCy\",\n",
      "  \"children\": [\n",
      "    {\n",
      "      \"_type\": \"Context\",\n",
      "      \"name\": \"give_birth\",\n",
      "      \"uid\": \"2023-07-27T23:15:52-give_birth-iyFmaO\",\n",
      "      \"kind\": \"call\",\n",
      "      \"result\": {\n",
      "        \"name\": \"Alice\",\n",
      "        \"age\": 0,\n",
      "        \"_type\": \"Person\"\n",
      "      },\n",
      "      \"inputs\": {\n",
      "        \"name\": \"Alice\"\n",
      "      },\n",
      "      \"start_time\": \"2023-07-27T23:15:52.392583\",\n",
      "      \"end_time\": \"2023-07-27T23:15:52.392648\"\n",
      "    }\n",
      "  ],\n",
      "  \"start_time\": \"2023-07-27T23:15:52.392488\",\n",
      "  \"end_time\": \"2023-07-27T23:15:52.392658\"\n",
      "}\n"
     ]
    }
   ],
   "source": [
    "# same with dataclass outputs\n",
    "@with_context\n",
    "def give_birth(name):\n",
    "    return Person(age=0, name=name)\n",
    "\n",
    "with Context(\"root\") as c:\n",
    "    give_birth(\"Alice\")\n",
    "\n",
    "show(c.to_dict())"
   ]
  },
  {
   "cell_type": "markdown",
   "id": "7aa2f6ac-4a36-43ab-bc20-5311710148df",
   "metadata": {},
   "source": [
    "### LLMs\n",
    "\n",
    "Note that you need to have the LLM API keys [stored in an `.env` file](https://github.com/theskumar/python-dotenv#getting-started) (recommended), or as environment variables. (Storing API keys in this notebook is possible but unadvisable for security reasons.)"
   ]
  },
  {
   "cell_type": "code",
   "execution_count": 18,
   "id": "f4d75c6a-a40c-43e0-87b5-edbc7e6bc961",
   "metadata": {},
   "outputs": [
    {
     "name": "stderr",
     "output_type": "stream",
     "text": [
      "[2023-07-27 23:19:02,807] INFO(interlab.lang_models.openai): Created OpenAiChatModel with API_KEY='sk-SVVl[...] and API_ORG='org-3Oa6[...], model=gpt-3.5-turbo\n"
     ]
    },
    {
     "name": "stdout",
     "output_type": "stream",
     "text": [
      "{\n",
      "  \"_type\": \"Context\",\n",
      "  \"name\": \"root\",\n",
      "  \"uid\": \"2023-07-27T23:19:02-root-GG31xy\",\n",
      "  \"children\": [\n",
      "    {\n",
      "      \"_type\": \"Context\",\n",
      "      \"name\": \"OpenAiChat gpt-3.5-turbo\",\n",
      "      \"uid\": \"2023-07-27T23:19:02-OpenAiChat_gpt_3-E9mGlB\",\n",
      "      \"kind\": \"query\",\n",
      "      \"result\": \"As an AI, I don't have feelings, but I'm here and ready to assist you with any questions or tasks you have! How can I help you today?\",\n",
      "      \"inputs\": {\n",
      "        \"prompt\": \"How are you?\",\n",
      "        \"conf\": {\n",
      "          \"api\": \"OpenAiChat\",\n",
      "          \"model\": \"gpt-3.5-turbo\",\n",
      "          \"temperature\": 0.7,\n",
      "          \"max_tokens\": 1024,\n",
      "          \"_type\": \"ModelConf\"\n",
      "        }\n",
      "      },\n",
      "      \"start_time\": \"2023-07-27T23:19:02.809265\",\n",
      "      \"end_time\": \"2023-07-27T23:19:04.299254\"\n",
      "    },\n",
      "    {\n",
      "      \"_type\": \"Context\",\n",
      "      \"name\": \"OpenAiChat gpt-3.5-turbo\",\n",
      "      \"uid\": \"2023-07-27T23:19:04-OpenAiChat_gpt_3-ufWkbe\",\n",
      "      \"kind\": \"query\",\n",
      "      \"result\": \"Yes, the given text appears to be generated by an LLM (Language Model).\",\n",
      "      \"inputs\": {\n",
      "        \"prompt\": \"Is the following text generated by an LLM?\\n\\nAs an AI, I don't have feelings, but I'm here and ready to assist you with any questions or tasks you have! How can I help you today?\",\n",
      "        \"conf\": {\n",
      "          \"api\": \"OpenAiChat\",\n",
      "          \"model\": \"gpt-3.5-turbo\",\n",
      "          \"temperature\": 0.7,\n",
      "          \"max_tokens\": 1024,\n",
      "          \"_type\": \"ModelConf\"\n",
      "        }\n",
      "      },\n",
      "      \"start_time\": \"2023-07-27T23:19:04.299375\",\n",
      "      \"end_time\": \"2023-07-27T23:19:05.278963\"\n",
      "    }\n",
      "  ],\n",
      "  \"start_time\": \"2023-07-27T23:19:02.809167\",\n",
      "  \"end_time\": \"2023-07-27T23:19:05.279009\"\n",
      "}\n"
     ]
    }
   ],
   "source": [
    "# Load API keys from \".env\" file if you have one\n",
    "import dotenv\n",
    "dotenv.load_dotenv()\n",
    "\n",
    "# LLM queries track context automatically\n",
    "model = OpenAiChatModel()\n",
    "\n",
    "with Context(\"root\") as c:\n",
    "        response = model.query(\"How are you?\")\n",
    "        model.query(\"Is the following text generated by an LLM?\\n\\n\" + response)\n",
    "    \n",
    "show(c.to_dict())"
   ]
  },
  {
   "cell_type": "code",
   "execution_count": 17,
   "id": "1ed4c300-3d66-4f3c-8b26-b3c16312b82e",
   "metadata": {
    "tags": []
   },
   "outputs": [
    {
     "name": "stderr",
     "output_type": "stream",
     "text": [
      "[2023-07-27 23:18:50,096] INFO(interlab.lang_models.openai): Created OpenAiChatModel with API_KEY='sk-SVVl[...] and API_ORG='org-3Oa6[...], model=gpt-3.5-turbo\n",
      "[2023-07-27 23:18:50,245] INFO(interlab.lang_models.anthropic): Created AnthropicModel with API_KEY='sk-ant-rKAi[...], default model=claude-v1\n",
      "[2023-07-27 23:18:51,595] INFO(openai): message='OpenAI API response' path=https://api.openai.com/v1/chat/completions processing_ms=957 request_id=89d7ef99bef8902a54716e4eed0b83b2 response_code=200\n",
      "[2023-07-27 23:18:52,825] INFO(openai): message='OpenAI API response' path=https://api.openai.com/v1/chat/completions processing_ms=931 request_id=df01dcd75ef7328f5127c44c5b930faf response_code=200\n",
      "[2023-07-27 23:18:54,378] INFO(httpx): HTTP Request: POST https://api.anthropic.com/v1/complete \"HTTP/1.1 200 OK\"\n",
      "[2023-07-27 23:18:55,997] INFO(httpx): HTTP Request: POST https://api.anthropic.com/v1/complete \"HTTP/1.1 200 OK\"\n"
     ]
    },
    {
     "name": "stdout",
     "output_type": "stream",
     "text": [
      "{\n",
      "  \"_type\": \"Context\",\n",
      "  \"name\": \"root\",\n",
      "  \"uid\": \"2023-07-27T23:18:50-root-l4llMz\",\n",
      "  \"children\": [\n",
      "    {\n",
      "      \"_type\": \"Context\",\n",
      "      \"name\": \"make_queries\",\n",
      "      \"uid\": \"2023-07-27T23:18:50-make_queries-Mc1Xtw\",\n",
      "      \"kind\": \"acall\",\n",
      "      \"result\": \"Yes, this is a nice and helpful response. It acknowledges the limitations of the AI while offering assistance to the user.\",\n",
      "      \"inputs\": {\n",
      "        \"model\": {\n",
      "          \"model\": \"gpt-3.5-turbo\",\n",
      "          \"temperature\": 0.7,\n",
      "          \"_type\": \"OpenAiChatModel\"\n",
      "        }\n",
      "      },\n",
      "      \"children\": [\n",
      "        {\n",
      "          \"_type\": \"Context\",\n",
      "          \"name\": \"OpenAiChat gpt-3.5-turbo\",\n",
      "          \"uid\": \"2023-07-27T23:18:50-OpenAiChat_gpt_3-u2C9ZL\",\n",
      "          \"kind\": \"query\",\n",
      "          \"result\": \"I'm an AI, so I don't have feelings, but I'm here to help you. How can I assist you today?\",\n",
      "          \"inputs\": {\n",
      "            \"prompt\": \"Hi are you?\",\n",
      "            \"conf\": {\n",
      "              \"api\": \"OpenAiChat\",\n",
      "              \"model\": \"gpt-3.5-turbo\",\n",
      "              \"temperature\": 0.7,\n",
      "              \"max_tokens\": 1024,\n",
      "              \"_type\": \"ModelConf\"\n",
      "            }\n",
      "          },\n",
      "          \"start_time\": \"2023-07-27T23:18:50.246858\",\n",
      "          \"end_time\": \"2023-07-27T23:18:51.598872\"\n",
      "        },\n",
      "        {\n",
      "          \"_type\": \"Context\",\n",
      "          \"name\": \"OpenAiChat gpt-3.5-turbo\",\n",
      "          \"uid\": \"2023-07-27T23:18:51-OpenAiChat_gpt_3-IlIp97\",\n",
      "          \"kind\": \"query\",\n",
      "          \"result\": \"Yes, this is a nice and helpful response. It acknowledges the limitations of the AI while offering assistance to the user.\",\n",
      "          \"inputs\": {\n",
      "            \"prompt\": \"Is this nice response?\\n\\nI'm an AI, so I don't have feelings, but I'm here to help you. How can I assist you today?\",\n",
      "            \"conf\": {\n",
      "              \"api\": \"OpenAiChat\",\n",
      "              \"model\": \"gpt-3.5-turbo\",\n",
      "              \"temperature\": 0.7,\n",
      "              \"max_tokens\": 1024,\n",
      "              \"_type\": \"ModelConf\"\n",
      "            }\n",
      "          },\n",
      "          \"start_time\": \"2023-07-27T23:18:51.599184\",\n",
      "          \"end_time\": \"2023-07-27T23:18:52.826809\"\n",
      "        }\n",
      "      ],\n",
      "      \"start_time\": \"2023-07-27T23:18:50.246809\",\n",
      "      \"end_time\": \"2023-07-27T23:18:52.826827\"\n",
      "    },\n",
      "    {\n",
      "      \"_type\": \"Context\",\n",
      "      \"name\": \"make_queries\",\n",
      "      \"uid\": \"2023-07-27T23:18:52-make_queries-4VGxxn\",\n",
      "      \"kind\": \"acall\",\n",
      "      \"result\": \"Here is a suggested response:\\n\\nHello! My name is [Assistant Name]. I'm an AI assistant created by Anthropic.\",\n",
      "      \"inputs\": {\n",
      "        \"model\": {\n",
      "          \"model\": \"claude-v1\",\n",
      "          \"temperature\": 1.0,\n",
      "          \"_type\": \"AnthropicModel\"\n",
      "        }\n",
      "      },\n",
      "      \"children\": [\n",
      "        {\n",
      "          \"_type\": \"Context\",\n",
      "          \"name\": \"Anthropic claude-v1\",\n",
      "          \"uid\": \"2023-07-27T23:18:52-Anthropic_claude-aUu1cp\",\n",
      "          \"result\": \"Hello! I'm Claude, an AI assistant created by Anthropic.\",\n",
      "          \"inputs\": {\n",
      "            \"prompt\": \"Hi are you?\",\n",
      "            \"conf\": {\n",
      "              \"api\": \"Anthropic\",\n",
      "              \"model\": \"claude-v1\",\n",
      "              \"temperature\": 1.0,\n",
      "              \"max_tokens\": 1024,\n",
      "              \"_type\": \"ModelConf\"\n",
      "            }\n",
      "          },\n",
      "          \"start_time\": \"2023-07-27T23:18:52.827011\",\n",
      "          \"end_time\": \"2023-07-27T23:18:54.383408\"\n",
      "        },\n",
      "        {\n",
      "          \"_type\": \"Context\",\n",
      "          \"name\": \"Anthropic claude-v1\",\n",
      "          \"uid\": \"2023-07-27T23:18:54-Anthropic_claude-nap5ae\",\n",
      "          \"result\": \"Here is a suggested response:\\n\\nHello! My name is [Assistant Name]. I'm an AI assistant created by Anthropic.\",\n",
      "          \"inputs\": {\n",
      "            \"prompt\": \"Is this nice response?\\n\\nHello! I'm Claude, an AI assistant created by Anthropic.\",\n",
      "            \"conf\": {\n",
      "              \"api\": \"Anthropic\",\n",
      "              \"model\": \"claude-v1\",\n",
      "              \"temperature\": 1.0,\n",
      "              \"max_tokens\": 1024,\n",
      "              \"_type\": \"ModelConf\"\n",
      "            }\n",
      "          },\n",
      "          \"start_time\": \"2023-07-27T23:18:54.383747\",\n",
      "          \"end_time\": \"2023-07-27T23:18:56.001757\"\n",
      "        }\n",
      "      ],\n",
      "      \"start_time\": \"2023-07-27T23:18:52.826932\",\n",
      "      \"end_time\": \"2023-07-27T23:18:56.001815\"\n",
      "    }\n",
      "  ],\n",
      "  \"start_time\": \"2023-07-27T23:18:50.246696\",\n",
      "  \"end_time\": \"2023-07-27T23:18:56.001842\"\n",
      "}\n"
     ]
    }
   ],
   "source": [
    "# async LLM queries work as well\n",
    "import asyncio \n",
    "\n",
    "model1 = OpenAiChatModel()\n",
    "model2 = AnthropicModel()\n",
    "\n",
    "@with_context\n",
    "async def make_queries(model):\n",
    "    response = await model.aquery(\"Hi are you?\")\n",
    "    return await model.aquery(\"Is this nice response?\\n\\n\" + response)  \n",
    "\n",
    "with Context(\"root\") as c:\n",
    "    q1 = make_queries(model1)\n",
    "    q2 = make_queries(model2)\n",
    "\n",
    "    await q1\n",
    "    await q2\n",
    "\n",
    "show(c.to_dict())"
   ]
  },
  {
   "cell_type": "markdown",
   "id": "ed0bd8c3-faf8-44e7-97d7-df18c78439c7",
   "metadata": {},
   "source": [
    "### Tags"
   ]
  },
  {
   "cell_type": "code",
   "execution_count": 19,
   "id": "2543b8bf-516a-4315-b627-db7926ab14e0",
   "metadata": {},
   "outputs": [
    {
     "name": "stdout",
     "output_type": "stream",
     "text": [
      "{\n",
      "  \"_type\": \"Context\",\n",
      "  \"name\": \"root\",\n",
      "  \"uid\": \"2023-07-27T23:19:21-root-3NUKUk\",\n",
      "  \"tags\": [\n",
      "    \"tag1\",\n",
      "    \"tag2\",\n",
      "    \"exp1\",\n",
      "    {\n",
      "      \"name\": \"success!\",\n",
      "      \"color\": \"lightgreen\",\n",
      "      \"_type\": \"Tag\"\n",
      "    }\n",
      "  ],\n",
      "  \"start_time\": \"2023-07-27T23:19:21.216239\",\n",
      "  \"end_time\": \"2023-07-27T23:19:21.216272\"\n",
      "}\n"
     ]
    }
   ],
   "source": [
    "# Tags\n",
    "\n",
    "with Context(\"root\", tags=[\"tag1\", \"tag2\"]) as c:\n",
    "    c.add_tag(\"exp1\")  # Add to a context dynamically\n",
    "    c.add_tag(Tag(\"success!\", color=\"lightgreen\"))  # Add colored tag\n",
    "\n",
    "show(c.to_dict())"
   ]
  },
  {
   "cell_type": "markdown",
   "id": "b65909dc-bfee-41e8-9ee8-98fb6efe3d1a",
   "metadata": {},
   "source": [
    "### Images and Plots"
   ]
  },
  {
   "cell_type": "code",
   "execution_count": 20,
   "id": "b84af607-4fde-4d59-8cff-0cfa7cdbe6b4",
   "metadata": {},
   "outputs": [
    {
     "data": {
      "image/png": "[encoded data removed]",
      "text/plain": [
       "<Figure size 640x480 with 1 Axes>"
      ]
     },
     "metadata": {},
     "output_type": "display_data"
    }
   ],
   "source": [
    "with Context(\"root\") as root:\n",
    "    with Context(\"first\", meta={\"color\": \"lightgreen\"}):\n",
    "        pass\n",
    "    with Context(\"second\", meta={\"color\": \"lightblue\"}):\n",
    "        pass        \n",
    "\n",
    "    fig, ax = plt.subplots()\n",
    "    \n",
    "    fruits = ['apple', 'blueberry', 'cherry', 'orange']\n",
    "    counts = [40, 100, 30, 55]\n",
    "    bar_labels = ['red', 'blue', '_red', 'orange']\n",
    "    bar_colors = ['tab:red', 'tab:blue', 'tab:red', 'tab:orange']\n",
    "    \n",
    "    ax.bar(fruits, counts, label=bar_labels, color=bar_colors)\n",
    "    \n",
    "    with Context(\"image demo\", inputs={\"my_chart\": capture_figure(), \"other_param\": 42}) as root2:\n",
    "        pass"
   ]
  },
  {
   "cell_type": "code",
   "execution_count": 21,
   "id": "23b41f20-fe91-4894-8d5c-9f47f1140782",
   "metadata": {},
   "outputs": [
    {
     "name": "stdout",
     "output_type": "stream",
     "text": [
      "{\n",
      "  \"_type\": \"Context\",\n",
      "  \"name\": \"root\",\n",
      "  \"uid\": \"2023-07-27T23:19:30-root-lhxZPd\",\n",
      "  \"children\": [\n",
      "    {\n",
      "      \"_type\": \"Context\",\n",
      "      \"name\": \"child\",\n",
      "      \"uid\": \"2023-07-27T23:19:30-child-LIwQaw\",\n",
      "      \"tags\": [\n",
      "        \"tag1\"\n",
      "      ],\n",
      "      \"start_time\": \"2023-07-27T23:19:30.808975\",\n",
      "      \"end_time\": \"2023-07-27T23:19:30.808990\"\n",
      "    }\n",
      "  ],\n",
      "  \"start_time\": \"2023-07-27T23:19:30.808888\",\n",
      "  \"end_time\": \"2023-07-27T23:19:30.808995\"\n",
      "}\n"
     ]
    }
   ],
   "source": [
    "# get current context\n",
    "\n",
    "with Context(\"root\") as c:\n",
    "    with Context(\"child\"):\n",
    "        current_context().add_tag(\"tag1\")\n",
    "\n",
    "show(c.to_dict())"
   ]
  },
  {
   "cell_type": "markdown",
   "id": "a0f4a640-9026-437b-be2f-193e561a71b8",
   "metadata": {},
   "source": [
    "### Events"
   ]
  },
  {
   "cell_type": "code",
   "execution_count": 22,
   "id": "cd87bf47-b910-4f54-aea4-6077567dc5f9",
   "metadata": {},
   "outputs": [
    {
     "name": "stdout",
     "output_type": "stream",
     "text": [
      "{\n",
      "  \"_type\": \"Context\",\n",
      "  \"name\": \"root\",\n",
      "  \"uid\": \"2023-07-27T23:19:34-root-p5FHKL\",\n",
      "  \"children\": [\n",
      "    {\n",
      "      \"_type\": \"Context\",\n",
      "      \"name\": \"Message to Alice\",\n",
      "      \"uid\": \"2023-07-27T23:19:34-Message_to_Alice-Cd9eKm\",\n",
      "      \"state\": \"event\",\n",
      "      \"kind\": \"message\",\n",
      "      \"result\": \"Hi, Alice!\",\n",
      "      \"end_time\": \"2023-07-27T23:19:34.093357\"\n",
      "    }\n",
      "  ],\n",
      "  \"start_time\": \"2023-07-27T23:19:34.093318\",\n",
      "  \"end_time\": \"2023-07-27T23:19:34.093368\"\n",
      "}\n"
     ]
    }
   ],
   "source": [
    "# Events (instant context with immediate result)\n",
    "\n",
    "with Context(\"root\") as c:\n",
    "    c.add_event(\"Message to Alice\", kind=\"message\", data=\"Hi, Alice!\")\n",
    "\n",
    "show(c.to_dict())"
   ]
  },
  {
   "cell_type": "markdown",
   "id": "faab39e4-0488-47b5-af6a-8e046ea0bdb6",
   "metadata": {},
   "source": [
    "### Storage"
   ]
  },
  {
   "cell_type": "code",
   "execution_count": 23,
   "id": "ba0d2484-3e67-4657-b605-25ff77410c05",
   "metadata": {},
   "outputs": [],
   "source": [
    "# Register context into storage\n",
    "storage=interlab.context.FileStorage(\"/tmp/interlab\")\n",
    "with Context(\"root1\", storage=storage):\n",
    "    pass\n"
   ]
  },
  {
   "cell_type": "code",
   "execution_count": 24,
   "id": "a018fb25-9800-4fdf-b735-963965bdc0f3",
   "metadata": {},
   "outputs": [],
   "source": [
    "# Manual writing context into storage\n",
    "\n",
    "with Context(\"root2\", tags=[\"hello\"]) as c:\n",
    "    pass\n",
    "\n",
    "storage.write_context(c)"
   ]
  },
  {
   "cell_type": "code",
   "execution_count": 26,
   "id": "4c582166-799b-4e4e-a669-6af9d7d0863a",
   "metadata": {},
   "outputs": [
    {
     "data": {
      "text/plain": [
       "[PosixPath('/tmp/interlab/2023-07-27T23:20:43-root3-MoJMCK.ctx/_self.gz'),\n",
       " PosixPath('/tmp/interlab/2023-07-27T23:20:43-root3-MoJMCK.ctx/2023-07-27T23:20:43-first_child-Fru5F5.ctx'),\n",
       " PosixPath('/tmp/interlab/2023-07-27T23:20:43-root3-MoJMCK.ctx/2023-07-27T23:20:43-second_child-WfOHQa.ctx'),\n",
       " PosixPath('/tmp/interlab/2023-07-27T23:20:43-root3-MoJMCK.ctx/2023-07-27T23:20:43-first_child-Fru5F5.ctx/_self.gz'),\n",
       " PosixPath('/tmp/interlab/2023-07-27T23:20:43-root3-MoJMCK.ctx/2023-07-27T23:20:43-first_child-Fru5F5.ctx/2023-07-27T23:20:43-a-n3yIOo.full.gz'),\n",
       " PosixPath('/tmp/interlab/2023-07-27T23:20:43-root3-MoJMCK.ctx/2023-07-27T23:20:43-first_child-Fru5F5.ctx/2023-07-27T23:20:43-a-n3yIOo.root.gz'),\n",
       " PosixPath('/tmp/interlab/2023-07-27T23:20:43-root3-MoJMCK.ctx/2023-07-27T23:20:43-first_child-Fru5F5.ctx/2023-07-27T23:20:43-b-f4cj46.full.gz'),\n",
       " PosixPath('/tmp/interlab/2023-07-27T23:20:43-root3-MoJMCK.ctx/2023-07-27T23:20:43-first_child-Fru5F5.ctx/2023-07-27T23:20:43-b-f4cj46.root.gz'),\n",
       " PosixPath('/tmp/interlab/2023-07-27T23:20:43-root3-MoJMCK.ctx/2023-07-27T23:20:43-second_child-WfOHQa.ctx/_self.gz'),\n",
       " PosixPath('/tmp/interlab/2023-07-27T23:20:43-root3-MoJMCK.ctx/2023-07-27T23:20:43-second_child-WfOHQa.ctx/2023-07-27T23:20:43-a-0CXcfZ.full.gz'),\n",
       " PosixPath('/tmp/interlab/2023-07-27T23:20:43-root3-MoJMCK.ctx/2023-07-27T23:20:43-second_child-WfOHQa.ctx/2023-07-27T23:20:43-a-0CXcfZ.root.gz'),\n",
       " PosixPath('/tmp/interlab/2023-07-27T23:20:43-root3-MoJMCK.ctx/2023-07-27T23:20:43-second_child-WfOHQa.ctx/2023-07-27T23:20:43-b-78m4mb.full.gz'),\n",
       " PosixPath('/tmp/interlab/2023-07-27T23:20:43-root3-MoJMCK.ctx/2023-07-27T23:20:43-second_child-WfOHQa.ctx/2023-07-27T23:20:43-b-78m4mb.root.gz')]"
      ]
     },
     "execution_count": 26,
     "metadata": {},
     "output_type": "execute_result"
    }
   ],
   "source": [
    "# Composing directory structure with contexts:\n",
    "# each context subtree marked with `directory=True` getns stored in a separete json rather than in the main json\n",
    "\n",
    "with Context(\"root3\", storage=storage, directory=True) as root:\n",
    "    with Context(\"first child\", directory=True):\n",
    "        with Context(\"a\"):\n",
    "            pass\n",
    "        with Context(\"b\", tags=[\"hello\"]):\n",
    "            pass\n",
    "    with Context(\"second child\", directory=True):\n",
    "        with Context(\"a\"):\n",
    "            pass\n",
    "        with Context(\"b\"):\n",
    "            pass\n",
    "\n",
    "import pathlib\n",
    "list(pathlib.Path(f\"{storage.directory}/{root.uid}.ctx\").rglob(\"*\"))"
   ]
  },
  {
   "cell_type": "markdown",
   "id": "27d4aabe-8ab7-4170-8e08-12bf12c7b540",
   "metadata": {},
   "source": [
    "### Data browser"
   ]
  },
  {
   "cell_type": "code",
   "execution_count": 27,
   "id": "55028a5f-2ce6-4340-8424-36a9e2db7664",
   "metadata": {},
   "outputs": [
    {
     "name": "stderr",
     "output_type": "stream",
     "text": [
      "[2023-07-27 23:20:48,187] INFO(interlab.ui.storage_server): Started context UI server: <ServerHandle http://localhost:46331>\n"
     ]
    },
    {
     "data": {
      "text/plain": [
       "<ServerHandle http://localhost:46331>"
      ]
     },
     "execution_count": 27,
     "metadata": {},
     "output_type": "execute_result"
    }
   ],
   "source": [
    "# Running data browser over storage\n",
    "\n",
    "storage.start_server()"
   ]
  },
  {
   "cell_type": "code",
   "execution_count": 29,
   "id": "f5ac9b2c-0e46-4335-b8f9-94c564da328f",
   "metadata": {},
   "outputs": [],
   "source": [
    "# Long running cell, you can observe it in browser in running state (nneds to be refreshed manually)\n",
    "\n",
    "with Context(\"Long running\", storage=storage):\n",
    "    with Context(\"Child1\"):\n",
    "        import time\n",
    "        time.sleep(10)"
   ]
  },
  {
   "cell_type": "code",
   "execution_count": 30,
   "id": "85092727-63fa-46be-b810-c594a5f80469",
   "metadata": {},
   "outputs": [
    {
     "name": "stdout",
     "output_type": "stream",
     "text": [
      "2023-07-27T23:19:36-root1-Xbml3w root1\n",
      "2023-07-27T23:19:38-root2-dnOjNj root2\n",
      "2023-07-27T23:20:50-Long_running-jdgbbZ Long running\n",
      "2023-07-27T23:21:15-Long_running-zT7YuF Long running\n",
      "2023-07-27T23:19:40-root3-UsT2aG root3\n",
      "2023-07-27T23:20:43-root3-MoJMCK root3\n"
     ]
    }
   ],
   "source": [
    "# Read all stored (root) contexts\n",
    "\n",
    "for context in storage.read_all_contexts():\n",
    "    print(context.uid, context.name)"
   ]
  },
  {
   "cell_type": "code",
   "execution_count": 31,
   "id": "fcf86e95-dbbb-4d7b-b4a8-3ea4a5ed4948",
   "metadata": {},
   "outputs": [
    {
     "name": "stdout",
     "output_type": "stream",
     "text": [
      "2023-07-27T23:19:38-root2-dnOjNj root2\n",
      "2023-07-27T23:19:40-b-eUBBcE b\n",
      "2023-07-27T23:20:43-b-f4cj46 b\n"
     ]
    }
   ],
   "source": [
    "# Recursively search for specific contexts\n",
    "\n",
    "for context in storage.find_contexts(lambda ctx: ctx.has_tag_name(\"hello\")):\n",
    "    print(context.uid, context.name)"
   ]
  },
  {
   "cell_type": "code",
   "execution_count": 32,
   "id": "7caf5ab5-ee58-415e-8ef9-e539fdc1ab4a",
   "metadata": {},
   "outputs": [
    {
     "name": "stdout",
     "output_type": "stream",
     "text": [
      "2023-07-27T23:20:43-root3-MoJMCK root3\n"
     ]
    },
    {
     "data": {
      "text/plain": [
       "[<interlab.context.context.Context at 0x7fb6aeb6c7c0>,\n",
       " <interlab.context.context.Context at 0x7fb6aeb6e3e0>]"
      ]
     },
     "execution_count": 32,
     "metadata": {},
     "output_type": "execute_result"
    }
   ],
   "source": [
    "# Read a context by uid\n",
    "\n",
    "context = storage.read_context(root.uid)\n",
    "print(context.uid, context.name)\n",
    "\n",
    "\n",
    "# Search in a given context\n",
    "\n",
    "context.find_contexts(lambda x: x.name == \"a\")"
   ]
  },
  {
   "cell_type": "code",
   "execution_count": null,
   "id": "0c0ebd6d-432b-4c65-bbf9-c0d949f76ae3",
   "metadata": {},
   "outputs": [],
   "source": []
  }
 ],
 "metadata": {
  "kernelspec": {
   "display_name": "Python 3 (ipykernel)",
   "language": "python",
   "name": "python3"
  },
  "language_info": {
   "codemirror_mode": {
    "name": "ipython",
    "version": 3
   },
   "file_extension": ".py",
   "mimetype": "text/x-python",
   "name": "python",
   "nbconvert_exporter": "python",
   "pygments_lexer": "ipython3",
   "version": "3.10.12"
  }
 },
 "nbformat": 4,
 "nbformat_minor": 5
}
