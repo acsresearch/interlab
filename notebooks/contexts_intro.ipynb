{
 "cells": [
  {
   "cell_type": "markdown",
   "id": "c0fed295-5189-4ac9-af7b-8837e5a01a9a",
   "metadata": {},
   "source": [
    "# Introduction to InterLab contexts internals\n",
    "\n",
    "**NOTE: This notebooks deals with both standard context use and some low-level aspects of context and their storage.**\n",
    "\n",
    "InterLab Contexts are a framework for logging, tracing, result storage, and visualization of nested computations and actor interactions.\n",
    "They have been designed with large textual and structured (e.g. JSON) inputs and outputs in mind, as well as generic and custom visualizations.\n",
    "\n",
    "A `Context` is an event of certain name, type (`kind`, with small differences in semantics for several built-in ones), start and end time, inputs,\n",
    "result or error (exception), tags, and any child contexts - forming a rooted tree. Tags allow for context filtering and search. Inputs and result\n",
    "support structured data and visualizations (see below).\n",
    "\n",
    "## In InterLab\n",
    "\n",
    "Contexts are in principle an independent part of InterLab - you can use them in other projects (e.g. for the context browser), or use interlab\n",
    "without contexts (some contexts are still created but not stored by default, and should pose a trivial performance penalty comparable to logging).\n",
    "\n",
    "Currently, contexts are stored as JSON files (one JSON file for every designated stored root context), but in the future we plan to also support DB storage.\n",
    "\n",
    "## Visualization and UI\n",
    "\n",
    "The framework also contains a web-based browser for the context traces - both directly in a jupyter notebook and in a separate web-browser window.\n",
    "\n",
    "Contexts and their visualization interact well with dataclasses (and JSON-like data in general) but also support custom visualizations: bitmap images, HTML, SVG (more can be added).\n",
    "\n",
    "The current browser also shows still running contexts (manual reloads required for refresh)."
   ]
  },
  {
   "cell_type": "code",
   "execution_count": null,
   "id": "517e9432-85fc-482d-b95c-8cdd571ffbea",
   "metadata": {
    "tags": []
   },
   "outputs": [],
   "source": [
    "%load_ext autoreload\n",
    "%autoreload 2\n",
    "\n",
    "from dataclasses import dataclass\n",
    "import json\n",
    "import matplotlib.pyplot as plt\n",
    "import interlab\n",
    "from interlab.context import Context, context, with_context, current_context, Tag\n",
    "from interlab.lang_models import OpenAiChatModel, AnthropicModel\n",
    "from interlab.ext.pyplot import capture_figure\n",
    "\n",
    "def show(obj):\n",
    "    print(json.dumps(obj, indent=2))"
   ]
  },
  {
   "cell_type": "markdown",
   "id": "35f9e3cd-6944-459d-9084-3f80771768a5",
   "metadata": {},
   "source": [
    "## Basic context examples"
   ]
  },
  {
   "cell_type": "markdown",
   "id": "40a4abc3-696b-4bc2-8489-3ce2efc60489",
   "metadata": {},
   "source": [
    "### Internals"
   ]
  },
  {
   "cell_type": "code",
   "execution_count": null,
   "id": "d690bf53-f5d4-4335-8f21-b95dd9e42ba7",
   "metadata": {
    "tags": []
   },
   "outputs": [],
   "source": [
    "# Context with input and output\n",
    "with Context(\"MyContext\", inputs={\"a\": 10, \"b\": 20}) as c:\n",
    "    c.set_result(\"Lorem ipsum ...\")\n",
    "    pass\n",
    "\n",
    "# How it looks\n",
    "show(c.to_dict())"
   ]
  },
  {
   "cell_type": "code",
   "execution_count": null,
   "id": "8de3a2de-c7a3-4f7a-961a-452775c73517",
   "metadata": {
    "tags": []
   },
   "outputs": [],
   "source": [
    "# Context nesting\n",
    "with Context(\"MyContext\") as c:\n",
    "    with Context(\"ChildContext1\") as c1:\n",
    "        c1.set_result(\"result\")\n",
    "    with Context(\"ChildContext2\") as c2:\n",
    "        c2.set_result(\"result2\")\n",
    "    c.set_result(\"\")\n",
    "show(c.to_dict())"
   ]
  },
  {
   "cell_type": "code",
   "execution_count": null,
   "id": "54b17e6d-689c-4560-bd58-6ab158cc1a07",
   "metadata": {
    "tags": []
   },
   "outputs": [],
   "source": [
    "# Inputs and outputs\n",
    "with Context(\"MyContext\", ) as c:\n",
    "    c.set_result(30)\n",
    "\n",
    "show(c.to_dict())"
   ]
  },
  {
   "cell_type": "markdown",
   "id": "3964518b-f3cd-40b5-baa8-58815dad1c1f",
   "metadata": {},
   "source": [
    "### Functions"
   ]
  },
  {
   "cell_type": "code",
   "execution_count": null,
   "id": "447519e9-7d51-4cc9-8f48-2ea3aca1d4c7",
   "metadata": {
    "tags": []
   },
   "outputs": [],
   "source": [
    "# Context decorator\n",
    "\n",
    "@with_context\n",
    "def my_function(a, b):\n",
    "    return a + b\n",
    "\n",
    "with Context(\"root\") as c:\n",
    "    my_function(10, 20)\n",
    "    \n",
    "show(c.to_dict())"
   ]
  },
  {
   "cell_type": "markdown",
   "id": "261ae6ea-d084-4d08-8f6b-00b2e138caa2",
   "metadata": {},
   "source": [
    "### Exceptions"
   ]
  },
  {
   "cell_type": "code",
   "execution_count": null,
   "id": "358c8704-fda9-40c4-96b9-944b1fad871a",
   "metadata": {
    "tags": []
   },
   "outputs": [],
   "source": [
    "# Error handling\n",
    "\n",
    "@with_context\n",
    "def my_function(a, b):\n",
    "    raise Exception(\"Oops\")\n",
    "\n",
    "try:\n",
    "    with Context(\"root\") as c:\n",
    "        my_function(10, 20)\n",
    "except:\n",
    "    pass\n",
    "\n",
    "show(c.to_dict())"
   ]
  },
  {
   "cell_type": "code",
   "execution_count": null,
   "id": "89849b74-9cf0-487a-bbaf-f670e7c2e82a",
   "metadata": {},
   "outputs": [],
   "source": [
    "# note: errors must still be handled!\n",
    "\n",
    "# This is expected to throw an error - note the context would still be stored if you set up storage here\n",
    "with Context(\"root\") as c:\n",
    "    my_function(1, 2)"
   ]
  },
  {
   "cell_type": "code",
   "execution_count": null,
   "id": "9d28ae58-3cb8-4479-8d21-4f80467be33a",
   "metadata": {},
   "outputs": [],
   "source": [
    "c.to_dict()"
   ]
  },
  {
   "cell_type": "code",
   "execution_count": null,
   "id": "03a99644-e6a9-4fd3-9b6a-613835a2f4ba",
   "metadata": {},
   "outputs": [],
   "source": [
    "# Error handling: currently the exception type is not stored\n",
    "\n",
    "@with_context\n",
    "def my_function(a, b):\n",
    "    raise NotImplementedError(\"Oops\")\n",
    "\n",
    "try:\n",
    "    with Context(\"root\") as c:\n",
    "        my_function(10, 20)\n",
    "except:\n",
    "    pass\n",
    "\n",
    "show(c.to_dict())"
   ]
  },
  {
   "cell_type": "markdown",
   "id": "b2d48d87-40d4-4177-9127-7b66c6611dea",
   "metadata": {},
   "source": [
    "### Dataclasses"
   ]
  },
  {
   "cell_type": "code",
   "execution_count": null,
   "id": "c4b9ab8d-40c8-4762-9988-88ece04763e4",
   "metadata": {
    "tags": []
   },
   "outputs": [],
   "source": [
    "# Dataclasses are serialized for logging inside contexts\n",
    "\n",
    "@dataclass\n",
    "class Person:\n",
    "    name: str\n",
    "    age: int\n",
    "    \n",
    "@with_context\n",
    "def say_hi(person):\n",
    "    return f\"Hi {person.name}!\"\n",
    "\n",
    "with Context(\"root\") as c:\n",
    "    person = Person(\"Alice\", 21)\n",
    "    say_hi(person)\n",
    "\n",
    "show(c.to_dict())"
   ]
  },
  {
   "cell_type": "code",
   "execution_count": null,
   "id": "28f67ce4-9005-4551-9c64-4085eaa976fc",
   "metadata": {},
   "outputs": [],
   "source": [
    "# same with dataclass outputs\n",
    "@with_context\n",
    "def give_birth(name):\n",
    "    return Person(age=0, name=name)\n",
    "\n",
    "with Context(\"root\") as c:\n",
    "    give_birth(\"Alice\")\n",
    "\n",
    "show(c.to_dict())"
   ]
  },
  {
   "cell_type": "markdown",
   "id": "7aa2f6ac-4a36-43ab-bc20-5311710148df",
   "metadata": {},
   "source": [
    "### LLMs\n",
    "\n",
    "Note that you need to have the LLM API keys [stored in an `.env` file](https://github.com/theskumar/python-dotenv#getting-started) (recommended), or as environment variables. (Storing API keys in this notebook is possible but unadvisable for security reasons.)"
   ]
  },
  {
   "cell_type": "code",
   "execution_count": null,
   "id": "f4d75c6a-a40c-43e0-87b5-edbc7e6bc961",
   "metadata": {},
   "outputs": [],
   "source": [
    "# Load API keys from \".env\" file if you have one\n",
    "import dotenv\n",
    "dotenv.load_dotenv()\n",
    "\n",
    "# LLM queries track context automatically\n",
    "model = OpenAiChatModel()\n",
    "\n",
    "with Context(\"root\") as c:\n",
    "        response = model.query(\"How are you?\")\n",
    "        model.query(\"Is the following text generated by an LLM?\\n\\n\" + response)\n",
    "    \n",
    "show(c.to_dict())"
   ]
  },
  {
   "cell_type": "code",
   "execution_count": null,
   "id": "1ed4c300-3d66-4f3c-8b26-b3c16312b82e",
   "metadata": {
    "tags": []
   },
   "outputs": [],
   "source": [
    "# async LLM queries work as well\n",
    "import asyncio \n",
    "\n",
    "model1 = OpenAiChatModel()\n",
    "model2 = AnthropicModel()\n",
    "\n",
    "@with_context\n",
    "async def make_queries(model):\n",
    "    response = await model.aquery(\"Hi are you?\")\n",
    "    return await model.aquery(\"Is this nice response?\\n\\n\" + response)  \n",
    "\n",
    "with Context(\"root\") as c:\n",
    "    q1 = make_queries(model1)\n",
    "    q2 = make_queries(model2)\n",
    "\n",
    "    await q1\n",
    "    await q2\n",
    "\n",
    "show(c.to_dict())"
   ]
  },
  {
   "cell_type": "markdown",
   "id": "ed0bd8c3-faf8-44e7-97d7-df18c78439c7",
   "metadata": {},
   "source": [
    "### Tags"
   ]
  },
  {
   "cell_type": "code",
   "execution_count": null,
   "id": "2543b8bf-516a-4315-b627-db7926ab14e0",
   "metadata": {},
   "outputs": [],
   "source": [
    "# Tags\n",
    "\n",
    "with Context(\"root\", tags=[\"tag1\", \"tag2\"]) as c:\n",
    "    c.add_tag(\"exp1\")  # Add to a context dynamically\n",
    "    c.add_tag(Tag(\"success!\", color=\"lightgreen\"))  # Add colored tag\n",
    "\n",
    "show(c.to_dict())"
   ]
  },
  {
   "cell_type": "markdown",
   "id": "b65909dc-bfee-41e8-9ee8-98fb6efe3d1a",
   "metadata": {},
   "source": [
    "### Images and Plots"
   ]
  },
  {
   "cell_type": "code",
   "execution_count": null,
   "id": "b84af607-4fde-4d59-8cff-0cfa7cdbe6b4",
   "metadata": {},
   "outputs": [],
   "source": [
    "with Context(\"root\") as root:\n",
    "    with Context(\"first\", meta={\"color\": \"lightgreen\"}):\n",
    "        pass\n",
    "    with Context(\"second\", meta={\"color\": \"lightblue\"}):\n",
    "        pass        \n",
    "\n",
    "    fig, ax = plt.subplots()\n",
    "    \n",
    "    fruits = ['apple', 'blueberry', 'cherry', 'orange']\n",
    "    counts = [40, 100, 30, 55]\n",
    "    bar_labels = ['red', 'blue', '_red', 'orange']\n",
    "    bar_colors = ['tab:red', 'tab:blue', 'tab:red', 'tab:orange']\n",
    "    \n",
    "    ax.bar(fruits, counts, label=bar_labels, color=bar_colors)\n",
    "    \n",
    "    with Context(\"image demo\", inputs={\"my_chart\": capture_figure(), \"other_param\": 42}) as root2:\n",
    "        pass"
   ]
  },
  {
   "cell_type": "code",
   "execution_count": null,
   "id": "23b41f20-fe91-4894-8d5c-9f47f1140782",
   "metadata": {},
   "outputs": [],
   "source": [
    "# get current context\n",
    "\n",
    "with Context(\"root\") as c:\n",
    "    with Context(\"child\"):\n",
    "        current_context().add_tag(\"tag1\")\n",
    "\n",
    "show(c.to_dict())"
   ]
  },
  {
   "cell_type": "markdown",
   "id": "a0f4a640-9026-437b-be2f-193e561a71b8",
   "metadata": {},
   "source": [
    "### Events"
   ]
  },
  {
   "cell_type": "code",
   "execution_count": null,
   "id": "cd87bf47-b910-4f54-aea4-6077567dc5f9",
   "metadata": {},
   "outputs": [],
   "source": [
    "# Events (instant context with immediate result)\n",
    "\n",
    "with Context(\"root\") as c:\n",
    "    c.add_event(\"Message to Alice\", kind=\"message\", data=\"Hi, Alice!\")\n",
    "\n",
    "show(c.to_dict())"
   ]
  },
  {
   "cell_type": "markdown",
   "id": "faab39e4-0488-47b5-af6a-8e046ea0bdb6",
   "metadata": {},
   "source": [
    "### Storage"
   ]
  },
  {
   "cell_type": "code",
   "execution_count": null,
   "id": "ba0d2484-3e67-4657-b605-25ff77410c05",
   "metadata": {},
   "outputs": [],
   "source": [
    "# Register context into storage\n",
    "storage=interlab.context.FileStorage(\"/tmp/interlab\")\n",
    "with Context(\"root1\", storage=storage):\n",
    "    pass\n"
   ]
  },
  {
   "cell_type": "code",
   "execution_count": null,
   "id": "a018fb25-9800-4fdf-b735-963965bdc0f3",
   "metadata": {},
   "outputs": [],
   "source": [
    "# Manual writing context into storage\n",
    "\n",
    "with Context(\"root2\", tags=[\"hello\"]) as c:\n",
    "    pass\n",
    "\n",
    "storage.write_context(c)"
   ]
  },
  {
   "cell_type": "code",
   "execution_count": null,
   "id": "84fc110b-30a9-44ed-a145-bf154cf815e9",
   "metadata": {},
   "outputs": [],
   "source": [
    "# with block and storage; all root context in storage block are written in storage\n",
    "\n",
    "with storage:\n",
    "    with Context(\"root3\"):  # <-- This context is root; it is automatcally written in storage\n",
    "        with Context(\"child\"): # <-- This context is not root; not automatically written in storage\n",
    "            pass"
   ]
  },
  {
   "cell_type": "code",
   "execution_count": null,
   "id": "4c582166-799b-4e4e-a669-6af9d7d0863a",
   "metadata": {},
   "outputs": [],
   "source": [
    "# Composing directory structure with contexts:\n",
    "# each context subtree marked with `directory=True` getns stored in a separete json rather than in the main json\n",
    "\n",
    "with Context(\"root4\", storage=storage, directory=True) as root:\n",
    "    with Context(\"first child\", directory=True):\n",
    "        with Context(\"a\"):\n",
    "            pass\n",
    "        with Context(\"b\", tags=[\"hello\"]):\n",
    "            pass\n",
    "    with Context(\"second child\", directory=True):\n",
    "        with Context(\"a\"):\n",
    "            pass\n",
    "        with Context(\"b\"):\n",
    "            pass\n",
    "\n",
    "import pathlib\n",
    "list(pathlib.Path(f\"{storage.directory}/{root.uid}.ctx\").rglob(\"*\"))"
   ]
  },
  {
   "cell_type": "markdown",
   "id": "27d4aabe-8ab7-4170-8e08-12bf12c7b540",
   "metadata": {},
   "source": [
    "### Data browser"
   ]
  },
  {
   "cell_type": "code",
   "execution_count": null,
   "id": "55028a5f-2ce6-4340-8424-36a9e2db7664",
   "metadata": {},
   "outputs": [],
   "source": [
    "# Running data browser over storage\n",
    "\n",
    "storage.start_server()"
   ]
  },
  {
   "cell_type": "code",
   "execution_count": null,
   "id": "f5ac9b2c-0e46-4335-b8f9-94c564da328f",
   "metadata": {},
   "outputs": [],
   "source": [
    "# Long running cell, you can observe it in browser in running state (nneds to be refreshed manually)\n",
    "\n",
    "with Context(\"Long running\", storage=storage):\n",
    "    with Context(\"Child1\"):\n",
    "        import time\n",
    "        time.sleep(10)"
   ]
  },
  {
   "cell_type": "code",
   "execution_count": null,
   "id": "85092727-63fa-46be-b810-c594a5f80469",
   "metadata": {},
   "outputs": [],
   "source": [
    "# Read all stored (root) contexts\n",
    "\n",
    "for context in storage.read_all_contexts():\n",
    "    print(context.uid, context.name)"
   ]
  },
  {
   "cell_type": "code",
   "execution_count": null,
   "id": "fcf86e95-dbbb-4d7b-b4a8-3ea4a5ed4948",
   "metadata": {},
   "outputs": [],
   "source": [
    "# Recursively search for specific contexts\n",
    "\n",
    "for context in storage.find_contexts(lambda ctx: ctx.has_tag_name(\"hello\")):\n",
    "    print(context.uid, context.name)"
   ]
  },
  {
   "cell_type": "code",
   "execution_count": null,
   "id": "7caf5ab5-ee58-415e-8ef9-e539fdc1ab4a",
   "metadata": {},
   "outputs": [],
   "source": [
    "# Read a context by uid\n",
    "\n",
    "context = storage.read_context(root.uid)\n",
    "print(context.uid, context.name)\n",
    "\n",
    "\n",
    "# Search in a given context\n",
    "\n",
    "context.find_contexts(lambda x: x.name == \"a\")"
   ]
  },
  {
   "cell_type": "code",
   "execution_count": null,
   "id": "0c0ebd6d-432b-4c65-bbf9-c0d949f76ae3",
   "metadata": {},
   "outputs": [],
   "source": []
  }
 ],
 "metadata": {
  "kernelspec": {
   "display_name": "Python 3 (ipykernel)",
   "language": "python",
   "name": "python3"
  },
  "language_info": {
   "codemirror_mode": {
    "name": "ipython",
    "version": 3
   },
   "file_extension": ".py",
   "mimetype": "text/x-python",
   "name": "python",
   "nbconvert_exporter": "python",
   "pygments_lexer": "ipython3",
   "version": "3.10.12"
  }
 },
 "nbformat": 4,
 "nbformat_minor": 5
}
