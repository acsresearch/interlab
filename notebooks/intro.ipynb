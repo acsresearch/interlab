{
 "cells": [
  {
   "cell_type": "code",
   "execution_count": null,
   "id": "517e9432-85fc-482d-b95c-8cdd571ffbea",
   "metadata": {
    "tags": []
   },
   "outputs": [],
   "source": [
    "%load_ext autoreload\n",
    "%autoreload 2\n",
    "\n",
    "from dataclasses import dataclass\n",
    "from querychains import with_context, Context, OpenAiChatEngine, start_server, AnthropicEngine, QueryEngine, current_context, Tag\n",
    "import json\n",
    "\n",
    "def show(obj):\n",
    "    print(json.dumps(obj, indent=2))"
   ]
  },
  {
   "cell_type": "code",
   "execution_count": null,
   "id": "a34e7188-c270-45e7-92c9-6f9d64b66fb9",
   "metadata": {},
   "outputs": [],
   "source": []
  },
  {
   "cell_type": "code",
   "execution_count": null,
   "id": "d690bf53-f5d4-4335-8f21-b95dd9e42ba7",
   "metadata": {
    "tags": []
   },
   "outputs": [],
   "source": [
    "# Minimal context\n",
    "with Context(\"MyContext\") as c:\n",
    "    pass\n",
    "\n",
    "show(c.to_dict())"
   ]
  },
  {
   "cell_type": "code",
   "execution_count": null,
   "id": "8de3a2de-c7a3-4f7a-961a-452775c73517",
   "metadata": {
    "tags": []
   },
   "outputs": [],
   "source": [
    "# Context nesting\n",
    "with Context(\"MyContext\") as c:\n",
    "    with Context(\"ChildContext1\"):\n",
    "        pass\n",
    "    with Context(\"ChildContext2\"):\n",
    "        pass\n",
    "\n",
    "show(c.to_dict())"
   ]
  },
  {
   "cell_type": "code",
   "execution_count": null,
   "id": "54b17e6d-689c-4560-bd58-6ab158cc1a07",
   "metadata": {
    "tags": []
   },
   "outputs": [],
   "source": [
    "# Inputs and outputs\n",
    "with Context(\"MyContext\", inputs={\"a\": 10, \"b\": 20}) as c:\n",
    "    c.set_result(30)\n",
    "\n",
    "show(c.to_dict())"
   ]
  },
  {
   "cell_type": "code",
   "execution_count": null,
   "id": "447519e9-7d51-4cc9-8f48-2ea3aca1d4c7",
   "metadata": {
    "tags": []
   },
   "outputs": [],
   "source": [
    "# Context decorator\n",
    "@with_context\n",
    "def my_function(a, b):\n",
    "    return a + b\n",
    "\n",
    "with Context(\"root\") as c:\n",
    "    my_function(10, 20)\n",
    "    \n",
    "show(c.to_dict())"
   ]
  },
  {
   "cell_type": "code",
   "execution_count": null,
   "id": "358c8704-fda9-40c4-96b9-944b1fad871a",
   "metadata": {
    "tags": []
   },
   "outputs": [],
   "source": [
    "# Error handling\n",
    "\n",
    "@with_context\n",
    "def my_function(a, b):\n",
    "    raise Exception(\"Oops\")\n",
    "\n",
    "try:\n",
    "    with Context(\"root\") as c:\n",
    "        my_function(10, 20)\n",
    "except:\n",
    "    pass\n",
    "\n",
    "show(c.to_dict())"
   ]
  },
  {
   "cell_type": "code",
   "execution_count": null,
   "id": "03a99644-e6a9-4fd3-9b6a-613835a2f4ba",
   "metadata": {},
   "outputs": [],
   "source": []
  },
  {
   "cell_type": "code",
   "execution_count": null,
   "id": "c4b9ab8d-40c8-4762-9988-88ece04763e4",
   "metadata": {
    "tags": []
   },
   "outputs": [],
   "source": [
    "# Dataclasses\n",
    "\n",
    "@dataclass\n",
    "class Person:\n",
    "    name: str\n",
    "    age: int\n",
    "    \n",
    "@with_context\n",
    "def say_hi(person):\n",
    "    return f\"Hi {person.name}!\"\n",
    "\n",
    "with Context(\"root\") as c:\n",
    "    person = Person(\"Alice\", 21)\n",
    "    say_hi(person)\n",
    "\n",
    "show(c.to_dict())"
   ]
  },
  {
   "cell_type": "code",
   "execution_count": null,
   "id": "b95c8996-05e2-402c-a508-d9f8d195449f",
   "metadata": {},
   "outputs": [],
   "source": []
  },
  {
   "cell_type": "code",
   "execution_count": null,
   "id": "cfc9dbde-0f33-48f7-ab30-53b6099dd7ed",
   "metadata": {
    "tags": []
   },
   "outputs": [],
   "source": [
    "@dataclass\n",
    "class Person:\n",
    "    name: str\n",
    "    age: int\n",
    "\n",
    "@with_context\n",
    "def say_hi(person):\n",
    "    return f\"Hi {person.name}!\"\n",
    "\n",
    "with Context(\"root\") as c:\n",
    "    person = Person(\"Alice\", 21)\n",
    "    say_hi(person)\n",
    "\n",
    "show(c.to_dict())"
   ]
  },
  {
   "cell_type": "code",
   "execution_count": null,
   "id": "f4d75c6a-a40c-43e0-87b5-edbc7e6bc961",
   "metadata": {},
   "outputs": [],
   "source": [
    "# LLM queries\n",
    "\n",
    "engine = OpenAiChatEngine()\n",
    "\n",
    "with Context(\"root\") as c:\n",
    "        response = engine.query(\"Hi are you?\")\n",
    "        engine.query(\"Is the following text genereted by LLM?\\n\\n\" + response)\n",
    "    \n",
    "show(c.to_dict())"
   ]
  },
  {
   "cell_type": "code",
   "execution_count": null,
   "id": "1ed4c300-3d66-4f3c-8b26-b3c16312b82e",
   "metadata": {
    "tags": []
   },
   "outputs": [],
   "source": [
    "# async LLM queries\n",
    "import asyncio \n",
    "\n",
    "engine1 = OpenAiChatEngine()\n",
    "engine2 = AnthropicEngine()\n",
    "\n",
    "@with_context\n",
    "async def make_queries(engine: QueryEngine):\n",
    "    response = await engine.aquery(\"Hi are you?\")\n",
    "    return await engine.aquery(\"Is this nice response?\\n\\n\" + response)  \n",
    "\n",
    "with Context(\"root\") as c:\n",
    "    q1 = make_queries(engine1)\n",
    "    q2 = make_queries(engine2)\n",
    "\n",
    "    await q1\n",
    "    await q2\n",
    "\n",
    "show(c.to_dict())"
   ]
  },
  {
   "cell_type": "code",
   "execution_count": null,
   "id": "38153a06-5870-4b01-921a-b8b20af61311",
   "metadata": {},
   "outputs": [],
   "source": []
  },
  {
   "cell_type": "code",
   "execution_count": null,
   "id": "2543b8bf-516a-4315-b627-db7926ab14e0",
   "metadata": {},
   "outputs": [],
   "source": [
    "# Tags\n",
    "\n",
    "with Context(\"root\", tags=[\"tag1\", \"tag2\"]) as c:\n",
    "    c.add_tag(\"exp1\")  # Add to a context dynammicaly\n",
    "    c.add_tag(Tag(\"success!\", color=\"lightgreen\"))  # Add colored tag\n",
    "\n",
    "show(c.to_dict())"
   ]
  },
  {
   "cell_type": "code",
   "execution_count": null,
   "id": "0d5701f1-8ddb-4a34-9231-724d00b4c681",
   "metadata": {},
   "outputs": [],
   "source": []
  },
  {
   "cell_type": "code",
   "execution_count": null,
   "id": "c54bd54b-3535-42c5-9fd2-b81b88a8624e",
   "metadata": {},
   "outputs": [],
   "source": []
  },
  {
   "cell_type": "code",
   "execution_count": null,
   "id": "23b41f20-fe91-4894-8d5c-9f47f1140782",
   "metadata": {},
   "outputs": [],
   "source": [
    "# get current context\n",
    "\n",
    "with Context(\"root\") as c:\n",
    "    with Context(\"child\"):\n",
    "        current_context().add_tag(\"tag1\")\n",
    "\n",
    "show(c.to_dict())"
   ]
  },
  {
   "cell_type": "code",
   "execution_count": null,
   "id": "c6896eef-f643-40c7-98f5-6e31e442ceb2",
   "metadata": {},
   "outputs": [],
   "source": []
  },
  {
   "cell_type": "code",
   "execution_count": null,
   "id": "cd87bf47-b910-4f54-aea4-6077567dc5f9",
   "metadata": {},
   "outputs": [],
   "source": [
    "# Events (instant kontext with immediate result)\n",
    "\n",
    "with Context(\"root\") as c:\n",
    "    c.add_event(\"Message to Alice\", kind=\"message\", data=\"Hi, Alice!\")\n",
    "\n",
    "show(c.to_dict())"
   ]
  }
 ],
 "metadata": {
  "kernelspec": {
   "display_name": "Python 3 (ipykernel)",
   "language": "python",
   "name": "python3"
  },
  "language_info": {
   "codemirror_mode": {
    "name": "ipython",
    "version": 3
   },
   "file_extension": ".py",
   "mimetype": "text/x-python",
   "name": "python",
   "nbconvert_exporter": "python",
   "pygments_lexer": "ipython3",
   "version": "3.10.6"
  }
 },
 "nbformat": 4,
 "nbformat_minor": 5
}
