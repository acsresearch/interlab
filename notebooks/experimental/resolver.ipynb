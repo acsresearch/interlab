{
 "cells": [
  {
   "cell_type": "code",
   "execution_count": 1,
   "id": "9b9c6270-63d9-40f6-9add-c01c2a59d24e",
   "metadata": {},
   "outputs": [
    {
     "data": {
      "text/plain": [
       "True"
      ]
     },
     "execution_count": 1,
     "metadata": {},
     "output_type": "execute_result"
    }
   ],
   "source": [
    "%load_ext autoreload\n",
    "%autoreload 2\n",
    "import numpy as np\n",
    "from pydantic.dataclasses import dataclass, Field\n",
    "import dotenv\n",
    "import interlab\n",
    "from interlab.queries import query_for_json, query_model\n",
    "import langchain_community.chat_models\n",
    "from treetrace import TracingNode, FileStorage\n",
    "from interlab_zoo.persona.personas import Factory\n",
    "from interlab_zoo.persona.contacts import link\n",
    "from interlab_zoo.persona.channels import ChatChannel\n",
    "from interlab_zoo.resolve.resolve import Situation, and_join\n",
    "from serde.yaml import from_yaml\n",
    "import pandas as pd\n",
    "import langchain\n",
    "import xml.etree.ElementTree as ET\n",
    "import uuid\n",
    "import itertools\n",
    "\n",
    "dotenv.load_dotenv()"
   ]
  },
  {
   "cell_type": "code",
   "execution_count": 3,
   "id": "dc6e4ca5-dfe7-4c3e-a78e-7703c5d403bc",
   "metadata": {},
   "outputs": [],
   "source": [
    "#from langchain.cache import InMemoryCache\n",
    "#from langchain.globals import set_llm_cache\n",
    "#set_llm_cache(InMemoryCache())\n"
   ]
  },
  {
   "cell_type": "code",
   "execution_count": null,
   "id": "e55530cf-5052-4b83-840b-5e0886aa0148",
   "metadata": {},
   "outputs": [],
   "source": []
  },
  {
   "cell_type": "code",
   "execution_count": 2,
   "id": "cbdf480f-c25c-45ee-8870-8869446df241",
   "metadata": {},
   "outputs": [],
   "source": [
    "\n",
    "def resolve_direct(sitation, channel=ChatChannel, max_steps_per_player=7):\n",
    "    players = sitation.players\n",
    "    link(players)\n",
    "    for i in range(max_steps_per_player):\n",
    "        for j, sender in enumerate(players):\n",
    "            others = players[:j] + players[j+1:]\n",
    "            channel.query_and_send_message_to_all(sender, others, [sitation.judge])\n",
    "        if sitation.agreement_check():\n",
    "            return\n",
    "\n",
    "\n",
    "def resolve_with_mediator(sitation, mediator_key, channel=ChatChannel, max_steps_per_player=7):\n",
    "    names = and_join(p.name for p in sitation.players)\n",
    "    mediator = sitation.factory.create_persona(\n",
    "        mediator_key,\n",
    "        public=f\"$name is a mediator to arrange arrange an agreement between {names}\",\n",
    "        goal=f\"to help {names} find an agreement on {sitation.subject}; you will not watch the movie\")\n",
    "    players = sitation.players\n",
    "    link(players + [mediator])\n",
    "    for i in range(max_steps_per_player):\n",
    "        for j, sender in enumerate(players):\n",
    "            others = players[:j] + players[j+1:]\n",
    "            channel.query_and_send_message(sender, mediator, others + [sitation.judge])\n",
    "        channel.query_and_send_message_to_all(mediator, players, [sitation.judge])\n",
    "        if sitation.agreement_check():\n",
    "            return\n",
    "\n",
    "\n",
    "# with TracingNode(\"root\") as root:\n",
    "#     resolver = Sitation(\"a specific movie name they want to watch together\", factory, [\"Maria-gpt35\", \"Connor-gpt35\"])\n",
    "\n",
    "#     with TracingNode(\"resolving\"):\n",
    "#         resolve_direct(resolver, \"Edward-gpt35\")\n",
    "#     print(resolver.agreement_result)\n",
    "#     with TracingNode(\"scoring\"):\n",
    "#         scoring = resolver.score_result()\n",
    "#     df = pd.DataFrame(scoring, columns=[\"key\", \"result\", \"score_basic\", \"score_wh\"])\n",
    "#     print(df)\n",
    "    \n",
    "#root.display()"
   ]
  },
  {
   "cell_type": "code",
   "execution_count": 3,
   "id": "33e32d3d-9ee0-4358-a1ca-9ee7594813d8",
   "metadata": {},
   "outputs": [
    {
     "data": {
      "text/plain": [
       "<ServerHandle http://localhost:46403>"
      ]
     },
     "execution_count": 3,
     "metadata": {},
     "output_type": "execute_result"
    }
   ],
   "source": [
    "storage = FileStorage(\"logs\")\n",
    "storage.start_server()"
   ]
  },
  {
   "cell_type": "code",
   "execution_count": 4,
   "id": "b50cc596-7e30-437d-962f-73954dc226fe",
   "metadata": {},
   "outputs": [
    {
     "data": {
      "text/plain": [
       "{'movies': Experiment(name='movies', people='people-movies.yaml', subject='a single specific movie name they want to watch together', repeats=2, permutations=True, groups=[['Maria-gpt35', 'Jane-gpt35'], ['Don-gpt35', 'Jane-gpt35'], ['Don-gpt35', 'Jane-gpt35'], ['Edward-gpt35', 'Connor-gpt35'], ['Edward-gpt35', 'Jane-gpt35'], ['Lilly-gpt35', 'Edward-gpt35']]),\n",
       " 'board_games': Experiment(name='board_games', people='people-bg.yaml', subject='a single specific board game to play together', repeats=5, permutations=True, groups=[['Carl-gpt35', 'Emma-gpt35'], ['John-gpt35', 'Sofia-gpt35'], ['Carl-gpt35', 'Sofia-gpt35'], ['Emma-gpt35', 'Sofia-gpt35'], ['Carl-gpt35', 'John-gpt35']])}"
      ]
     },
     "execution_count": 4,
     "metadata": {},
     "output_type": "execute_result"
    }
   ],
   "source": [
    "@dataclass\n",
    "class Experiment:\n",
    "    name: str\n",
    "    people: str\n",
    "    subject: str\n",
    "    repeats: int\n",
    "    permutations: bool\n",
    "    groups: list[list[str]]\n",
    "\n",
    "def experiments_from_yaml(path):\n",
    "    with open(path) as f:\n",
    "        data = f.read()        \n",
    "    experiments = from_yaml(list[Experiment], data)\n",
    "    return {e.name: e for e in experiments}\n",
    "\n",
    "experiments = experiments_from_yaml(\"experiments.yaml\")\n",
    "experiments"
   ]
  },
  {
   "cell_type": "code",
   "execution_count": null,
   "id": "7ed04a94-774e-49a9-8582-30f5e65e5f63",
   "metadata": {},
   "outputs": [
    {
     "name": "stderr",
     "output_type": "stream",
     "text": [
      "/home/ada/.cache/pypoetry/virtualenvs/interlab-cZHazbI_-py3.10/lib/python3.10/site-packages/langchain_core/_api/deprecation.py:117: LangChainDeprecationWarning: The class `langchain_community.chat_models.openai.ChatOpenAI` was deprecated in langchain-community 0.0.10 and will be removed in 0.2.0. An updated version of the class exists in the langchain-openai package and should be used instead. To use it run `pip install -U langchain-openai` and import as `from langchain_openai import ChatOpenAI`.\n",
      "  warn_deprecated(\n",
      "/home/ada/.cache/pypoetry/virtualenvs/interlab-cZHazbI_-py3.10/lib/python3.10/site-packages/langchain_core/_api/deprecation.py:117: LangChainDeprecationWarning: The function `__call__` was deprecated in LangChain 0.1.7 and will be removed in 0.2.0. Use invoke instead.\n",
      "  warn_deprecated(\n"
     ]
    }
   ],
   "source": [
    "def resolve_situation(situation, method):\n",
    "    with TracingNode(\"resolving\") as node:\n",
    "        method(situation)\n",
    "        node.set_result(situation.agreement_result)\n",
    "    if situation.agreement_result is None:\n",
    "        return None\n",
    "    with TracingNode(\"scoring\"):\n",
    "        scoring = situation.score_result()\n",
    "        return pd.DataFrame(scoring, columns=[\"person_key\", \"result\", \"score_basic\", \"score_wh\"])    \n",
    "\n",
    "def run_experiment(exp):\n",
    "    result = []\n",
    "    with TracingNode(f\"Experiment {exp.name}\") as root:\n",
    "        factory = Factory.from_yaml(exp.people)\n",
    "        for group in exp.groups:\n",
    "            if exp.permutations:\n",
    "                g_iter = itertools.permutations(group)\n",
    "            else:\n",
    "                g_iter = iter([group])\n",
    "            for people in g_iter:\n",
    "                for method_name, method_fn in [(\"mediator\", lambda s: resolve_with_mediator(s, \"Mediator\")),\n",
    "                                               (\"direct\", resolve_direct),\n",
    "                                              ]:\n",
    "                    for _ in range(exp.repeats):\n",
    "                        uid = uuid.uuid4().hex\n",
    "                        with TracingNode(f\"experiment instance {uid}\", inputs={\n",
    "                            \"uid\": uid,\n",
    "                            \"method\": method_name,\n",
    "                            \"experiment\": exp.name,\n",
    "                            \"people\": people\n",
    "                        }):\n",
    "                            situation = Situation(exp.subject, factory, people)    \n",
    "                            df = resolve_situation(situation, method_fn)\n",
    "                            if df is not None:\n",
    "                                df[\"method\"] = method_name\n",
    "                                df[\"experiment\"] = exp.name\n",
    "                                df[\"instance\"] = uid\n",
    "                                df[\"group\"] = \",\".join(people)\n",
    "                                result.append(df)\n",
    "    return pd.concat(result)\n",
    "\n",
    "exp_name = \"board_games\"\n",
    "with TracingNode(\"root\", storage=storage) as root:\n",
    "    df = run_experiment(experiments[exp_name])\n",
    "    df.to_csv(f\"out-{exp_name}-1.csv\", index=False)\n",
    "df"
   ]
  },
  {
   "cell_type": "raw",
   "id": "c1fd69be-4a56-47eb-b3f4-55d1d7ebe604",
   "metadata": {},
   "source": []
  }
 ],
 "metadata": {
  "kernelspec": {
   "display_name": "Python 3 (ipykernel)",
   "language": "python",
   "name": "python3"
  },
  "language_info": {
   "codemirror_mode": {
    "name": "ipython",
    "version": 3
   },
   "file_extension": ".py",
   "mimetype": "text/x-python",
   "name": "python",
   "nbconvert_exporter": "python",
   "pygments_lexer": "ipython3",
   "version": "3.10.12"
  }
 },
 "nbformat": 4,
 "nbformat_minor": 5
}
