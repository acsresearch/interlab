{
 "cells": [
  {
   "cell_type": "code",
   "execution_count": null,
   "id": "dc529507-089f-4837-b8a4-30f33ab3620a",
   "metadata": {},
   "outputs": [],
   "source": [
    "%load_ext autoreload\n",
    "%autoreload 2\n",
    "\n",
    "import dotenv\n",
    "import langchain\n",
    "from interlab import actor, tracing\n",
    "from interlab.tracing import TracingNode\n",
    "from interlab.environment import BaseEnvironment, DelayedEnvironment\n",
    "from interlab.actor.affordance import Affordance, query_for_action\n",
    "from interlab.actor import OneShotLLMActor\n",
    "from pydantic.dataclasses import dataclass, Field\n",
    "\n",
    "dotenv.load_dotenv()"
   ]
  },
  {
   "cell_type": "code",
   "execution_count": null,
   "id": "166ed5cb-dc7e-408c-941c-bbbdb79ef6a3",
   "metadata": {},
   "outputs": [],
   "source": []
  },
  {
   "cell_type": "code",
   "execution_count": 2,
   "id": "2e7aceee-682c-497b-8463-01848119addc",
   "metadata": {},
   "outputs": [],
   "source": [
    "model = langchain.chat_models.ChatOpenAI(model_name='gpt-3.5-turbo')"
   ]
  },
  {
   "cell_type": "code",
   "execution_count": 3,
   "id": "d07bdec7-9b16-411e-b6e3-991efad04fe5",
   "metadata": {},
   "outputs": [],
   "source": [
    "import langchain\n",
    "from langchain.cache import InMemoryCache\n",
    "langchain.llm_cache = InMemoryCache()"
   ]
  },
  {
   "cell_type": "code",
   "execution_count": 30,
   "id": "df8080f4-4da5-49d8-ac21-cd97663b1765",
   "metadata": {},
   "outputs": [
    {
     "data": {
      "text/html": [
       "\n",
       "<div id=07ef4267-60e9-4ce6-838e-09bfe9acb609></div>\n",
       "<script src=\"https://cdn.jsdelivr.net/gh/acsresearch/interlab@5464935062082e96e24a95cda009e5419ce09a51/interlab/ui/browser/assets/index-e202e587.js\"></script>\n",
       "<link rel=\"stylesheet\" href=\"https://cdn.jsdelivr.net/gh/acsresearch/interlab@5464935062082e96e24a95cda009e5419ce09a51/interlab/ui/browser/assets/index-72b169f7.css\">\n",
       "<script>\n",
       "import(\"https://cdn.jsdelivr.net/gh/acsresearch/interlab@5464935062082e96e24a95cda009e5419ce09a51/interlab/ui/browser/assets/index-e202e587.js\").then(() => window.initInterlab(\"07ef4267-60e9-4ce6-838e-09bfe9acb609\", {\"_type\": \"TracingNode\", \"name\": \"root\", \"uid\": \"2023-12-28T17-48-13-root-JMYTIf\", \"version\": \"2.0\", \"interlab\": \"0.3.5\", \"children\": [{\"_type\": \"TracingNode\", \"name\": \"query_for_affordances\", \"uid\": \"2023-12-28T17-48-13-query_for_afford-6Ay5Ym\", \"result\": {\"affordance\": {\"name\": \"make_tea\", \"description\": \"You make tea; You may choose between fruit or green tea.\", \"args_type\": {\"_type\": \"type\", \"id\": 94449276785680}}, \"args\": {\"kind_of_tea\": \"fruit\"}, \"_type\": \"Action\"}, \"children\": [{\"_type\": \"TracingNode\", \"name\": \"query langchain chat model ChatOpenAI (gpt-3.5-turbo)\", \"uid\": \"2023-12-28T17-48-13-query_langchain_-FSBDhV\", \"kind\": \"query\", \"result\": \"I would choose to make tea.\", \"inputs\": {\"prompt\": \"You are thirsty, what you want to do?\\n\\nYou have to choose one of the following options: go_to_outside,make_tea\\n\\nDetailed descriptions of each action:\\n\\n# go_to_outside\\nYou leave the room\\n\\n# make_tea\\nYou make tea; You may choose between fruit or green tea.\", \"conf\": {\"class\": \"langchain.chat_models.openai.ChatOpenAI\", \"model_name\": \"gpt-3.5-turbo\", \"model\": \"gpt-3.5-turbo\", \"request_timeout\": null, \"max_tokens\": null, \"stream\": false, \"n\": 1, \"temperature\": 0.7, \"_type\": \"openai-chat\"}}, \"start_time\": \"2023-12-28T17:48:13.564536\", \"end_time\": \"2023-12-28T17:48:13.564995\"}, {\"_type\": \"TracingNode\", \"name\": \"query langchain chat model ChatOpenAI (gpt-3.5-turbo)\", \"uid\": \"2023-12-28T17-48-13-query_langchain_-akZwDv\", \"kind\": \"query\", \"result\": \"<action>make_tea</action>\", \"inputs\": {\"prompt\": \"Extract what action was chosen from the following answer:\\n\\nI would choose to make tea.\\n\\nWrite the answer in the format <action>ACTION</action> where ACTION is one of the following strings: go_to_outside,make_tea\", \"conf\": {\"class\": \"langchain.chat_models.openai.ChatOpenAI\", \"model_name\": \"gpt-3.5-turbo\", \"model\": \"gpt-3.5-turbo\", \"request_timeout\": null, \"max_tokens\": null, \"stream\": false, \"n\": 1, \"temperature\": 0.7, \"_type\": \"openai-chat\"}}, \"start_time\": \"2023-12-28T17:48:13.565052\", \"end_time\": \"2023-12-28T17:48:13.565384\"}, {\"_type\": \"TracingNode\", \"name\": \"query for JSON of type <class '__main__.TeaAction'>\", \"uid\": \"2023-12-28T17-48-13-query_for_JSON_o-WnOXk2\", \"kind\": \"query\", \"result\": {\"kind_of_tea\": \"fruit\", \"_type\": \"TeaAction\"}, \"inputs\": {\"prompt\": {\"_type\": \"$html\", \"html\": \"<span class=\\\"FmtString__span\\\" style=\\\"white-space: pre-wrap;\\\">Extract what action was chosen from the following answer:\\n\\nI would choose to make tea.\\n\\nAction description:\\nYou make tea; You may choose between fruit or green tea.\\n\\n<span style=\\\"background: #77777726; padding-top: 1px; padding-bottom: 1px; color: #e40000;\\\" class=\\\"FmtString__field\\\">{FORMAT_PROMPT#77777726}</span></span>\"}, \"with_example\": false, \"with_cot\": false, \"max_repeats\": 5, \"T\": \"<class '__main__.TeaAction'>\"}, \"children\": [{\"_type\": \"TracingNode\", \"name\": \"query langchain chat model ChatOpenAI (gpt-3.5-turbo)\", \"uid\": \"2023-12-28T17-48-13-query_langchain_-n6B9m0\", \"kind\": \"query\", \"result\": \"```json\\n{\\n  \\\"kind_of_tea\\\": \\\"fruit\\\"\\n}\\n```\", \"inputs\": {\"prompt\": {\"_type\": \"$html\", \"html\": \"<span class=\\\"FmtString__span\\\" style=\\\"white-space: pre-wrap;\\\">Extract what action was chosen from the following answer:\\n\\nI would choose to make tea.\\n\\nAction description:\\nYou make tea; You may choose between fruit or green tea.\\n\\n<span style=\\\"background: #77777726; padding-top: 1px; padding-bottom: 1px;\\\" data-field-name=\\\"FORMAT_PROMPT\\\" class=\\\"FmtString__sub\\\"># Instructions to format the answer:\\n\\nWrite your answer to the prompt as a single JSON conforming to the following JSON schema:\\n\\n```json\\n{&#x27;type&#x27;: &#x27;object&#x27;, &#x27;properties&#x27;: {&#x27;kind_of_tea&#x27;: {&#x27;title&#x27;: &#x27;Kind Of Tea&#x27;, &#x27;description&#x27;: &quot;Name of tea that can be made. It should be &#x27;fruit&#x27; or &#x27;green&#x27;&quot;, &#x27;type&#x27;: &#x27;string&#x27;}}, &#x27;required&#x27;: [&#x27;kind_of_tea&#x27;]}\\n```\\n\\nThe answer should contain exactly one markdown JSON code block delimited by &quot;```json&quot; and &quot;```&quot;.\\n</span></span>\"}, \"conf\": {\"class\": \"langchain.chat_models.openai.ChatOpenAI\", \"model_name\": \"gpt-3.5-turbo\", \"model\": \"gpt-3.5-turbo\", \"request_timeout\": null, \"max_tokens\": null, \"stream\": false, \"n\": 1, \"temperature\": 0.7, \"_type\": \"openai-chat\"}}, \"start_time\": \"2023-12-28T17:48:13.567615\", \"end_time\": \"2023-12-28T17:48:14.886269\"}], \"start_time\": \"2023-12-28T17:48:13.567524\", \"end_time\": \"2023-12-28T17:48:14.886443\"}], \"start_time\": \"2023-12-28T17:48:13.564458\", \"end_time\": \"2023-12-28T17:48:14.886505\"}], \"start_time\": \"2023-12-28T17:48:13.564406\", \"end_time\": \"2023-12-28T17:48:14.886514\"}))\n",
       "</script>\n"
      ],
      "text/plain": [
       "<IPython.core.display.HTML object>"
      ]
     },
     "metadata": {},
     "output_type": "display_data"
    }
   ],
   "source": [
    "@dataclass\n",
    "class TeaAction:\n",
    "    kind_of_tea: str = Field(\n",
    "        description=\"Name of tea that can be made. It should be 'fruit' or 'green'\")    \n",
    "\n",
    "a1 = Affordance(\"go_to_outside\", \"You leave the room\")\n",
    "a2 = Affordance(\"make_tea\", \"You make tea; You may choose between fruit or green tea.\", TeaAction)\n",
    "with TracingNode(\"root\") as root:\n",
    "    query_for_action(model, \"You are thirsty, what you want to do?\", [a1, a2])\n",
    "root.display()"
   ]
  },
  {
   "cell_type": "code",
   "execution_count": null,
   "id": "2bf8c9a3-75d4-49c7-b3ba-0f3c477c44f8",
   "metadata": {},
   "outputs": [],
   "source": []
  },
  {
   "cell_type": "code",
   "execution_count": null,
   "id": "e0071ecd-5d1f-43fe-98ad-07bdbdb3a8f2",
   "metadata": {},
   "outputs": [],
   "source": []
  },
  {
   "cell_type": "code",
   "execution_count": null,
   "id": "2f132fd4-6ec7-49f6-bd4e-46c0c9486d58",
   "metadata": {},
   "outputs": [],
   "source": [
    "@dataclass\n",
    "class TeaAction:\n",
    "    kind_of_tea: str = Field(\n",
    "        description=\"Name of tea that can be made. It should be 'fruit' or 'green'\")  \n",
    "\n",
    "\n",
    "class Hall(DelayedEnvironment):\n",
    "    def __init__(self, parent, affs):\n",
    "        aff = Affordance(\"look_at_window\", \"You can look outside\", environment=self)\n",
    "        super().__init__([], parent)\n",
    "        self.affordances = affs + (aff,)\n",
    "\n",
    "    def _step(self):\n",
    "         for actor in self.actors:\n",
    "             self.perform_action(actor.act(self.affordances))\n",
    "         for action in self.take_delayed_actions():\n",
    "             assert action.affordance.name == \"look_at_window\"\n",
    "             action.origin.obseve(\"You may look from the window in the hall and you see that it is rainy day outside\")\n",
    "             self.perform_action(action)\n",
    "\n",
    "\n",
    "class Kitchen(DelayedEnvironment):\n",
    "\n",
    "    def __init__(self, parent, affs):\n",
    "        super().__init__([], parent)\n",
    "        aff = Affordance(\"make_tea\", \"You may make tea; You may choose between fruit or green tea.\", TeaAction, environment=self)        \n",
    "        super().__init__([], parent)\n",
    "        self.affordances = affs + (aff,)\n",
    "\n",
    "    def _step(self):\n",
    "         for actor in self.actors:\n",
    "             self.perform_action(actor.act(self.affordances))\n",
    "         for action in self.take_delayed_actions():\n",
    "             assert action.affordance.name == \"make_tea\"\n",
    "             action.origin.observe(f\"You made {action.args.kind_of_tea}\")             \n",
    "\n",
    "\n",
    "class World(DelayedEnvironment):\n",
    "    def __init__(self):        \n",
    "        super().__init__([])\n",
    "        self.hall = Hall(self, (Affordance(\"go_to_kitchen\", \"You may go to kitchen\", environment=self),))\n",
    "        self.kitchen = Kitchen(self, (Affordance(\"go_to_hall\", \"You may go to hall\", environment=self),))\n",
    "        self.envs = [self.hall, self.kitchen]\n",
    "\n",
    "    def add_actor(self, actor):\n",
    "        self.hall.add_actor(actor)\n",
    "        super().add_actor(actor)\n",
    "\n",
    "    def _step(self):\n",
    "        for env in self.envs:\n",
    "            env.step()\n",
    "        for action in self.take_delayed_actions():\n",
    "            assert action.affordance.name in (\"go_to_kitchen\", \"go_to_hall\")            \n",
    "            if action.affordance.name == \"go_to_kitchen\":\n",
    "                action.origin.observe(\"You went to kitchen\")\n",
    "                self.hall.remove_actor(action.origin)\n",
    "                self.kitchen.add_actor(action.origin)\n",
    "            else:\n",
    "                action.origin.observe(\"You went to hall\")\n",
    "                self.kitchen.remove_actor(action.origin)\n",
    "                self.hall.actors.add_actor(action.origin)                \n",
    "\n",
    "actor = OneShotLLMActor(\"TeaMaker\", model=model, initial_prompt=\"You want to make a tea\")\n",
    "\n",
    "with TracingNode(\"root\") as root:\n",
    "    world = World()    \n",
    "    world.add_actor(actor)\n",
    "    world.step()\n",
    "    world.step()\n",
    "\n",
    "root.display()"
   ]
  }
 ],
 "metadata": {
  "kernelspec": {
   "display_name": "Python 3 (ipykernel)",
   "language": "python",
   "name": "python3"
  },
  "language_info": {
   "codemirror_mode": {
    "name": "ipython",
    "version": 3
   },
   "file_extension": ".py",
   "mimetype": "text/x-python",
   "name": "python",
   "nbconvert_exporter": "python",
   "pygments_lexer": "ipython3",
   "version": "3.10.12"
  }
 },
 "nbformat": 4,
 "nbformat_minor": 5
}
