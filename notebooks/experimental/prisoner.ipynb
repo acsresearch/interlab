{
 "cells": [
  {
   "cell_type": "code",
   "execution_count": 1,
   "id": "eca8ce2d-6a8b-461b-ab80-98db74fb10b6",
   "metadata": {},
   "outputs": [
    {
     "ename": "ModuleNotFoundError",
     "evalue": "No module named 'dotenv'",
     "output_type": "error",
     "traceback": [
      "\u001b[0;31m---------------------------------------------------------------------------\u001b[0m",
      "\u001b[0;31mModuleNotFoundError\u001b[0m                       Traceback (most recent call last)",
      "Input \u001b[0;32mIn [1]\u001b[0m, in \u001b[0;36m<cell line: 5>\u001b[0;34m()\u001b[0m\n\u001b[1;32m      3\u001b[0m \u001b[38;5;28;01mimport\u001b[39;00m \u001b[38;5;21;01mnumpy\u001b[39;00m \u001b[38;5;28;01mas\u001b[39;00m \u001b[38;5;21;01mnp\u001b[39;00m\n\u001b[1;32m      4\u001b[0m \u001b[38;5;28;01mfrom\u001b[39;00m \u001b[38;5;21;01mpydantic\u001b[39;00m\u001b[38;5;21;01m.\u001b[39;00m\u001b[38;5;21;01mdataclasses\u001b[39;00m \u001b[38;5;28;01mimport\u001b[39;00m dataclass, Field\n\u001b[0;32m----> 5\u001b[0m \u001b[38;5;28;01mimport\u001b[39;00m \u001b[38;5;21;01mdotenv\u001b[39;00m\n\u001b[1;32m      6\u001b[0m \u001b[38;5;28;01mimport\u001b[39;00m \u001b[38;5;21;01minterlab\u001b[39;00m\n\u001b[1;32m      7\u001b[0m \u001b[38;5;28;01mimport\u001b[39;00m \u001b[38;5;21;01mlangchain\u001b[39;00m\n",
      "\u001b[0;31mModuleNotFoundError\u001b[0m: No module named 'dotenv'"
     ]
    }
   ],
   "source": [
    "%load_ext autoreload\n",
    "%autoreload 2\n",
    "import numpy as np\n",
    "from pydantic.dataclasses import dataclass, Field\n",
    "import dotenv\n",
    "import interlab\n",
    "import langchain\n",
    "from interlab import actor\n",
    "from treetrace import TracingNode\n",
    "from interlab.queries.web_console import WebConsoleModel\n",
    "from treetrace.ext.pyplot import capture_figure\n",
    "from interlab.environment.experimental.commgame import CommunicateAndPlayGame\n",
    "from interlab.environment.experimental.tree import expand_tree\n",
    "from matplotlib import pyplot as plt\n",
    "dotenv.load_dotenv()"
   ]
  },
  {
   "cell_type": "code",
   "execution_count": null,
   "id": "00c4baa0-7ec6-458d-a7be-bb9d06ab78d6",
   "metadata": {},
   "outputs": [],
   "source": [
    "#import langchain\n",
    "#from langchain.cache import InMemoryCache\n",
    "#langchain.llm_cache = InMemoryCache()"
   ]
  },
  {
   "cell_type": "code",
   "execution_count": null,
   "id": "ee4b76c2-2af4-4123-b794-972300a3f6ec",
   "metadata": {},
   "outputs": [],
   "source": [
    "console_actor = actor.WebConsoleActor(\"MyConsoleActor\")\n",
    "console_actor"
   ]
  },
  {
   "cell_type": "code",
   "execution_count": null,
   "id": "577dcf37-3df3-4cc5-a504-176b6b924348",
   "metadata": {
    "scrolled": true
   },
   "outputs": [],
   "source": [
    "PROMPT = \"\"\"You are {name}. We are playing a repeated game where each player may choose one of the following actions: \"cooperate\" or \"defect\".\n",
    "Before the each we can simulatenously send a message to each other. After that we both secretely choose one of action.\n",
    "If we both play \"cooperate\" then we get $3 each. If I play \"defect\" and the opponent plays \"cooperate\" then I get $5 and they get nothing. If they play \"defect\" when I play \"cooperate\" then they get $5 and I get nothing.\n",
    "If we both play \"defect\" then we get $1 each.\n",
    "\"\"\"\n",
    "\n",
    "e35 = langchain.chat_models.ChatOpenAI(model_name='gpt-3.5-turbo')\n",
    "\n",
    "pa = actor.OneShotLLMActor(\"Alice\", e35, PROMPT.format(name=\"Alice\"))\n",
    "pb = actor.OneShotLLMActor(\"Bob\", e35, PROMPT.format(name=\"Bob\"))\n",
    "#pb = console_actor\n",
    "\n",
    "actions = [\"cooperate\", \"defect\"]\n",
    "\n",
    "payoffs = np.array(\n",
    "    [\n",
    "        [[3, 3], [0, 5]],\n",
    "        [[5, 0], [1, 1]],\n",
    "    ]\n",
    ")"
   ]
  },
  {
   "cell_type": "code",
   "execution_count": null,
   "id": "c177c55f-f5e6-4ea6-968a-163187428cdb",
   "metadata": {},
   "outputs": [],
   "source": [
    "game = CommunicateAndPlayGame(actors=[pa, pb], n_rounds=3, action_names=actions, payoff_matrix=payoffs)\n",
    "plt.ioff()\n",
    "with TracingNode(\"game\") as ctx:\n",
    "    while not game.is_finished:\n",
    "        game.step()\n",
    "    ctx.set_result({\n",
    "        \"history\": game.history,\n",
    "        \"payoffs\": capture_figure(game.payoff_chart(cumsum=True))\n",
    "    })\n",
    "ctx.display()"
   ]
  },
  {
   "cell_type": "code",
   "execution_count": null,
   "id": "4ba400ef-9d8a-4fc9-962e-b1981db1cead",
   "metadata": {},
   "outputs": [],
   "source": [
    "game.history"
   ]
  },
  {
   "cell_type": "code",
   "execution_count": null,
   "id": "f37b757a-9f29-4cfe-8682-b8114a46dc54",
   "metadata": {},
   "outputs": [],
   "source": []
  },
  {
   "cell_type": "code",
   "execution_count": null,
   "id": "2303e65b-e75c-4f0c-a43a-b9ffd27bbf23",
   "metadata": {},
   "outputs": [],
   "source": [
    "env = CommunicateAndPlayGame(actors=[pa, pb], n_rounds=2, action_names=actions, payoff_matrix=payoffs)\n",
    "\n",
    "with TracingNode(\"expand tree demo\") as ctx:\n",
    "    expand_tree(env, max_depth=100, n_children=3)\n",
    "ctx.display()"
   ]
  },
  {
   "cell_type": "code",
   "execution_count": null,
   "id": "cdfa2d2f-d413-416c-b22e-9b855280362d",
   "metadata": {},
   "outputs": [],
   "source": [
    "ctx.display()"
   ]
  }
 ],
 "metadata": {
  "kernelspec": {
   "display_name": "Python 3 (ipykernel)",
   "language": "python",
   "name": "python3"
  },
  "language_info": {
   "codemirror_mode": {
    "name": "ipython",
    "version": 3
   },
   "file_extension": ".py",
   "mimetype": "text/x-python",
   "name": "python",
   "nbconvert_exporter": "python",
   "pygments_lexer": "ipython3",
   "version": "3.10.12"
  }
 },
 "nbformat": 4,
 "nbformat_minor": 5
}
