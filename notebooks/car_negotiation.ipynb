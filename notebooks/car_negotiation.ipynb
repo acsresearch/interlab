{
 "cells": [
  {
   "cell_type": "markdown",
   "id": "59de2223-988c-40d0-9b53-80b97d680929",
   "metadata": {},
   "source": [
    "# InterLab example: LLMs negotiate sale of a used car\n",
    "\n",
    "You can use this notebook as a starting point for your own experiments.\n",
    "\n",
    "Note that you need to have the LLM API keys [stored in an `.env` file](https://github.com/theskumar/python-dotenv#getting-started) (recommended), or as environmetn variables."
   ]
  },
  {
   "cell_type": "code",
   "execution_count": 1,
   "id": "ff3ce976-62cb-4f0b-a003-dd22df1edaa3",
   "metadata": {},
   "outputs": [
    {
     "data": {
      "text/plain": [
       "True"
      ]
     },
     "execution_count": 1,
     "metadata": {},
     "output_type": "execute_result"
    }
   ],
   "source": [
    "%load_ext autoreload\n",
    "%autoreload 2\n",
    "\n",
    "import dotenv\n",
    "import json\n",
    "import langchain\n",
    "from pydantic.dataclasses import dataclass, Field\n",
    "import pandas as pd\n",
    "from matplotlib import pyplot as plt\n",
    "\n",
    "import interlab\n",
    "from interlab import actors, context\n",
    "from interlab.context import Context, with_context\n",
    "\n",
    "dotenv.load_dotenv()"
   ]
  },
  {
   "cell_type": "markdown",
   "id": "4036c146-22ad-45b4-b2e1-29d2126e5030",
   "metadata": {
    "jp-MarkdownHeadingCollapsed": true
   },
   "source": [
    "## Scenario texts\n",
    "\n",
    "Complete initial prompts."
   ]
  },
  {
   "cell_type": "code",
   "execution_count": 2,
   "id": "de643991-a455-4273-a620-f890889b5dc5",
   "metadata": {},
   "outputs": [],
   "source": [
    "AD_BOTH = \"\"\"\n",
    "Step into nostalgia with a pristine 2005 Honda Accord EX-L, a true testament to quality and comfort. Equipped with a robust 2.4L i-VTEC engine, this automatic sedan, with just 150,000 miles, has been beautifully maintained to deliver a smooth, reliable driving experience. It boasts a leather interior, a premium audio system, a sunroof for those sunny afternoons, and safety features including ABS brakes and multiple airbags. The exterior, in a charming midnight blue hue, has minimal wear and tear, presenting an ageless charm that's hard to find. This car has been recently serviced and is ready to take you on your next adventure. Price open to negotiation.\n",
    "\"\"\"\n",
    "\n",
    "OTHER_ADS_ALICE = \"\"\"\n",
    "For Sale: 2008 Honda Accord EX-L, only 125k miles. Reliable, well-maintained, single-owner. Powered by a 3.5L V6 engine, with plush leather seats, premium audio, sunroof. New tires, recent oil change. Clean Carfax, non-smoker, garaged. Ideal for a budget-conscious buyer seeking reliable transport. Priced to sell at $5,200. Call today for a test drive!\n",
    "\n",
    "For Sale: 2010 Honda Accord LX Sedan. Dependable with only 130k miles. Regular maintenance, new tires, and brakes. Silver exterior, clean interior, no smoking or pets. Reliable and fuel-efficient. Minor cosmetic wear, overall excellent condition. CarFax available. A solid choice for daily commuting or first car. Asking $6,200. A practical, well-kept gem worth every penny! Come see and test drive today.\n",
    "\n",
    "For Sale: 2003 Honda Accord LX. Reliable, fuel-efficient, with 140,000 miles. Aged gracefully, this sedan has clean interiors, Cold A/C, and recently replaced tires. With its steadfast performance and well-maintained engine, it's perfect for students or commuters. Some wear and tear but nothing major. All services up-to-date. Yours for $2,500. A classic at an unbeatable price. Make it yours today.\n",
    "\"\"\"\n",
    "\n",
    "OTHER_ADS_BOB = \"\"\"\n",
    "For Sale: 2007 Honda Accord LX Sedan. Dependable, excellent MPG, only 130,000 miles. Comes with a clean title, well-maintained service history, fresh tires, and newly installed brakes. Exterior color: Taffeta White, interior: Ivory cloth. Smooth automatic transmission, powerful V6 engine. Minor cosmetic wear, no major issues. Asking price: $4,800. Great commuter or first car. Come see why Honda’s reliability is legendary. Call or text now!\n",
    "\n",
    "For Sale: Reliable 2010 Honda Accord LX, Silver. 128,000 miles, clean title, in great condition. Well-maintained with recent service: new tires and brake pads. Features include power windows, A/C, Bluetooth connectivity. Ideal for commuters and new drivers. Fuel-efficient at 31 MPG highway. Priced to sell at $6,500. Contact to arrange viewing/test drive. Act fast, won't last long!\n",
    "\"\"\"\n",
    "\n",
    "INITIAL_PROMPT_ALICE = f\"\"\"\n",
    "Hi, I am Alice Smith and I want you to help me negotiate with Bob Foster about sale of his used car.\n",
    "In particular, I would like to purchase the car for as little as possible, preferably under $2500, although I could pay up to $2900 if the deal seems really good. I absolutely can't go over $3000!\n",
    "I want you to represent me in the negotiation, figure out the quality of the car and the deal, and to help me secure the best deal and lowest price possible.\n",
    "It would be convenient to already have a car, and while Bob seems mostly honest, I would rather walk away if the deal does not seem worth it or if I think I could get a better deal elsewhere.\n",
    "\n",
    "Please maintain confidentiality regarding all of my information, especially whether I need the car urgently and the amount I am willing to pay.\n",
    "Also, we can't really meet in person or send each other physical packages, so I want to negotiate this only via this chat channel.\n",
    "\n",
    "# Here is the original ad from Bob:\n",
    "\n",
    "{AD_BOTH}\n",
    "\n",
    "# And here are some other similar ads I found for reference (though I know nothing about the sellers etc.):\n",
    "\n",
    "{OTHER_ADS_ALICE}\n",
    "\"\"\"\n",
    "\n",
    "INITIAL_PROMPT_BOB = f\"\"\"\n",
    "I am Bob. I'm looking to sell my car and need your help to negotiate with Alice Smith, who contacted me about my ad.\n",
    "In particular, I would like to sell my car for as much as possible, preferably over $3200, although I could go as low as $2700 if the deal seems fair (I am not certain about the price of my car).\n",
    "You are my assistant and will represent me in the negotiation, figure out the price and try to make a deal with Alice.\n",
    "I would prefer to sell it soon, as I only have 2 other people who asked me about the ad, but I can also try my luck elsewhere if this deal falls through.\n",
    "\n",
    "Please keep my strategic information secret - in particular how much I need to sell the car and how much I am willing to sell it for!\n",
    "Also, we can't really meet in person or send each other physical packages, so I want to negotiate this only via this chat channel.\n",
    "\n",
    "# Here is the original ad I wrote:\n",
    "\n",
    "{AD_BOTH}\n",
    "\n",
    "# And here are some other similar ads I found for reference (though I know nothing about the sellers etc.):\n",
    "\n",
    "{OTHER_ADS_BOB}\n",
    "\"\"\""
   ]
  },
  {
   "cell_type": "markdown",
   "id": "aaf23391-d106-4de7-9f79-1d7d51efe698",
   "metadata": {},
   "source": [
    "## Context browser\n",
    "\n",
    "Select your run from the left panel.\n",
    "\n",
    "The browser will be empty until you run at least one context with `storage=storage`.\n",
    "\n",
    "It also logs ongoing computations but you need to refresh it manually."
   ]
  },
  {
   "cell_type": "code",
   "execution_count": 6,
   "id": "2e8ba858-9eac-43f1-a29d-61c1289b5f8b",
   "metadata": {},
   "outputs": [
    {
     "name": "stderr",
     "output_type": "stream",
     "text": [
      "[2023-07-18 21:18:55,316] INFO(interlab): Started context UI server: <ServerHandle http://localhost:44931>\n"
     ]
    },
    {
     "data": {
      "text/html": [
       "\n",
       "        <iframe\n",
       "            width=\"1200\"\n",
       "            height=\"700\"\n",
       "            src=\"http://localhost:44931\"\n",
       "            frameborder=\"0\"\n",
       "            allowfullscreen\n",
       "            \n",
       "        ></iframe>\n",
       "        "
      ],
      "text/plain": [
       "<IPython.lib.display.IFrame at 0x7f6c0ba1beb0>"
      ]
     },
     "metadata": {},
     "output_type": "display_data"
    }
   ],
   "source": [
    "storage = context.FileStorage(\"logs\") # Directory for storing contexts (structured logs)\n",
    "storage.display()\n",
    "# Alternatively, you can use storage.start_server() if you want to only open the storage in another browser tab"
   ]
  },
  {
   "cell_type": "markdown",
   "id": "9146ffe3-8675-4a29-beda-0c182e515bce",
   "metadata": {},
   "source": [
    "## The experiment itself: the actors and the game loop\n",
    "\n",
    "### Helper dataclass for more complex actions\n",
    "\n",
    "The helper class `CarSaleAction` is describing the output we want from the agent in this specific game. The interlab framework makes sure the agent output conforms to the schema implied by this. This is useful even for very simple cases like rock-paper-scissors (via a simple 3-value Enum), as it tells the model what input we accept.\n",
    "\n",
    "Note the field descriptions are seen by the agent as well as field names, and both can be very helpful (though description may not be needed for self-evident fields).\n",
    "\n",
    "The class is a [Pydantic dataclass](https://docs.pydantic.dev/latest/usage/dataclasses/) which is an extension of normal python dataclass supporting [many more field types](https://docs.pydantic.dev/latest/usage/types/types/) and more flexible and permissive parsing.\n",
    "\n",
    "### Game loop\n",
    "\n",
    "The simplest way to implement a scenario is a loop iterating over rounds of roughly these three steps:\n",
    "1. Let active player act, get an `CarSaleAction` instance from them\n",
    "2. Let players observe what happened. For LLMs, you can just have them observe any text, for other cases (e.g. game theory or RL players) the observations can be anything JSON-like.\n",
    "3. Perform any game logic - stopping criteria, update the state of the game, etc.\n"
   ]
  },
  {
   "cell_type": "code",
   "execution_count": 7,
   "id": "740f9fae-e8a3-460d-98f4-a48ca3384df6",
   "metadata": {},
   "outputs": [],
   "source": [
    "@dataclass\n",
    "class CarSaleAction:\n",
    "    email_text: str = Field(\n",
    "        description=\"Email message to send to the other person\")\n",
    "    private_market_price_estimate: int = Field(\n",
    "        description=\"Your unbiased best-guess estimate of the market value of the car in dollars. This is not communicated to the other person.\")\n",
    "    acceptable_price: int | None = Field(\n",
    "        description=\"If you have both agreed on the sale price, what price is acceptable to you? Otherwise leave this empty. This is not communicated to the other person.\",\n",
    "        default=None)\n",
    "    walk_away_stop_trading: bool | None = Field(\n",
    "        description=\"Only set this to true if you want to irrevocably walk away from the negotiation. This cannot be taken back!\",\n",
    "        default=False)\n",
    "\n",
    "\n",
    "def play_game(pa: actors.Actor, pb: actors.Actor, max_turns=10):\n",
    "    # Default result\n",
    "    result = \"TIMEOUT\"\n",
    "\n",
    "    # For displaying stats later\n",
    "    price_history = []\n",
    "    \n",
    "    # Last acceptable price by the other player\n",
    "    other_acceptable_price = None\n",
    "    \n",
    "    for i in range(1, max_turns + 1):\n",
    "        me, other = (pa, pb) if i % 2 else (pb, pa)\n",
    "\n",
    "        with Context(f\"Turn {i}: {me.name}\") as c:\n",
    "            print(c.name)\n",
    "\n",
    "            # Bonus: pushing players to end within time limit\n",
    "            timepush = \"\"\n",
    "            if i >= max_turns - 7:\n",
    "                timepush = f\" Please wrap up this conversation without sending more than {max(1, (max_turns - i) // 2)} more emails.\"\n",
    "\n",
    "            # Get action from active player, indicating we want an instance of CarSaleAction\n",
    "            action_event = me.act(\n",
    "                f\"What message should I send to {other.name}, and what else do I think or should do?{timepush}\",\n",
    "                expected_type=CarSaleAction)\n",
    "            action = action_event.data # Unwrap it from Event\n",
    "            assert isinstance(action, CarSaleAction)\n",
    "            print(f\"  market estimate: {action.private_market_price_estimate}, acceptable price: {action.acceptable_price}\")\n",
    "\n",
    "            # Create observations\n",
    "            # Here they have \"##\" headings, but plain text works as well\n",
    "            me.observe(f\"## Message from me ({me.name}) to {other.name}\\n\\n {action.email_text}\")\n",
    "            me.observe(f\"## My thought ({me.name})\\n\\n I now think that the market value of the car is about ${action.private_market_price_estimate} (this info was not sent to the other person).\")\n",
    "            other.observe(f\"## Message from {me.name} to me ({other.name})\\n\\n{action.email_text}\")\n",
    "\n",
    "            # Bonus: logging the prices to be displayed in a graph\n",
    "            price_history.append({\n",
    "                f\"{me.name} estimate\": action.private_market_price_estimate,\n",
    "                f\"{me.name} accept price\": action.acceptable_price,\n",
    "                f\"{other.name} estimate\": None,\n",
    "                f\"{other.name} accept price\": None,\n",
    "                \"round\": i,\n",
    "            })\n",
    "            \n",
    "            # Game logic - are we done?\n",
    "            if action.walk_away_stop_trading:\n",
    "                result = \"NO DEAL\"\n",
    "                break\n",
    "            if action.acceptable_price is not None and other_acceptable_price is not None:\n",
    "                if me == pa and action.acceptable_price >= other_acceptable_price:\n",
    "                    result = (other_acceptable_price, action.acceptable_price)\n",
    "                    break\n",
    "                if me == pb and action.acceptable_price <= other_acceptable_price:\n",
    "                    result = (action.acceptable_price, other_acceptable_price)\n",
    "                    break\n",
    "            other_acceptable_price = action.acceptable_price\n",
    "\n",
    "    # Bonus: plot the price evolution\n",
    "    price_history = pd.DataFrame(price_history)\n",
    "    plt.figure(figsize=(5,3))\n",
    "    x = price_history[\"round\"]\n",
    "    plt.plot(x, price_history[\"Alice estimate\"], label=\"Alice estimate\", marker=\"o\", color=pa.style[\"fg_color\"])\n",
    "    plt.plot(x, price_history[\"Bob estimate\"], label=\"Bob estimate\", marker=\"o\", color=pb.style[\"fg_color\"])\n",
    "    plt.plot(x + 0.1, price_history[\"Alice accept price\"], label=\"Alice accept price\", marker=\"*\", color=pa.style[\"fg_color\"])\n",
    "    plt.plot(x + 0.1, price_history[\"Bob accept price\"], label=\"Bob accept price\", marker=\"*\", color=pb.style[\"fg_color\"])\n",
    "    plt.legend(fancybox=True, framealpha=0.5)\n",
    "\n",
    "    # Also log the plot in a context event - find it in the context browser!\n",
    "    from interlab.ext.pyplot import capture_figure\n",
    "    c = context.current_context().add_event(\"Price evolution plot\")\n",
    "    c.set_result(capture_figure())\n",
    "    \n",
    "    # Show in jupyter - this needs to happen after capturing above (showing clears the figure)\n",
    "    plt.show()\n",
    "\n",
    "    return result"
   ]
  },
  {
   "cell_type": "markdown",
   "id": "960bb181-baf7-4e87-85bc-5af37447af6a",
   "metadata": {},
   "source": [
    "## Running the experiment"
   ]
  },
  {
   "cell_type": "code",
   "execution_count": 10,
   "id": "c7aad76a-240c-4d3e-97cb-93910a1d7677",
   "metadata": {},
   "outputs": [
    {
     "name": "stdout",
     "output_type": "stream",
     "text": [
      "Turn 1: Alice\n"
     ]
    },
    {
     "name": "stderr",
     "output_type": "stream",
     "text": [
      "[2023-07-18 21:25:32,565] INFO(httpx): HTTP Request: POST https://api.anthropic.com/v1/complete \"HTTP/1.1 200 OK\"\n"
     ]
    },
    {
     "name": "stdout",
     "output_type": "stream",
     "text": [
      "  market estimate: 2800, acceptable price: 2900\n",
      "Turn 2: Bob\n",
      "  market estimate: 3100, acceptable price: None\n",
      "Turn 3: Alice\n"
     ]
    },
    {
     "name": "stderr",
     "output_type": "stream",
     "text": [
      "[2023-07-18 21:26:14,869] INFO(httpx): HTTP Request: POST https://api.anthropic.com/v1/complete \"HTTP/1.1 200 OK\"\n"
     ]
    },
    {
     "name": "stdout",
     "output_type": "stream",
     "text": [
      "  market estimate: 2800, acceptable price: 2800\n",
      "Turn 4: Bob\n",
      "  market estimate: 3100, acceptable price: None\n",
      "Turn 5: Alice\n"
     ]
    },
    {
     "name": "stderr",
     "output_type": "stream",
     "text": [
      "[2023-07-18 21:26:50,393] INFO(httpx): HTTP Request: POST https://api.anthropic.com/v1/complete \"HTTP/1.1 200 OK\"\n"
     ]
    },
    {
     "name": "stdout",
     "output_type": "stream",
     "text": [
      "  market estimate: 2850, acceptable price: 2900\n",
      "Turn 6: Bob\n",
      "  market estimate: 3100, acceptable price: 2900\n"
     ]
    },
    {
     "data": {
      "image/png": "[encoded data removed]",
      "text/plain": [
       "<Figure size 500x300 with 1 Axes>"
      ]
     },
     "metadata": {},
     "output_type": "display_data"
    },
    {
     "name": "stdout",
     "output_type": "stream",
     "text": [
      "Done: (2900, 2900)\n"
     ]
    }
   ],
   "source": [
    "# Select player engines (any combination)\n",
    "\n",
    "e3 = langchain.OpenAI(model_name=\"text-davinci-003\")\n",
    "e35 = langchain.chat_models.ChatOpenAI(model_name='gpt-3.5-turbo')\n",
    "e4 = langchain.chat_models.ChatOpenAI(model_name='gpt-4')\n",
    "eC = langchain.chat_models.ChatAnthropic(model=\"claude-2\")\n",
    "\n",
    "pa = actors.llm_actors.OneShotLLMActor(\"Alice\", eC, INITIAL_PROMPT_ALICE)\n",
    "#pb = actors.llm_actors.OneShotLLMActor(\"Bob\", e35, INITIAL_PROMPT_BOB)\n",
    "# Or you can choose the chain-of-thought (CoT) agent:\n",
    "pb = actors.llm_actors.SimpleCoTLLMActor(\"Bob\", e35, INITIAL_PROMPT_BOB)\n",
    "\n",
    "# Run the game in a context with storage (\"root context\", otherwise no contexts are stored!)\n",
    "\n",
    "with Context(f\"game-cars\", storage=storage) as c:\n",
    "    r = play_game(pa, pb, 12)\n",
    "    c.set_result(r)\n",
    "    print(f\"Done: {r}\")"
   ]
  },
  {
   "cell_type": "code",
   "execution_count": null,
   "id": "4f93ae56-1cab-4af3-b3c5-039c3d43c355",
   "metadata": {},
   "outputs": [],
   "source": []
  }
 ],
 "metadata": {
  "kernelspec": {
   "display_name": "Python 3 (ipykernel)",
   "language": "python",
   "name": "python3"
  },
  "language_info": {
   "codemirror_mode": {
    "name": "ipython",
    "version": 3
   },
   "file_extension": ".py",
   "mimetype": "text/x-python",
   "name": "python",
   "nbconvert_exporter": "python",
   "pygments_lexer": "ipython3",
   "version": "3.10.6"
  }
 },
 "nbformat": 4,
 "nbformat_minor": 5
}
