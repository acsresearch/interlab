{
 "cells": [
  {
   "cell_type": "code",
   "execution_count": 6,
   "id": "cb5de900-f1da-49bc-93d7-441b1b916e9f",
   "metadata": {},
   "outputs": [
    {
     "name": "stdout",
     "output_type": "stream",
     "text": [
      "The autoreload extension is already loaded. To reload it, use:\n",
      "  %reload_ext autoreload\n"
     ]
    }
   ],
   "source": [
    "%load_ext autoreload\n",
    "%autoreload 2\n",
    "\n",
    "import logging\n",
    "import querychains\n",
    "from interlab.context import with_context, Context, FileStorage"
   ]
  },
  {
   "cell_type": "code",
   "execution_count": 7,
   "id": "fd4c505c-c596-43f2-8c40-f60861056b76",
   "metadata": {},
   "outputs": [
    {
     "data": {
      "text/plain": [
       "<FileStorage directory='/home/ada/projects/querychain/notebooks/data'>"
      ]
     },
     "execution_count": 7,
     "metadata": {},
     "output_type": "execute_result"
    }
   ],
   "source": [
    "storage = FileStorage(\"data\")\n",
    "storage"
   ]
  },
  {
   "cell_type": "code",
   "execution_count": 8,
   "id": "94e6fe8f-d162-4625-be7c-47c4c9c218d1",
   "metadata": {},
   "outputs": [],
   "source": [
    "# Register context into storage\n",
    "\n",
    "with Context(\"root1\", storage=storage):\n",
    "    pass\n"
   ]
  },
  {
   "cell_type": "code",
   "execution_count": 9,
   "id": "71de04ca-736e-4ab5-8dff-e7ff9cf12e0a",
   "metadata": {},
   "outputs": [],
   "source": [
    "# Manual writing context into storage\n",
    "\n",
    "with Context(\"root2\", tags=[\"hello\"]) as c:\n",
    "    pass\n",
    "\n",
    "storage.write_context(c)"
   ]
  },
  {
   "cell_type": "code",
   "execution_count": 10,
   "id": "3677001b-a05b-477f-a2fa-b402957fbb76",
   "metadata": {},
   "outputs": [
    {
     "data": {
      "text/plain": [
       "[PosixPath('data/2023-07-18T13:40:00-root3-Lu3p7f.ctx/_self.gz'),\n",
       " PosixPath('data/2023-07-18T13:40:00-root3-Lu3p7f.ctx/2023-07-18T13:40:00-first_child-FjVIjI.ctx'),\n",
       " PosixPath('data/2023-07-18T13:40:00-root3-Lu3p7f.ctx/2023-07-18T13:40:00-second_child-Clux3X.ctx'),\n",
       " PosixPath('data/2023-07-18T13:40:00-root3-Lu3p7f.ctx/2023-07-18T13:40:00-first_child-FjVIjI.ctx/_self.gz'),\n",
       " PosixPath('data/2023-07-18T13:40:00-root3-Lu3p7f.ctx/2023-07-18T13:40:00-first_child-FjVIjI.ctx/2023-07-18T13:40:00-b-pGWU8H.root.gz'),\n",
       " PosixPath('data/2023-07-18T13:40:00-root3-Lu3p7f.ctx/2023-07-18T13:40:00-first_child-FjVIjI.ctx/2023-07-18T13:40:00-a-qm6A8q.root.gz'),\n",
       " PosixPath('data/2023-07-18T13:40:00-root3-Lu3p7f.ctx/2023-07-18T13:40:00-first_child-FjVIjI.ctx/2023-07-18T13:40:00-b-pGWU8H.full.gz'),\n",
       " PosixPath('data/2023-07-18T13:40:00-root3-Lu3p7f.ctx/2023-07-18T13:40:00-first_child-FjVIjI.ctx/2023-07-18T13:40:00-a-qm6A8q.full.gz'),\n",
       " PosixPath('data/2023-07-18T13:40:00-root3-Lu3p7f.ctx/2023-07-18T13:40:00-second_child-Clux3X.ctx/2023-07-18T13:40:00-a-pGaggY.root.gz'),\n",
       " PosixPath('data/2023-07-18T13:40:00-root3-Lu3p7f.ctx/2023-07-18T13:40:00-second_child-Clux3X.ctx/_self.gz'),\n",
       " PosixPath('data/2023-07-18T13:40:00-root3-Lu3p7f.ctx/2023-07-18T13:40:00-second_child-Clux3X.ctx/2023-07-18T13:40:00-b-zxM7zU.root.gz'),\n",
       " PosixPath('data/2023-07-18T13:40:00-root3-Lu3p7f.ctx/2023-07-18T13:40:00-second_child-Clux3X.ctx/2023-07-18T13:40:00-a-pGaggY.full.gz'),\n",
       " PosixPath('data/2023-07-18T13:40:00-root3-Lu3p7f.ctx/2023-07-18T13:40:00-second_child-Clux3X.ctx/2023-07-18T13:40:00-b-zxM7zU.full.gz')]"
      ]
     },
     "execution_count": 10,
     "metadata": {},
     "output_type": "execute_result"
    }
   ],
   "source": [
    "# Composing directory structure with contexts\n",
    "\n",
    "with Context(\"root3\", storage=storage, directory=True) as root:\n",
    "    with Context(\"first child\", directory=True):\n",
    "        with Context(\"a\"):\n",
    "            pass\n",
    "        with Context(\"b\", tags=[\"hello\"]):\n",
    "            pass\n",
    "    with Context(\"second child\", directory=True):\n",
    "        with Context(\"a\"):\n",
    "            pass\n",
    "        with Context(\"b\"):\n",
    "            pass\n",
    "\n",
    "import pathlib\n",
    "list(pathlib.Path(f\"data/{root.uid}.ctx\").rglob(\"*\"))"
   ]
  },
  {
   "cell_type": "code",
   "execution_count": null,
   "id": "17acce52-64af-4571-ad77-ad0a7e7cdf4c",
   "metadata": {},
   "outputs": [],
   "source": []
  },
  {
   "cell_type": "code",
   "execution_count": null,
   "id": "e0cc23b9-27ef-4831-95ae-3dd7b61c1bc4",
   "metadata": {},
   "outputs": [],
   "source": []
  },
  {
   "cell_type": "code",
   "execution_count": 12,
   "id": "a744a9ad-2ba5-4126-9678-27c34ba95224",
   "metadata": {},
   "outputs": [
    {
     "data": {
      "text/plain": [
       "<ServerHandle http://localhost:36265>"
      ]
     },
     "execution_count": 12,
     "metadata": {},
     "output_type": "execute_result"
    }
   ],
   "source": [
    "# Running data browser over storage\n",
    "\n",
    "storage.start_server()"
   ]
  },
  {
   "cell_type": "code",
   "execution_count": null,
   "id": "ffd1f54b-aa6b-45cd-90ef-e070123ecdd8",
   "metadata": {},
   "outputs": [],
   "source": []
  },
  {
   "cell_type": "code",
   "execution_count": null,
   "id": "ab026d55-1ada-4339-90d9-b1c2b9a93f63",
   "metadata": {},
   "outputs": [],
   "source": [
    "# Long running cell, you can observe it in browser in running state\n",
    "\n",
    "with Context(\"Long running\", storage=storage):\n",
    "    with Context(\"Child1\"):\n",
    "        import time\n",
    "        time.sleep(10)"
   ]
  },
  {
   "cell_type": "code",
   "execution_count": null,
   "id": "1a7e6a55-6869-45b5-9f26-74e55035b5b2",
   "metadata": {},
   "outputs": [],
   "source": []
  },
  {
   "cell_type": "code",
   "execution_count": null,
   "id": "d7f4016a-b6b9-491e-80b9-602bf6924009",
   "metadata": {},
   "outputs": [],
   "source": [
    "# Read all stored (root) contexts\n",
    "\n",
    "for context in storage.read_all_contexts():\n",
    "    print(context.uid, context.name)"
   ]
  },
  {
   "cell_type": "code",
   "execution_count": null,
   "id": "d26cbe6c-7196-4e01-89cc-c4ef731bf1ba",
   "metadata": {},
   "outputs": [],
   "source": []
  },
  {
   "cell_type": "code",
   "execution_count": null,
   "id": "c4e342a4-9aef-4d81-8669-6913f4d75c91",
   "metadata": {},
   "outputs": [],
   "source": [
    "# Recursively search for specific contexts\n",
    "\n",
    "for context in storage.find_contexts(lambda ctx: ctx.has_tag_name(\"hello\")):\n",
    "    print(context.uid, context.name)"
   ]
  },
  {
   "cell_type": "code",
   "execution_count": null,
   "id": "37c5a923-3dd1-4bb7-b281-468f1841332e",
   "metadata": {},
   "outputs": [],
   "source": []
  },
  {
   "cell_type": "code",
   "execution_count": null,
   "id": "29492ac7-8664-4961-8908-564d717720d4",
   "metadata": {},
   "outputs": [],
   "source": [
    "# Read a context by uid\n",
    "\n",
    "context = storage.read_context(root.uid)\n",
    "print(context.uid, context.name)\n",
    "\n",
    "\n",
    "# Search in a given context\n",
    "\n",
    "context.find_contexts(lambda x: x.name == \"a\")"
   ]
  },
  {
   "cell_type": "code",
   "execution_count": null,
   "id": "b2c7fcf1-60bd-45b4-b596-b9889528f314",
   "metadata": {},
   "outputs": [],
   "source": []
  }
 ],
 "metadata": {
  "kernelspec": {
   "display_name": "Python 3 (ipykernel)",
   "language": "python",
   "name": "python3"
  },
  "language_info": {
   "codemirror_mode": {
    "name": "ipython",
    "version": 3
   },
   "file_extension": ".py",
   "mimetype": "text/x-python",
   "name": "python",
   "nbconvert_exporter": "python",
   "pygments_lexer": "ipython3",
   "version": "3.10.6"
  }
 },
 "nbformat": 4,
 "nbformat_minor": 5
}
