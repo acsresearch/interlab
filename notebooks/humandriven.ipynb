{
 "cells": [
  {
   "cell_type": "code",
   "execution_count": null,
   "id": "8a96b78d-76b6-4dce-a161-e6bfb318b0c1",
   "metadata": {},
   "outputs": [],
   "source": [
    "%load_ext autoreload\n",
    "%autoreload 2\n",
    "\n",
    "from interlab.llm.engines import HumanEngine"
   ]
  },
  {
   "cell_type": "code",
   "execution_count": null,
   "id": "0a58e505-6f82-41f7-9221-98c23d1bd0c3",
   "metadata": {},
   "outputs": [],
   "source": [
    "engine = HumanEngine(\"HumanEngineTest\")\n",
    "engine.display()"
   ]
  },
  {
   "cell_type": "code",
   "execution_count": null,
   "id": "096624f8-eb42-4d2c-9bd0-85888bf6965d",
   "metadata": {},
   "outputs": [],
   "source": [
    "result = engine.query(\"How are you?\")\n",
    "result"
   ]
  },
  {
   "cell_type": "code",
   "execution_count": null,
   "id": "dbe69a29-624c-40ff-9e9e-766c08537b77",
   "metadata": {},
   "outputs": [],
   "source": []
  },
  {
   "cell_type": "code",
   "execution_count": null,
   "id": "29cc96d4-357d-4271-8f37-9fa4f3e0ae30",
   "metadata": {},
   "outputs": [],
   "source": []
  },
  {
   "cell_type": "code",
   "execution_count": null,
   "id": "7ef645a2-ae97-4f50-aff4-1c4109531894",
   "metadata": {},
   "outputs": [],
   "source": []
  }
 ],
 "metadata": {
  "kernelspec": {
   "display_name": "Python 3 (ipykernel)",
   "language": "python",
   "name": "python3"
  },
  "language_info": {
   "codemirror_mode": {
    "name": "ipython",
    "version": 3
   },
   "file_extension": ".py",
   "mimetype": "text/x-python",
   "name": "python",
   "nbconvert_exporter": "python",
   "pygments_lexer": "ipython3",
   "version": "3.10.6"
  }
 },
 "nbformat": 4,
 "nbformat_minor": 5
}
