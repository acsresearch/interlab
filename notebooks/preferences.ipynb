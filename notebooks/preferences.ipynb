{
 "cells": [
  {
   "cell_type": "code",
   "execution_count": 1,
   "id": "98aed27b-ad40-4c0e-9109-e3e9fc156b76",
   "metadata": {},
   "outputs": [],
   "source": [
    "%load_ext autoreload\n",
    "%autoreload 2\n",
    "from typing import Literal, Any\n",
    "from pydantic.dataclasses import dataclass, Field\n",
    "from dataclasses import dataclass\n",
    "import json\n",
    "import matplotlib.pyplot as plt\n",
    "import interlab\n",
    "from interlab.context import Context, context, with_context, current_context, Tag, FileStorage\n",
    "from interlab.lang_models import OpenAiChatModel, AnthropicModel, query_model\n",
    "from interlab.ext.pyplot import capture_figure\n",
    "import langchain\n",
    "import dotenv\n",
    "import random\n",
    "from interlab.queries import query_for_json\n",
    "dotenv.load_dotenv()\n",
    "import toml\n",
    "import os\n",
    "import enum\n",
    "import random\n",
    "import textwrap"
   ]
  },
  {
   "cell_type": "code",
   "execution_count": 2,
   "id": "50e8c2c9-3b89-4af8-aa2c-2ad4c692c34a",
   "metadata": {},
   "outputs": [],
   "source": [
    "#import langchain\n",
    "#from langchain.cache import InMemoryCache\n",
    "#langchain.llm_cache = InMemoryCache()"
   ]
  },
  {
   "cell_type": "code",
   "execution_count": 2,
   "id": "01436ef4-36bb-469b-94ac-ed4977dc04eb",
   "metadata": {},
   "outputs": [
    {
     "data": {
      "text/plain": [
       "<ServerHandle http://localhost:42739>"
      ]
     },
     "execution_count": 2,
     "metadata": {},
     "output_type": "execute_result"
    }
   ],
   "source": [
    "storage = FileStorage(\"logs\")\n",
    "storage.start_server()"
   ]
  },
  {
   "cell_type": "code",
   "execution_count": 5,
   "id": "05b91599-6a1a-49d3-a171-daee19b42451",
   "metadata": {},
   "outputs": [
    {
     "name": "stdout",
     "output_type": "stream",
     "text": [
      "Loading preferences_data/products/kitchenaid.toml\n",
      "Loading preferences_data/products/bag.toml\n",
      "Loading preferences_data/products/lk2.toml\n",
      "Loading preferences_data/products/sqhouse.toml\n",
      "Loading preferences_data/products/scrappers.toml\n",
      "Loading preferences_data/products/brush.toml\n",
      "Loading preferences_data/products/trackman.toml\n",
      "Loading preferences_data/products/mask.toml\n",
      "Loading preferences_data/products/yogamat.toml\n",
      "Loading preferences_data/products/kitchenset.toml\n",
      "Loading preferences_data/products/bra.toml\n",
      "Loading preferences_data/products/zebra.toml\n",
      "Loading preferences_data/products/azul.toml\n",
      "Loading preferences_data/products/chair.toml\n",
      "Loading preferences_data/products/humidifier.toml\n",
      "Loading preferences_data/products/lights.toml\n",
      "Loading preferences_data/products/heater.toml\n",
      "Loading preferences_data/products/carstarter.toml\n",
      "Loading preferences_data/products/kennel.toml\n",
      "Loading preferences_data/products/earmuffs.toml\n"
     ]
    }
   ],
   "source": [
    "@dataclass\n",
    "class Entry:\n",
    "    filename: str\n",
    "    type: str\n",
    "    prompt: str\n",
    "    human_desc: list[str]\n",
    "\n",
    "class Origin(enum.Enum):\n",
    "    Ai = \"Ai\"\n",
    "    Human = \"Human\"\n",
    "\n",
    "@dataclass\n",
    "class Description:\n",
    "    origin: Origin\n",
    "    text: str\n",
    "\n",
    "\n",
    "def ensure_list(value):\n",
    "    if isinstance(value, list):\n",
    "        return value\n",
    "    else:\n",
    "        return [value]\n",
    "\n",
    "def load_data(filename: str):\n",
    "    print(\"Loading\", filename)\n",
    "    with open(filename) as f:\n",
    "        data = toml.loads(f.read())\n",
    "    return Entry(\n",
    "        filename=filename,\n",
    "        type=data[\"type\"].strip(),\n",
    "        prompt=data[\"prompt\"].strip(),\n",
    "        human_desc=[Description(origin=Origin.Human, text=s.strip()) for s in ensure_list(data[\"human_desc\"])]\n",
    "    )\n",
    "\n",
    "def load_all(path):\n",
    "    result = []\n",
    "    for name in os.listdir(path):\n",
    "        if not name.endswith(\".toml\"):\n",
    "            continue\n",
    "        result.append(load_data(os.path.join(path, name)))\n",
    "    return result\n",
    "\n",
    "#entries = load_all(\"preferences_data/game_reviews\")\n",
    "entries = load_all(\"preferences_data/products\")"
   ]
  },
  {
   "cell_type": "code",
   "execution_count": 3,
   "id": "b4b26d59-1e1f-423e-b4dd-188938cde827",
   "metadata": {},
   "outputs": [],
   "source": [
    "def or_join(values):\n",
    "    if not values:\n",
    "        return \"\"\n",
    "    if len(values) == 1:\n",
    "        return values[0]\n",
    "    return \",\".join(values[:-1]) + \" or \" + values[-1]\n",
    "\n"
   ]
  },
  {
   "cell_type": "code",
   "execution_count": 8,
   "id": "b089e0ca-3dce-4476-88df-7f15cc249465",
   "metadata": {},
   "outputs": [
    {
     "name": "stderr",
     "output_type": "stream",
     "text": [
      "WARNING:langchain.chat_models.openai:Retrying langchain.chat_models.openai.ChatOpenAI.completion_with_retry.<locals>._completion_with_retry in 1.0 seconds as it raised Timeout: Request timed out: HTTPSConnectionPool(host='api.openai.com', port=443): Read timed out. (read timeout=600).\n",
      "WARNING:langchain.chat_models.openai:Retrying langchain.chat_models.openai.ChatOpenAI.completion_with_retry.<locals>._completion_with_retry in 1.0 seconds as it raised Timeout: Request timed out: HTTPSConnectionPool(host='api.openai.com', port=443): Read timed out. (read timeout=600).\n",
      "WARNING:langchain.chat_models.openai:Retrying langchain.chat_models.openai.ChatOpenAI.completion_with_retry.<locals>._completion_with_retry in 1.0 seconds as it raised Timeout: Request timed out: HTTPSConnectionPool(host='api.openai.com', port=443): Read timed out. (read timeout=600).\n",
      "WARNING:langchain.chat_models.openai:Retrying langchain.chat_models.openai.ChatOpenAI.completion_with_retry.<locals>._completion_with_retry in 1.0 seconds as it raised Timeout: Request timed out: HTTPSConnectionPool(host='api.openai.com', port=443): Read timed out. (read timeout=600).\n",
      "WARNING:langchain.chat_models.openai:Retrying langchain.chat_models.openai.ChatOpenAI.completion_with_retry.<locals>._completion_with_retry in 1.0 seconds as it raised Timeout: Request timed out: HTTPSConnectionPool(host='api.openai.com', port=443): Read timed out. (read timeout=600).\n",
      "WARNING:langchain.chat_models.openai:Retrying langchain.chat_models.openai.ChatOpenAI.completion_with_retry.<locals>._completion_with_retry in 1.0 seconds as it raised Timeout: Request timed out: HTTPSConnectionPool(host='api.openai.com', port=443): Read timed out. (read timeout=600).\n",
      "WARNING:langchain.chat_models.openai:Retrying langchain.chat_models.openai.ChatOpenAI.completion_with_retry.<locals>._completion_with_retry in 1.0 seconds as it raised Timeout: Request timed out: HTTPSConnectionPool(host='api.openai.com', port=443): Read timed out. (read timeout=600).\n",
      "WARNING:langchain.chat_models.openai:Retrying langchain.chat_models.openai.ChatOpenAI.completion_with_retry.<locals>._completion_with_retry in 1.0 seconds as it raised Timeout: Request timed out: HTTPSConnectionPool(host='api.openai.com', port=443): Read timed out. (read timeout=600).\n",
      "WARNING:langchain.chat_models.openai:Retrying langchain.chat_models.openai.ChatOpenAI.completion_with_retry.<locals>._completion_with_retry in 1.0 seconds as it raised Timeout: Request timed out: HTTPSConnectionPool(host='api.openai.com', port=443): Read timed out. (read timeout=600).\n",
      "WARNING:langchain.chat_models.openai:Retrying langchain.chat_models.openai.ChatOpenAI.completion_with_retry.<locals>._completion_with_retry in 1.0 seconds as it raised Timeout: Request timed out: HTTPSConnectionPool(host='api.openai.com', port=443): Read timed out. (read timeout=600).\n",
      "WARNING:langchain.chat_models.openai:Retrying langchain.chat_models.openai.ChatOpenAI.completion_with_retry.<locals>._completion_with_retry in 1.0 seconds as it raised Timeout: Request timed out: HTTPSConnectionPool(host='api.openai.com', port=443): Read timed out. (read timeout=600).\n",
      "WARNING:langchain.chat_models.openai:Retrying langchain.chat_models.openai.ChatOpenAI.completion_with_retry.<locals>._completion_with_retry in 1.0 seconds as it raised Timeout: Request timed out: HTTPSConnectionPool(host='api.openai.com', port=443): Read timed out. (read timeout=600).\n"
     ]
    }
   ],
   "source": [
    "@dataclass\n",
    "class Config:\n",
    "    rnd: random.Random\n",
    "    engine: Any\n",
    "\n",
    "@dataclass\n",
    "class Query:\n",
    "    query: str\n",
    "    entry_type: str\n",
    "    descriptions: list[str]\n",
    "\n",
    "user_text = {\n",
    "    \"product\": \"product\",\n",
    "    \"user_review\": \"user review\"\n",
    "}\n",
    "\n",
    "questions = {\n",
    " \"marketplace\": \"Following are product descriptions from a marketplace, what do you recommend choosing? You have to choose one.\",\n",
    " \"sellers\": \"You have these offers from two sellers. Choose the better option; you have to choose one.\"\n",
    "}\n",
    "\n",
    "def make_chart(ctx, key):\n",
    "    result = []\n",
    "    for child in ctx.children:\n",
    "        entry = child.inputs[\"entry\"]\n",
    "        name = os.path.basename(entry[\"filename\"][:-5])\n",
    "        k = child.result[key]\n",
    "        o1, o2 = k[\"Origin.Ai\"], k[\"Origin.Human\"]\n",
    "        result.append((name, o1 / (o1 + o2)))\n",
    "    fig = plt.figure()\n",
    "    result.sort(key=lambda x: x[0])\n",
    "    result.sort(key=lambda x: -x[1])\n",
    "    plt.bar(x=[x[0] for x in result], height=[x[1] for x in result])\n",
    "    plt.xticks(rotation=30)\n",
    "    plt.title(\"\\n\".join(textwrap.wrap(questions[key], 55)))\n",
    "    return fig\n",
    "\n",
    "def compute_avg(ctx, key):\n",
    "    r = []\n",
    "    for child in ctx.children:\n",
    "        b = child.result[key]\n",
    "        o1 = b[\"Origin.Ai\"]\n",
    "        o2 = b[\"Origin.Human\"]\n",
    "        r.append(o1 / (o1 + o2))    \n",
    "    return sum(r) / len(r)\n",
    "\n",
    "@with_context(tags=[\"eval\"])\n",
    "def ask_for_preferences(config, query):\n",
    "    text = query.query + \"\\n\\n\"\n",
    "\n",
    "    ids = []\n",
    "    for _ in range(len(query.descriptions)):\n",
    "        item_id = config.rnd.randint(1500, 9999)\n",
    "        while item_id in ids:\n",
    "            item_id = config.rnd.randint(1500, 9999)        \n",
    "        ids.append(item_id)\n",
    "\n",
    "    for item_id, desc in zip(ids, query.descriptions):\n",
    "        text += f\"## {user_text[query.entry_type]} {item_id}\\n{desc.text}\\n\\n\"\n",
    "    \n",
    "    @dataclass\n",
    "    class Choice:\n",
    "         answer: int = Field(description=\"One of the following integer: \" + or_join(list(map(str, ids)))) \n",
    "\n",
    "    answer = query_model(engine, text)\n",
    "    result = query_for_json(engine, Choice, \"What product was chosen based on the following answer?\\n\\n\" + answer, throw_on_failure=False)\n",
    "    if result is None:\n",
    "        return None\n",
    "    if result.answer not in ids:\n",
    "        return None\n",
    "    return ids.index(result.answer)\n",
    "\n",
    "\n",
    "def wrapper(config, query):\n",
    "    idx = ask_for_preferences(config, query)\n",
    "    if idx is None:\n",
    "        return \"Invalid\"\n",
    "    return str(query.descriptions[idx].origin)\n",
    "\n",
    "def evaluate(config, results, query_name, entry, ai_descs):\n",
    "    query_str = questions[query_name]\n",
    "    counter = {str(Origin.Ai): 0, str(Origin.Human): 0, \"Invalid\": 0}\n",
    "    for i, human_desc in enumerate(entry.human_desc):\n",
    "            for j, ai_desc in enumerate(ai_descs):\n",
    "                query = Query(query=query_str, entry_type=entry.type, descriptions=[human_desc, ai_desc])\n",
    "                counter[wrapper(config, query)] += 1\n",
    "                query = Query(query=query_str, entry_type=entry.type, descriptions=[ai_desc, human_desc])\n",
    "                counter[wrapper(config, query)] += 1\n",
    "    results[query_name] = counter\n",
    "\n",
    "N_AI_ANSWERS = 10\n",
    "\n",
    "# f\"Choose the better {entry_type} of the following:\\n\"\n",
    "def run_experiment(engine, tag):\n",
    "    with Context(\"root\", storage=storage, tags=[tag]) as ctx:\n",
    "        rnd = random.Random(\"b24e179ef8a27f061ae2ac307db2b7b2\")\n",
    "        config = Config(engine=engine, rnd=rnd)\n",
    "        for entry in entries:\n",
    "            with Context(f\"entry {entry.filename}\", inputs={\"entry\": entry}) as c:\n",
    "                ai_descs = []\n",
    "                with Context(\"Generating AI answers\"):\n",
    "                    for i in range(N_AI_ANSWERS):\n",
    "                        assert entry.type == \"product\"  # Need to update for others\n",
    "                        if entry.type == \"product\":\n",
    "                            #prompt = f\"Write an advertising description for {entry.type}: {entry.prompt}\"\n",
    "                            prompt = f\"Write an advertising description for the following product that will attractive to buyers: {entry.prompt}\"\n",
    "                        else:\n",
    "                            raise Exception(\"Unknown type\")\n",
    "                        desc = query_model(engine, prompt)\n",
    "                        ai_descs.append(Description(origin=Origin.Ai, text=desc))\n",
    "                results = {}\n",
    "                with Context(\"Evaluating\"): \n",
    "                    #evaluate(results, \"better\", f\"Choose better {user_text[entry.type]} of the following:\", entry, ai_descs)\n",
    "                    #evaluate(results, \"informative\", f\"Choose more informative text of the following:\", entry, ai_descs)\n",
    "                    evaluate(config, results, \"marketplace\", entry, ai_descs)\n",
    "                    evaluate(config, results, \"sellers\", entry, ai_descs)\n",
    "                c.set_result(results)\n",
    "        ctx.set_result({\n",
    "            \"avg\": {\n",
    "                \"marketplace\": compute_avg(ctx, \"marketplace\"),\n",
    "                \"sellers\": compute_avg(ctx, \"sellers\"),\n",
    "            },\n",
    "            \"charts\": {\n",
    "                \"marketplace\": capture_figure(make_chart(ctx, \"marketplace\")),\n",
    "                \"sellers\": capture_figure(make_chart(ctx, \"sellers\")),\n",
    "            }\n",
    "        })\n",
    "    return ctx\n",
    "#engine = langchain.chat_models.ChatOpenAI(model_name='gpt-4')    \n",
    "engine = langchain.chat_models.ChatOpenAI(model_name='gpt-3.5-turbo')\n",
    "ctx = run_experiment(engine, engine.model_name)"
   ]
  },
  {
   "cell_type": "code",
   "execution_count": 6,
   "id": "b959a50b-a501-45e7-a89e-be6e6b789a85",
   "metadata": {},
   "outputs": [],
   "source": [
    "#ctx = storage.read_context(\"2023-11-01T12:28:17-root-Huigdc\")"
   ]
  },
  {
   "cell_type": "code",
   "execution_count": 9,
   "id": "da4a4705-3963-4a68-9489-ed312465854b",
   "metadata": {},
   "outputs": [],
   "source": [
    "ctx.write_html(\"/home/spirali/tmp/gpt35-v5.html\")\n",
    "\n",
    "r = []\n",
    "for child in ctx.children:\n",
    "    b = child.result[\"sellers\"]\n",
    "    o1 = b[\"Origin.Ai\"]\n",
    "    o2 = b[\"Origin.Human\"]\n",
    "    r.append(o1 / (o1 + o2))"
   ]
  },
  {
   "cell_type": "code",
   "execution_count": 10,
   "id": "9637d225-3624-4c96-913b-f0a3408663fe",
   "metadata": {},
   "outputs": [
    {
     "data": {
      "text/plain": [
       "0.6880555555555556"
      ]
     },
     "execution_count": 10,
     "metadata": {},
     "output_type": "execute_result"
    }
   ],
   "source": [
    "sum(r) / len(r)"
   ]
  },
  {
   "cell_type": "code",
   "execution_count": 6,
   "id": "1a148a2a-f409-4e2f-a294-734fd66bfc1b",
   "metadata": {},
   "outputs": [
    {
     "data": {
      "image/png": "[encoded data removed]",
      "text/plain": [
       "<Figure size 640x480 with 1 Axes>"
      ]
     },
     "metadata": {},
     "output_type": "display_data"
    },
    {
     "data": {
      "image/png": "[encoded data removed]",
      "text/plain": [
       "<Figure size 640x480 with 1 Axes>"
      ]
     },
     "metadata": {},
     "output_type": "display_data"
    }
   ],
   "source": [
    "better = []\n",
    "informative = []\n",
    "\n",
    "for child in ctx.children:\n",
    "    entry = child.inputs[\"entry\"]\n",
    "    name = os.path.basename(entry[\"filename\"][:-5])\n",
    "    b = child.result[\"marketplace\"]\n",
    "    o1 = b[\"Origin.Ai\"]\n",
    "    o2 = b[\"Origin.Human\"]\n",
    "    better.append((name, o1 / (o1 + o2)))\n",
    "\n",
    "    b = child.result[\"ab\"]\n",
    "    o1 = b[\"Origin.Ai\"]\n",
    "    o2 = b[\"Origin.Human\"]\n",
    "    informative.append((name, o1 / (o1 + o2)))\n",
    "\n",
    "plt.figure()\n",
    "better.sort(key=lambda x: x[0])\n",
    "better.sort(key=lambda x: -x[1])\n",
    "plt.bar(x=[x[0] for x in better], height=[x[1] for x in better])\n",
    "plt.xticks(rotation=30)\n",
    "\n",
    "plt.figure()\n",
    "informative.sort(key=lambda x: x[0])\n",
    "informative.sort(key=lambda x: -x[1])\n",
    "plt.bar(x=[x[0] for x in informative], height=[x[1] for x in informative])\n",
    "plt.xticks(rotation=30)\n",
    "\n",
    "None"
   ]
  },
  {
   "cell_type": "code",
   "execution_count": null,
   "id": "6a526abd-edb8-46bd-b119-6257dfb01367",
   "metadata": {},
   "outputs": [],
   "source": []
  },
  {
   "cell_type": "code",
   "execution_count": null,
   "id": "3f2c3421-319f-4b57-9c3d-a2055450252e",
   "metadata": {},
   "outputs": [],
   "source": []
  },
  {
   "cell_type": "code",
   "execution_count": null,
   "id": "45076c05-324d-4db0-bf6f-0fe21ee1be84",
   "metadata": {},
   "outputs": [],
   "source": []
  },
  {
   "cell_type": "code",
   "execution_count": null,
   "id": "17cb1ea1-53fe-4db7-9537-5bc4f7a7b67a",
   "metadata": {},
   "outputs": [],
   "source": []
  }
 ],
 "metadata": {
  "kernelspec": {
   "display_name": "Python 3 (ipykernel)",
   "language": "python",
   "name": "python3"
  },
  "language_info": {
   "codemirror_mode": {
    "name": "ipython",
    "version": 3
   },
   "file_extension": ".py",
   "mimetype": "text/x-python",
   "name": "python",
   "nbconvert_exporter": "python",
   "pygments_lexer": "ipython3",
   "version": "3.10.12"
  }
 },
 "nbformat": 4,
 "nbformat_minor": 5
}
